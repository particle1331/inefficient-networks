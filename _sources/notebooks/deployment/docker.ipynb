{
 "cells": [
  {
   "cell_type": "markdown",
   "metadata": {},
   "source": [
    "# Containerization with Docker"
   ]
  },
  {
   "cell_type": "markdown",
   "metadata": {},
   "source": [
    "![Status](https://img.shields.io/static/v1.svg?label=Status&message=Finished&color=brightgreen)\n",
    "[![Source](https://img.shields.io/static/v1.svg?label=GitHub&message=Source&color=181717&logo=GitHub)](https://github.com/particle1331/inefficient-networks/blob/master/docs/notebooks/deployment/docker.ipynb)\n",
    "[![Stars](https://img.shields.io/github/stars/particle1331/inefficient-networks?style=social)](https://github.com/particle1331/inefficient-networks)\n",
    "\n",
    "---\n",
    "\n",
    "```text\n",
    "𝗔𝘁𝘁𝗿𝗶𝗯𝘂𝘁𝗶𝗼𝗻: Builds on Week 5: Deploying Machine Learning Models of the ML Zoomcamp (2021). (github.com/alexeygrigorev/mlbookcamp-code/tree/master/course-zoomcamp/05-deployment)\n",
    "```\n",
    "\n",
    "\n",
    "## Introduction"
   ]
  },
  {
   "cell_type": "markdown",
   "metadata": {},
   "source": [
    "Docker takes virtual environments one step further by isolating the entire application from the rest of the infrastructure of your host machine. Recall that to resolve conflicts with dependencies, we usually create multiple virtual environments for each service. Instead, we can create separate **containers** for each service using Docker. \n",
    "\n",
    "Containers are allows services to run isolated from each other. This is nice especially if the application have side-effects that can affect other services or the host. Moreover, containers can be run anywhere (i.e. any x86 server running a modern Linux kernel) with the same standard behavior. For example, we will show how to deploy the [Prediction Serving API](https://particle1331.github.io/inefficient-networks/notebooks/deployment/model-serving-api.html) in the cloud using AWS Elastic Beanstalk.\n",
    "\n"
   ]
  },
  {
   "cell_type": "markdown",
   "metadata": {},
   "source": [
    "**Readings**\n",
    "* [Creating an AWS Account](https://mlbookcamp.com/article/aws)\n",
    "* [A Beginner’s Guide to Understanding and Building Docker Images](https://jfrog.com/knowledge-base/a-beginners-guide-to-understanding-and-building-docker-images/#products)\n",
    "* [AWS Elastic Beanstalk Features](https://aws.amazon.com/elasticbeanstalk/details/)"
   ]
  },
  {
   "cell_type": "markdown",
   "metadata": {},
   "source": [
    "## Getting started"
   ]
  },
  {
   "cell_type": "markdown",
   "metadata": {},
   "source": [
    "Pulling `python-3.8.12-slim`, which is a small, optimized Docker image that runs Python 3.8.12 from Docker Hub. We run this with `-it` so Python runs in interactive mode and `--rm` so that the image will be deleted after exiting. \n",
    "\n",
    "```bash\n",
    "docker run -it --rm python:3.8.12-slim\n",
    "```\n",
    "```\n",
    "Unable to find image 'python:3.8.12-slim' locally\n",
    "3.8.12-slim: Pulling from library/python\n",
    "279a020076a7: Pull complete\n",
    "035530c61301: Pull complete\n",
    "430f5ca6cd82: Pull complete\n",
    "594f692a6b57: Pull complete\n",
    "70b1dc4462d0: Pull complete\n",
    "Digest: sha256:a2d8844be9a3d5df8cd64c11bba476156cbfe5991db643c83e88ae383c15b5d0\n",
    "Status: Downloaded newer image for python:3.8.12-slim\n",
    "Python 3.8.12 (default, Mar  1 2022, 21:13:32)\n",
    "[GCC 10.2.1 20210110] on linux\n",
    "Type \"help\", \"copyright\", \"credits\" or \"license\" for more information.\n",
    ">>>\n",
    "```"
   ]
  },
  {
   "cell_type": "markdown",
   "metadata": {},
   "source": [
    "We can specify the entry point to `bash` so we can access the terminal:\n",
    "\n",
    "```bash\n",
    "docker run -it --rm --entrypoint=bash python:3.8.12-slim\n",
    "```\n",
    "```bash\n",
    "root@fc40952e1b70:/# ls\n",
    "bin   dev  home  media\topt   root  sbin  sys  usr\n",
    "boot  etc  lib\t mnt\tproc  run   srv   tmp  var\n",
    "root@fc40952e1b70:/#\n",
    "```"
   ]
  },
  {
   "cell_type": "markdown",
   "metadata": {},
   "source": [
    "## Dockerfile"
   ]
  },
  {
   "cell_type": "markdown",
   "metadata": {},
   "source": [
    "Docker can build images automatically by reading the instructions from a `Dockerfile`. This contains all the commands a user could call on the command line to assemble an image. We will save our `Dockerfile` in the root of [`model-deployment/api`](https://github.com/particle1331/model-deployment/tree/eb/api). Note that we switch to `python:3.9.12-slim` to match the development environment of our prediction serving API."
   ]
  },
  {
   "cell_type": "markdown",
   "metadata": {},
   "source": [
    "```{margin}\n",
    "[`api/Dockerfile`](https://github.com/particle1331/model-deployment/blob/eb/api/Dockerfile)\n",
    "```"
   ]
  },
  {
   "cell_type": "markdown",
   "metadata": {},
   "source": [
    "```Dockerfile\n",
    "FROM python:3.9.12-slim\n",
    "\n",
    "WORKDIR /app\n",
    "\n",
    "COPY [\"*.py\", \"*.txt\", \"./\"]\n",
    "\n",
    "COPY [\"app\", \"./app/\"]\n",
    "\n",
    "RUN pip install -r requirements.txt\n",
    "\n",
    "EXPOSE 8000\n",
    "\n",
    "ENTRYPOINT [\"uvicorn\", \"app.main:app\", \"--host\", \"0.0.0.0\", \"--port\", \"8000\"]\n",
    "```"
   ]
  },
  {
   "cell_type": "markdown",
   "metadata": {},
   "source": [
    "This sets `app` as the working directory which will create it and `cd` the terminal to it. The next statement copies the contents of the `api` directory in the host, that is in the same directory as our `Dockerfile`, into the current directory in the container which is `app`. Then, dependencies are installed and port `8000` is exposed to the host. Finally, the uvicorn server at `0.0.0.0:8000` is set as the container's default entry point. "
   ]
  },
  {
   "cell_type": "markdown",
   "metadata": {},
   "source": [
    "## Running containers"
   ]
  },
  {
   "cell_type": "markdown",
   "metadata": {},
   "source": [
    "To build the image from the `Dockerfile` in the same directory:"
   ]
  },
  {
   "cell_type": "markdown",
   "metadata": {},
   "source": [
    "```bash\n",
    "docker build -t service .\n",
    "```"
   ]
  },
  {
   "cell_type": "markdown",
   "metadata": {},
   "source": [
    "Here `-t` means tag which we set to `service`. Note that while the port `8000` of the container is exposed to the host, we still have to connect this to the host's port `8000` which is accessed by the browser. We do this below in running the container with `-p 8000:8000`:"
   ]
  },
  {
   "cell_type": "markdown",
   "metadata": {},
   "source": [
    "```bash\n",
    "docker run -it --rm -p 8000:8000 service\n",
    "```\n",
    "```text\n",
    "INFO:     Started server process [1]\n",
    "2022-05-11 16:30:55.668 | INFO     | uvicorn.server:serve:75 - Started server process [1]\n",
    "INFO:     Waiting for application startup.\n",
    "2022-05-11 16:30:55.668 | INFO     | uvicorn.lifespan.on:startup:45 - Waiting for application startup.\n",
    "INFO:     Application startup complete.\n",
    "2022-05-11 16:30:55.668 | INFO     | uvicorn.lifespan.on:startup:59 - Application startup complete.\n",
    "INFO:     Uvicorn running on http://0.0.0.0:8000 (Press CTRL+C to quit)\n",
    "2022-05-11 16:30:55.668 | INFO     | uvicorn.server:_log_started_message:206 - Uvicorn running on http://0.0.0.0:8000 (Press CTRL+C to quit)\n",
    "```"
   ]
  },
  {
   "cell_type": "markdown",
   "metadata": {},
   "source": [
    "```{figure} ../../img/docker-host.png\n",
    "---\n",
    "width: 30em\n",
    "---\n",
    "Connecting the container ports with localhost ports.\n",
    "```"
   ]
  },
  {
   "cell_type": "markdown",
   "metadata": {},
   "source": [
    "Setting the entrypoint to `bash` to see the files inside of the container:"
   ]
  },
  {
   "cell_type": "markdown",
   "metadata": {},
   "source": [
    "```bash\n",
    "docker run -it --rm --entrypoint=bash service\n",
    "```\n",
    "```bash\n",
    "root@35864429a154:/app# ls\n",
    "Procfile  mypy.ini\t    runtime.txt\t\t   tests\n",
    "app\t  requirements.txt  test_requirements.txt  tox.ini\n",
    "root@35864429a154:/app#\n",
    "```"
   ]
  },
  {
   "cell_type": "markdown",
   "metadata": {},
   "source": [
    "## Deploying to the cloud"
   ]
  },
  {
   "cell_type": "markdown",
   "metadata": {},
   "source": [
    "In this section, we deploy our application to the cloud using AWS Elastic Beanstalk (EB). Using this, we can simply upload our code and EB automatically handles the deployment, from capacity provisioning, load balancing, and automatic scaling to web application health monitoring. Regarding pricing, there is no additional charge for EB: what you pay for are the AWS resources that are created to store and run your web application, like Amazon S3 buckets and Amazon EC2 instances.\n",
    "\n",
    "\n",
    "This section requires one to have an AWS account and an IAM user in this account. This can be done pretty quickly by following [this article](https://mlbookcamp.com/article/aws). After this, we have to install the EB CLI:"
   ]
  },
  {
   "cell_type": "markdown",
   "metadata": {},
   "source": [
    "```bash\n",
    "pip install awsebcli\n",
    "```"
   ]
  },
  {
   "cell_type": "markdown",
   "metadata": {},
   "source": [
    "### Initialization"
   ]
  },
  {
   "cell_type": "markdown",
   "metadata": {},
   "source": [
    "Initializing our EB application. Setting the platform `-p` to `docker` for obvious reasons, the region `-r` to `us-east-1` and the name of the application as `house-prices`. This requires IAM user credentials which we enter in the terminal.\n",
    "\n",
    "```bash\n",
    "eb init -p docker -r us-east-1 house-prices\n",
    "```\n",
    "```text\n",
    "You have not yet set up your credentials or your credentials are incorrect\n",
    "You must provide your credentials.\n",
    "(aws-access-id): *********\n",
    "(aws-secret-key): ***************************\n",
    "Application house-prices has been created.\n",
    "```\n",
    "\n",
    "Notice this creates a `.elasticbeanstalk` directory containing a `config.yml` file:\n",
    "\n",
    "```YAML\n",
    "branch-defaults:\n",
    "  default:\n",
    "    environment: null\n",
    "global:\n",
    "  application_name: house-prices\n",
    "  branch: null\n",
    "  default_ec2_keyname: null\n",
    "  default_platform: Docker\n",
    "  default_region: us-east-1\n",
    "  include_git_submodules: true\n",
    "  instance_profile: null\n",
    "  platform_name: null\n",
    "  platform_version: null\n",
    "  profile: eb-cli\n",
    "  repository: null\n",
    "  sc: null\n",
    "  workspace_type: Application\n",
    "```"
   ]
  },
  {
   "cell_type": "markdown",
   "metadata": {},
   "source": [
    "### Testing locally"
   ]
  },
  {
   "cell_type": "markdown",
   "metadata": {},
   "source": [
    "It's always good to test run the container locally in EB:"
   ]
  },
  {
   "cell_type": "markdown",
   "metadata": {},
   "source": [
    "```bash\n",
    "eb local run --port 8000\n",
    "```\n",
    "```text\n",
    "3.9.12-slim: Pulling from library/python\n",
    "dfdd5ffb2577: Already exists\n",
    "22d252b4015f: Already exists\n",
    "38a20a308c16: Already exists\n",
    "74b110b743da: Already exists\n",
    "573e544d3cdf: Already exists\n",
    "Digest: sha256:49082c5b5851e62d5daa510b65fe1120b295ae08a96d7f2cb854f2aa054b5939\n",
    "Status: Downloaded newer image for python:3.9.12-slim\n",
    "docker.io/library/python:3.9.12-slim\n",
    "#1 [internal] load build definition from Dockerfile\n",
    "#1 sha256:acee64af890dcf198eaccfc920f8dfb2cf1918b27a4851b90cb764e113295108\n",
    "#1 transferring dockerfile: 37B 0.0s done\n",
    "#1 DONE 0.1s\n",
    "#2 [internal] load .dockerignore\n",
    "#2 sha256:46314d5fc4c9248a818ba2a1b91451a6b08b21e730c78edc9c9952952e7d4421\n",
    "#2 transferring context: 34B done\n",
    "#2 DONE 0.0s\n",
    "#3 [internal] load metadata for docker.io/library/python:3.9.12-slim\n",
    "#3 sha256:c1f4e52590624a81c4bc4ec7e3ed4861d41ab781ab36aaf259f7f7767d36f68c\n",
    "#3 DONE 0.0s\n",
    "#4 [1/5] FROM docker.io/library/python:3.9.12-slim\n",
    "#4 sha256:6776e43cfb11ad7ef6edd8ab8ef9d3899c912fd1fdb680b44fda719e54ccf196\n",
    "#4 DONE 0.0s\n",
    "#6 [internal] load build context\n",
    "#6 sha256:bb9f786c56a5eb86bb5c84216cbe2897c14ca0a3d64efcfd01c555b11e3e65cd\n",
    "#6 transferring context: 916B 0.0s done\n",
    "#6 DONE 0.0s\n",
    "#8 [4/5] COPY [app, ./app/]\n",
    "#8 sha256:4f55637d9c3689c282b25ba0444f63b0c83ac448d6b9103fef3be1a660fc72a8\n",
    "#8 CACHED\n",
    "#7 [3/5] COPY [*.py, *.txt, ./]\n",
    "#7 sha256:128f400076c6f3660053196b9faf8de680097f2c514447e5729eb65cccdd3916\n",
    "#7 CACHED\n",
    "#5 [2/5] WORKDIR /app\n",
    "#5 sha256:51924f7a2648c15715590a60e237a35d77e1c14c70c8f66a2f7089d2eec93a33\n",
    "#5 CACHED\n",
    "#9 [5/5] RUN pip install -r requirements.txt\n",
    "#9 sha256:13a22462bc4dcec6b6acec1628de97a6a0779be00a56074fb4f62b966ce8373b\n",
    "#9 CACHED\n",
    "#10 exporting to image\n",
    "#10 sha256:e8c613e07b0b7ff33893b694f7759a10d42e180f2b4dc349fb57dc6b71dcab00\n",
    "#10 exporting layers done\n",
    "#10 writing image sha256:cf6140074279c0ec497e6d016fb8588b38b6dbd8c96cf3807d65940c76fddabe done\n",
    "#10 naming to docker.io/library/jg71b5:may6ra done\n",
    "#10 DONE 0.0s\n",
    "Use 'docker scan' to run Snyk tests against images to find vulnerabilities and learn how to fix them\n",
    "INFO:     Started server process [1]\n",
    "2022-05-12 16:56:37.551 | INFO     | uvicorn.server:serve:75 - Started server process [1]\n",
    "INFO:     Waiting for application startup.\n",
    "2022-05-12 16:56:37.552 | INFO     | uvicorn.lifespan.on:startup:45 - Waiting for application startup.\n",
    "INFO:     Application startup complete.\n",
    "2022-05-12 16:56:37.555 | INFO     | uvicorn.lifespan.on:startup:59 - Application startup complete.\n",
    "INFO:     Uvicorn running on http://0.0.0.0:8000 (Press CTRL+C to quit)\n",
    "2022-05-12 16:56:37.572 | INFO     | uvicorn.server:_log_started_message:206 - Uvicorn running on http://0.0.0.0:8000 (Press CTRL+C to quit)\n",
    "```"
   ]
  },
  {
   "cell_type": "markdown",
   "metadata": {},
   "source": [
    "### Creating the environment"
   ]
  },
  {
   "cell_type": "markdown",
   "metadata": {},
   "source": [
    "Since the app works with EB locally, we can now create an actual EB environment in the cloud that underlies the web application:"
   ]
  },
  {
   "cell_type": "markdown",
   "metadata": {},
   "source": [
    "```bash\n",
    "eb create house-prices-env\n",
    "```\n",
    "```text\n",
    "Creating application version archive \"app-220513_010945910655\".\n",
    "Uploading: [##################################################] 100% Done...\n",
    "Environment details for: house-prices-env\n",
    "  Application name: house-prices\n",
    "  Region: us-east-1\n",
    "  Deployed Version: app-220513_010945910655\n",
    "  Environment ID: e-vcacgx5qpw\n",
    "  Platform: arn:aws:elasticbeanstalk:us-east-1::platform/Docker running on 64bit Amazon Linux 2/3.4.15\n",
    "  Tier: WebServer-Standard-1.0\n",
    "  CNAME: UNKNOWN\n",
    "  Updated: 2022-05-12 17:10:55.488000+00:00\n",
    "Printing Status:\n",
    "2022-05-12 17:10:53    INFO    createEnvironment is starting.\n",
    "2022-05-12 17:10:55    INFO    Using elasticbeanstalk-us-east-1-886789456404 as Amazon S3 storage bucket for environment data.\n",
    "2022-05-12 17:11:21    INFO    Created security group named: sg-0079e2cdd92f7bd73\n",
    "2022-05-12 17:11:36    INFO    Created load balancer named: awseb-e-v-AWSEBLoa-1E6LZRJC4OG9G\n",
    "2022-05-12 17:11:36    INFO    Created security group named: awseb-e-vcacgx5qpw-stack-AWSEBSecurityGroup-16CWEUUKXFVWK\n",
    "2022-05-12 17:11:36    INFO    Created Auto Scaling launch configuration named: awseb-e-vcacgx5qpw-stack-AWSEBAutoScalingLaunchConfiguration-2fyUMTUX8xJC\n",
    "2022-05-12 17:13:11    INFO    Created Auto Scaling group named: awseb-e-vcacgx5qpw-stack-AWSEBAutoScalingGroup-SH3I567DJCWT\n",
    "2022-05-12 17:13:11    INFO    Waiting for EC2 instances to launch. This may take a few minutes.\n",
    "2022-05-12 17:13:11    INFO    Created Auto Scaling group policy named: arn:aws:autoscaling:us-east-1:886789456404:scalingPolicy:c67fd119-c153-45b7-abf0-a53e04cdcb2a:autoScalingGroupName/awseb-e-vcacgx5qpw-stack-AWSEBAutoScalingGroup-SH3I567DJCWT:policyName/awseb-e-vcacgx5qpw-stack-AWSEBAutoScalingScaleUpPolicy-140KQ45K015EH\n",
    "2022-05-12 17:13:11    INFO    Created Auto Scaling group policy named: arn:aws:autoscaling:us-east-1:886789456404:scalingPolicy:9532adfe-20c6-4892-9e65-33cad550506c:autoScalingGroupName/awseb-e-vcacgx5qpw-stack-AWSEBAutoScalingGroup-SH3I567DJCWT:policyName/awseb-e-vcacgx5qpw-stack-AWSEBAutoScalingScaleDownPolicy-1W6BQSN057XIR\n",
    "2022-05-12 17:13:11    INFO    Created CloudWatch alarm named: awseb-e-vcacgx5qpw-stack-AWSEBCloudwatchAlarmHigh-L6AEUYI9GTPI\n",
    "2022-05-12 17:13:11    INFO    Created CloudWatch alarm named: awseb-e-vcacgx5qpw-stack-AWSEBCloudwatchAlarmLow-1IPO2R5GWMUVZ\n",
    "2022-05-12 17:14:59    INFO    Instance deployment completed successfully.\n",
    "2022-05-12 17:15:04    INFO    Application available at house-prices-env.eba-kxppppph.us-east-1.elasticbeanstalk.com.\n",
    "2022-05-12 17:15:09    INFO    Successfully launched environment: house-prices-env\n",
    "```"
   ]
  },
  {
   "cell_type": "markdown",
   "metadata": {},
   "source": [
    "```{figure} ../../img/ebhome.png\n",
    "---\n",
    "---\n",
    "The prediction serving API can now be accessed using the internet.\n",
    "```"
   ]
  },
  {
   "cell_type": "markdown",
   "metadata": {},
   "source": [
    "```{figure} ../../img/eb-ui.png\n",
    "---\n",
    "---\n",
    "\n",
    "Elastic Beanstalk web UI.\n",
    "\n",
    "```"
   ]
  },
  {
   "cell_type": "markdown",
   "metadata": {},
   "source": [
    "```{figure} ../../img/eb-ui2.png\n",
    "---\n",
    "---\n",
    "\n",
    "Dashboard for the prediction serving API web app environment showing logs and health. Here the application is being terminated.\n",
    "\n",
    "```"
   ]
  },
  {
   "cell_type": "markdown",
   "metadata": {},
   "source": [
    "### Making a request"
   ]
  },
  {
   "cell_type": "markdown",
   "metadata": {},
   "source": [
    "Let us try making a request for a house price prediction given input data:"
   ]
  },
  {
   "cell_type": "code",
   "execution_count": 13,
   "metadata": {},
   "outputs": [
    {
     "name": "stdout",
     "output_type": "stream",
     "text": [
      "{\n",
      "    \"errors\": null,\n",
      "    \"version\": \"0.1.0\",\n",
      "    \"predictions\": [\n",
      "        113422.55344864173\n",
      "    ]\n",
      "}\n"
     ]
    }
   ],
   "source": [
    "import requests\n",
    "import json\n",
    "\n",
    "inputs = {\n",
    "  \"inputs\": [\n",
    "    {\n",
    "      \"MSSubClass\": 20,\n",
    "      \"MSZoning\": \"RH\",\n",
    "      \"LotFrontage\": 80,\n",
    "      \"LotArea\": 11622,\n",
    "      \"Street\": \"Pave\",\n",
    "      \"LotShape\": \"Reg\",\n",
    "      \"LandContour\": \"Lvl\",\n",
    "      \"Utilities\": \"AllPub\",\n",
    "      \"LotConfig\": \"Inside\",\n",
    "      \"LandSlope\": \"Gtl\",\n",
    "      \"Neighborhood\": \"NAmes\",\n",
    "      \"Condition1\": \"Feedr\",\n",
    "      \"Condition2\": \"Norm\",\n",
    "      \"BldgType\": \"1Fam\",\n",
    "      \"HouseStyle\": \"1Story\",\n",
    "      \"OverallQual\": 5,\n",
    "      \"OverallCond\": 6,\n",
    "      \"YearBuilt\": 1961,\n",
    "      \"YearRemodAdd\": 1961,\n",
    "      \"RoofStyle\": \"Gable\",\n",
    "      \"RoofMatl\": \"CompShg\",\n",
    "      \"Exterior1st\": \"VinylSd\",\n",
    "      \"Exterior2nd\": \"VinylSd\",\n",
    "      \"MasVnrType\": \"None\",\n",
    "      \"MasVnrArea\": 0,\n",
    "      \"ExterQual\": \"TA\",\n",
    "      \"ExterCond\": \"TA\",\n",
    "      \"Foundation\": \"CBlock\",\n",
    "      \"BsmtQual\": \"TA\",\n",
    "      \"BsmtCond\": \"TA\",\n",
    "      \"BsmtExposure\": \"No\",\n",
    "      \"BsmtFinType1\": \"Rec\",\n",
    "      \"BsmtFinSF1\": 468,\n",
    "      \"BsmtFinType2\": \"LwQ\",\n",
    "      \"BsmtFinSF2\": 144,\n",
    "      \"BsmtUnfSF\": 270,\n",
    "      \"TotalBsmtSF\": 882,\n",
    "      \"Heating\": \"GasA\",\n",
    "      \"HeatingQC\": \"TA\",\n",
    "      \"CentralAir\": \"Y\",\n",
    "      \"Electrical\": \"SBrkr\",\n",
    "      \"FirstFlrSF\": 896,\n",
    "      \"SecondFlrSF\": 0,\n",
    "      \"LowQualFinSF\": 0,\n",
    "      \"GrLivArea\": 896,\n",
    "      \"BsmtFullBath\": 0,\n",
    "      \"BsmtHalfBath\": 0,\n",
    "      \"FullBath\": 1,\n",
    "      \"HalfBath\": 0,\n",
    "      \"BedroomAbvGr\": 2,\n",
    "      \"KitchenAbvGr\": 1,\n",
    "      \"KitchenQual\": \"TA\",\n",
    "      \"TotRmsAbvGrd\": 5,\n",
    "      \"Functional\": \"Typ\",\n",
    "      \"Fireplaces\": 0,\n",
    "      \"GarageType\": \"Attchd\",\n",
    "      \"GarageYrBlt\": 1961,\n",
    "      \"GarageFinish\": \"Unf\",\n",
    "      \"GarageCars\": 1,\n",
    "      \"GarageArea\": 730,\n",
    "      \"GarageQual\": \"TA\",\n",
    "      \"GarageCond\": \"TA\",\n",
    "      \"PavedDrive\": \"Y\",\n",
    "      \"WoodDeckSF\": 140,\n",
    "      \"OpenPorchSF\": 0,\n",
    "      \"EnclosedPorch\": 0,\n",
    "      \"ThreeSsnPortch\": 0,\n",
    "      \"ScreenPorch\": 120,\n",
    "      \"PoolArea\": 0,\n",
    "      \"Fence\": \"MnPrv\",\n",
    "      \"MiscVal\": 0,\n",
    "      \"MoSold\": 6,\n",
    "      \"YrSold\": 2010,\n",
    "      \"SaleType\": \"WD\",\n",
    "      \"SaleCondition\": \"Normal\"\n",
    "    }\n",
    "  ]\n",
    "}\n",
    "\n",
    "\n",
    "host = 'http://house-prices-env.eba-kxppppph.us-east-1.elasticbeanstalk.com'\n",
    "url = f'{host}/api/v1/predict'\n",
    "response = requests.post(url, json=inputs)\n",
    "result = response.json()\n",
    "\n",
    "print(json.dumps(result, indent=4))"
   ]
  },
  {
   "cell_type": "markdown",
   "metadata": {},
   "source": [
    "### Terminating the environment"
   ]
  },
  {
   "cell_type": "markdown",
   "metadata": {},
   "source": [
    "Note that this service is accessible to anyone on the internet. This is a security risk. In actual production, the service should only be accessible to the intended users. Hence, we now terminate the application. This can be done by simply running `eb terminate house-prices-env` in the CLI:\n",
    "\n",
    "```bash\n",
    "eb terminate house-prices-env\n",
    "```\n",
    "```text\n",
    "The environment \"house-prices-env\" and all associated instances will be terminated.\n",
    "To confirm, type the environment name: house-prices-env\n",
    "2022-05-12 21:54:53    INFO    terminateEnvironment is starting.\n",
    "2022-05-12 21:55:11    INFO    Deleted CloudWatch alarm named: awseb-e-23gau7nwzi-stack-AWSEBCloudwatchAlarmHigh-J443745IGHJ1\n",
    "2022-05-12 21:55:11    INFO    Deleted CloudWatch alarm named: awseb-e-23gau7nwzi-stack-AWSEBCloudwatchAlarmLow-MB18SO8WWYAQ\n",
    "2022-05-12 21:55:11    INFO    Deleted Auto Scaling group policy named: arn:aws:autoscaling:us-east-1:886789456404:scalingPolicy:d7505a15-779c-443a-9177-e7f7fb014bb3:autoScalingGroupName/awseb-e-23gau7nwzi-stack-AWSEBAutoScalingGroup-5NOVWKOF9ZLC:policyName/awseb-e-23gau7nwzi-stack-AWSEBAutoScalingScaleUpPolicy-FUW2YBNF7V2M\n",
    "2022-05-12 21:55:11    INFO    Deleted Auto Scaling group policy named: arn:aws:autoscaling:us-east-1:886789456404:scalingPolicy:35fc0640-05dd-4814-893c-f32bb0615313:autoScalingGroupName/awseb-e-23gau7nwzi-stack-AWSEBAutoScalingGroup-5NOVWKOF9ZLC:policyName/awseb-e-23gau7nwzi-stack-AWSEBAutoScalingScaleDownPolicy-15K1L1CIJDG7I\n",
    "2022-05-12 21:55:11    INFO    Waiting for EC2 instances to terminate. This may take a few minutes.\n",
    "2022-05-12 21:57:44    INFO    Deleted Auto Scaling group named: awseb-e-23gau7nwzi-stack-AWSEBAutoScalingGroup-5NOVWKOF9ZLC\n",
    "2022-05-12 21:57:59    INFO    Deleted load balancer named: awseb-e-2-AWSEBLoa-1LYFCW64ZS7SZ\n",
    "2022-05-12 21:58:00    INFO    Deleted Auto Scaling launch configuration named: awseb-e-23gau7nwzi-stack-AWSEBAutoScalingLaunchConfiguration-a5VmF3A2Bp0Y\n",
    "2022-05-12 21:58:00    INFO    Deleted security group named: awseb-e-23gau7nwzi-stack-AWSEBSecurityGroup-DN3MPY78253L\n",
    "2022-05-12 21:58:45    INFO    Deleted security group named: sg-0b2e76e66001617ea\n",
    "2022-05-12 21:58:47    INFO    Deleting SNS topic for environment house-prices-env.\n",
    "2022-05-12 21:58:52    INFO    terminateEnvironment completed successfully.\n",
    "```"
   ]
  },
  {
   "cell_type": "markdown",
   "metadata": {},
   "source": [
    "**Remark.** The astute reader will notice that this is a different environment from above. Indeed, we recreated `house-prices-env` for the sake of demonstration."
   ]
  },
  {
   "cell_type": "markdown",
   "metadata": {},
   "source": [
    "### Load balancing"
   ]
  },
  {
   "cell_type": "markdown",
   "metadata": {},
   "source": [
    "EB performs automatic load balancing under the hood. It will add more instances of the service when there are lots of request during peak hours, and automatically removes instances when there are no more requests. Moreover, the load balancer listens for incoming HTTP traffic and distributes it to the multiple instances on the same port, so the requests are dealt with in an efficient manner. The same process can also restart the application if it crashes for any reason.\n",
    "\n",
    "As a consequence of this automatic nature, applications should be designed to be **stateless**, as containers can be terminated and replaced at any time without your knowledge or involvement. For example, it should not store any data that will be used for future requests (recall that RESTful APIs adheres to this requirement)."
   ]
  },
  {
   "cell_type": "markdown",
   "metadata": {},
   "source": [
    "```{figure} ../../img/load-balancing.png\n",
    "---\n",
    "width: 35em\n",
    "---\n",
    "\n",
    "EB automatically load balances by scaling up or scaling down the number of containers depending on the rate of requests. The load is distributed to the multiple instances of the application.\n",
    "\n",
    "```"
   ]
  },
  {
   "cell_type": "markdown",
   "metadata": {},
   "source": []
  }
 ],
 "metadata": {
  "interpreter": {
   "hash": "a55a0d1272a360f93e747858d443ec26da69f69eac36db3e567a961ca624a861"
  },
  "kernelspec": {
   "display_name": "Python 3.9.12 ('ml')",
   "language": "python",
   "name": "python3"
  },
  "language_info": {
   "codemirror_mode": {
    "name": "ipython",
    "version": 3
   },
   "file_extension": ".py",
   "mimetype": "text/x-python",
   "name": "python",
   "nbconvert_exporter": "python",
   "pygments_lexer": "ipython3",
   "version": "3.9.12"
  }
 },
 "nbformat": 4,
 "nbformat_minor": 2
}
