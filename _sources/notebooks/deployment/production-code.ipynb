{
 "cells": [
  {
   "cell_type": "markdown",
   "metadata": {},
   "source": [
    "# Packaging Production Code"
   ]
  },
  {
   "cell_type": "markdown",
   "metadata": {},
   "source": [
    "![Status](https://img.shields.io/static/v1.svg?label=Status&message=Finished&color=brightgreen)\n",
    "[![Source](https://img.shields.io/static/v1.svg?label=GitHub&message=Source&color=181717&logo=GitHub)](https://github.com/particle1331/inefficient-networks/blob/master/docs/notebooks/deployment/production-code.ipynb)\n",
    "[![Stars](https://img.shields.io/github/stars/particle1331/inefficient-networks?style=social)](https://github.com/particle1331/inefficient-networks)\n",
    "\n",
    "\n",
    "---\n",
    "\n",
    "## Introduction"
   ]
  },
  {
   "cell_type": "markdown",
   "metadata": {},
   "source": [
    "Production code is designed to be deployed to end users as opposed to research code, which\n",
    "is for experimentation, building proof of concepts. Moreover, research code tends to be more short term in nature. On the other hand, with production code, we have some new considerations:\n",
    "\n",
    "\n",
    "- **Testability and maintainability.**\n",
    "We want to divide up our code into modules which are more extensible and easier to test.\n",
    "We separate config from code where possible, and ensure that functionality is tested and documented. We also look to ensure that our code adheres to standards like PEP 8 so that it's easy for others to read and maintain.  \n",
    "\n",
    "+++\n",
    "\n",
    "- **Scalability and performance.** \n",
    "With our production code, the code needs to be ready to be deployed to infrastructure that can be scaled. And in modern web applications, this typically means containerisation for vertical or horizontal scaling. \n",
    "Where appropriate, we might also refactor inefficient parts of the code base.  \n",
    "\n",
    "+++\n",
    "\n",
    "- **Reproducibility.**\n",
    "The code resides under version control with clear processes for tracking releases and release versions, requirements, files, mark which dependencies and which versions are used by the code.\n",
    "\n",
    "<br>\n",
    "\n",
    "```{margin}\n",
    "A **module** is basically just a Python file and a **package** is a\n",
    "collection of modules.\n",
    "```\n",
    "\n",
    "That is a quick overview of some of the key considerations with production code. In this article, we will be packaging up our machine learning model into a Python **package**. A package has certain standardized files which have to be present so that it can be published and then installed in other Python applications.\n",
    "Packaging allows us to wrap our train model and make it available to other consuming applications as a dependency, but with the additional benefits of version control, clear metadata and reproducibility.\n",
    "Note that [PyPI distributions](https://pypi.org/) have a 60MB limit after compression, so large models can't be published there. This [article](https://www.dampfkraft.com/code/distributing-large-files-with-pypi.html) provides multiple ways on how to overcome this size limitation for distributing Python packages."
   ]
  },
  {
   "cell_type": "markdown",
   "metadata": {},
   "source": [
    "## Code overview"
   ]
  },
  {
   "cell_type": "markdown",
   "metadata": {},
   "source": [
    "In order to create a package, we will follow certain Python standards and conventions and we will go into those in detail in subsequent sections. The structure of the resulting package looks like this:"
   ]
  },
  {
   "cell_type": "markdown",
   "metadata": {},
   "source": [
    "```{margin}\n",
    "[`model-deployment/packages/regression_model/`](https://github.com/particle1331/model-deployment/tree/heroku/packages/regression_model)\n",
    "```"
   ]
  },
  {
   "cell_type": "markdown",
   "metadata": {},
   "source": [
    "```\n",
    "regression_model/\n",
    "├── regression_model/\n",
    "│   ├── config/\n",
    "│   │   └── core.py\n",
    "│   ├── datasets/\n",
    "│   │   ├── train.csv\n",
    "│   │   ├── test.csv\n",
    "│   │   └── data_description.txt\n",
    "│   ├── processing/\n",
    "│   │   ├── data_manager.py\n",
    "│   │   ├── features.py\n",
    "│   │   ├── schemas.py\n",
    "│   │   └── validation.py\n",
    "│   ├── trained_models/\n",
    "│   ├── __init__.py\n",
    "│   ├── pipeline.py\n",
    "│   ├── predict.py\n",
    "│   ├── train_pipeline.py\n",
    "│   ├── config.yml\n",
    "│   └── VERSION\n",
    "├── requirements/\n",
    "│   ├── requirements.txt\n",
    "│   └── test_requirements.txt\n",
    "├── tests/\n",
    "│   ├── conftest.py\n",
    "│   ├── test_features.py\n",
    "│   └── test_prediction.py\n",
    "├── MANIFEST.in\n",
    "├── mypy.ini\n",
    "├── pyproject.toml\n",
    "├── setup.py\n",
    "└── tox.ini\n",
    "```"
   ]
  },
  {
   "cell_type": "markdown",
   "metadata": {},
   "source": [
    "Root files `MANIFEST.in`, `pyproject.toml`, `setup.py`, `mypy.ini` and `tox.ini` are either for packaging, or for tooling, like testing, linting, and type checking. We will be coming back to discuss these in more detail below. The `requirements/` directory is where we formalize the dependencies for our model package and also dependencies for the development and test environments. The sample tests are placed in the `tests/` directory. \n",
    "\n",
    "The `regression_model/` directory is where the majority of our functionality is located. This contains three key modules: `train_pipeline.py` for model training, `predict.py` for inference, and `pipeline.py` for assembling the feature engineering pipeline. These are top level files containing the key functionalities of the package. Note that the `__init__.py` module simply loads the package version. This allows us to call:"
   ]
  },
  {
   "cell_type": "code",
   "execution_count": 1,
   "metadata": {},
   "outputs": [
    {
     "data": {
      "text/plain": [
       "'0.1.0'"
      ]
     },
     "execution_count": 1,
     "metadata": {},
     "output_type": "execute_result"
    }
   ],
   "source": [
    "import regression_model\n",
    "regression_model.__version__"
   ]
  },
  {
   "cell_type": "markdown",
   "metadata": {},
   "source": [
    "Other directories in the model package contain helper functions for the base modules: `processing/` contains utility functions for processing data, `datasets/` contain datasets that we need to train and test the models, `trained_models/` is where we save the models that we persist as a pickle file, and the `config/core.py` module contains the `config` object which reads `config.yml` for the model. \n"
   ]
  },
  {
   "cell_type": "markdown",
   "metadata": {},
   "source": [
    "## Package requirements"
   ]
  },
  {
   "cell_type": "markdown",
   "metadata": {},
   "source": [
    "Note that the `requirements/` directory has two requirements files: one for development or testing, and one for the machine learning model. The versions listed in these files all adhere to [semantic versioning](https://www.geeksforgeeks.org/introduction-semantic-versioning/). Ranges are specified instead of exact versions since we assume that a minor version increment will not break the API. This takes advantage of bug fixes but also risking breaking the code in case the developers do not adhere to semantic versioning.\n",
    "\n",
    "\n",
    "```{margin}\n",
    "[`requirements/requirements.txt`](https://github.com/particle1331/model-deployment/tree/heroku/packages/regression_model/requirements/requirements.txt)\n",
    "```\n",
    "\n",
    "\n",
    "```\n",
    "numpy>=1.22.0,<1.23.0\n",
    "pandas>=1.4.0,<1.5.0\n",
    "pydantic>=1.8.1,<1.9.0\n",
    "scikit-learn>=1.0.0,<1.1.0\n",
    "strictyaml>=1.3.2,<1.4.0\n",
    "ruamel.yaml==0.16.12\n",
    "feature-engine>=1.0.2,<1.1.0\n",
    "joblib>=1.0.1,<1.1.0\n",
    "```\n",
    "\n",
    "The additional packages in the test requirements are only required when we want to test our package, or when we want to run style checks, linting, and type checks:\n",
    "\n",
    "```{margin}\n",
    "[`requirements/test_requirements.txt`](https://github.com/particle1331/model-deployment/tree/heroku/packages/regression_model/requirements/test_requirements.txt)\n",
    "```\n",
    "\n",
    "```\n",
    "# Install requirements.txt along with others\n",
    "-r requirements.txt\n",
    "\n",
    "# Testing requirements\n",
    "pytest>=6.2.3,<6.3.0\n",
    "\n",
    "# Repo maintenance tooling\n",
    "black==20.8b1\n",
    "flake8>=3.9.0,<3.10.0\n",
    "mypy==0.812\n",
    "isort==5.8.0\n",
    "```\n",
    "\n",
    "The `requirements.txt` approach to managing our projects dependencies is probably the most basic way of doing dependency management in Python.\n",
    "Nothing wrong with it at all. Many of the biggest open source projects out there use this exact approach. There are other dependency managers out there such as [Poetry](https://www.youtube.com/watch?v=Xf8K3v8_JwQ) and [Pipenv](https://pipenv.pypa.io/en/latest/basics/). But the principle of defining your dependencies and specifying the version ranges remains the same across all of the tools."
   ]
  },
  {
   "cell_type": "markdown",
   "metadata": {},
   "source": [
    "## Working with tox"
   ]
  },
  {
   "cell_type": "markdown",
   "metadata": {},
   "source": [
    "\n",
    "Now we are going to see our package in action on some of its main commands. To start, if we've just cloned the repository and we have a look at our `trained_models/` directory you can see that its empty. There are no other files inside train models right now. We can generate a trained model serialized as a `.pkl` file by running:\n",
    "\n",
    "```\n",
    "tox -e train\n",
    "``` \n",
    "\n",
    "This triggers our train pipeline script. Here we use tox which is a generic virtual environment management and test command line tool. For our purposes here, this means that with tox we do not have to worry about setting up paths, virtual environments, and environment variables. All of that stuff are done inside our `tox.ini` file. This is a great tool, and it's worth adding to your toolbox to get started with tox."
   ]
  },
  {
   "cell_type": "markdown",
   "metadata": {},
   "source": [
    "```{margin}\n",
    "[`tox.ini`](https://github.com/particle1331/model-deployment/tree/heroku/packages/regression_model/tox.ini)\n",
    "```\n",
    "\n",
    "```ini\n",
    "# Tox is a generic virtualenv management and test command line tool. Its goal is to\n",
    "# standardize testing in Python. We will be using it extensively in this course.\n",
    "\n",
    "# Using Tox we can (on multiple operating systems):\n",
    "# + Eliminate PYTHONPATH challenges when running scripts/tests\n",
    "# + Eliminate virtualenv setup confusion\n",
    "# + Streamline steps such as model training, model publishing\n",
    "\n",
    "\n",
    "[tox]\n",
    "envlist = test_package, typechecks, stylechecks, lint\n",
    "skipsdist = True\n",
    "\n",
    "\n",
    "[testenv]\n",
    "install_command = pip install {opts} {packages}\n",
    "\n",
    "\n",
    "[testenv:test_package]\n",
    "deps =\n",
    "\t-rrequirements/test_requirements.txt\n",
    "\n",
    "setenv =\n",
    "\tPYTHONPATH=.\n",
    "\tPYTHONHASHSEED=0\n",
    "\n",
    "commands =\n",
    "\tpython regression_model/train_pipeline.py\n",
    "\tpytest -s -vv tests/\n",
    "\n",
    "\n",
    "[testenv:train]\n",
    "envdir \t = {toxworkdir}/test_package\n",
    "deps \t = {[testenv:test_package]deps}\n",
    "setenv \t = {[testenv:test_package]setenv}\n",
    "commands = \n",
    "\tpython regression_model/train_pipeline.py\n",
    "\n",
    "# ...\n",
    "```"
   ]
  },
  {
   "cell_type": "markdown",
   "metadata": {},
   "source": [
    "Every time you see something in square brackets, this is a different tox environment. An environment is something which is going to set up a virtual environment in your `.tox` hidden directory. We can run commands within a specific environment, and we can also inherit commands and dependencies from other environments (using the `:` syntax). This is a sort of foundational unit when working with tox."
   ]
  },
  {
   "cell_type": "markdown",
   "metadata": {},
   "source": [
    "Here we have the default `tox` environment and a default `testenv` environment.\n",
    "This means that if we run the `tox` command on its own, it will run all the commands in these different environments: `test_package`, `typechecks`, `stylechecks`, and `lint`. These names correspond to environments defined further in the file. Setting `skipsdist=True` means we do not want to build the package when using tox. The `testenv` is almost like a base class, if you think of inheritance. And so this `install_command` is going to be consistent whenever we inherit from this base environment."
   ]
  },
  {
   "cell_type": "markdown",
   "metadata": {},
   "source": [
    "For `test_package` environment which inherits from `testenv`, we define `deps` and that tells tox that for this particular environment, we need to install `requirements/test_requirements.txt` with flag `-r`. This also sets environmental variables `PYTHONPATH=.` for the root directory and `PYTHONHASHSEED=0` to disable setting hash seed to a random integer for test commands. Finally, the following two commands are run:\n",
    "\n",
    "```\n",
    "$ python regression_model/train_pipeline.py\n",
    "$ pytest -s -vv tests\n",
    "```\n",
    "\n",
    "Here `-s` means to disable all capturing and `-vv` to get verbose outputs. To run this environment:\n",
    "\n",
    "```\n",
    "$ tox -e test_package\n",
    "test_package installed: appdirs==1.4.4,attrs==21.4.0,black==20.8b1,click==8.0.4,feature-engine==1.0.2,flake8==3.9.2,iniconfig==1.1.1,isort==5.8.0,joblib==1.0.1,mccabe==0.6.1,mypy==0.812,mypy-extensions==0.4.3,numpy==1.22.3,packaging==21.3,pandas==1.4.1,pathspec==0.9.0,patsy==0.5.2,pluggy==1.0.0,py==1.11.0,pycodestyle==2.7.0,pydantic==1.8.2,pyflakes==2.3.1,pyparsing==3.0.7,pytest==6.2.5,python-dateutil==2.8.2,pytz==2021.3,regex==2022.3.2,ruamel.yaml==0.16.12,ruamel.yaml.clib==0.2.6,scikit-learn==1.0.2,scipy==1.8.0,six==1.16.0,statsmodels==0.13.2,strictyaml==1.3.2,threadpoolctl==3.1.0,toml==0.10.2,typed-ast==1.4.3,typing_extensions==4.1.1\n",
    "test_package run-test-pre: PYTHONHASHSEED='0'\n",
    "test_package run-test: commands[0] | python regression_model/train_pipeline.py\n",
    "test_package run-test: commands[1] | pytest -s -vv tests/\n",
    "============================= test session starts ==============================\n",
    "platform darwin -- Python 3.8.12, pytest-6.2.5, py-1.11.0, pluggy-1.0.0 -- /Users/particle1331/code/model-deployment/packages/regression_model.tox/test_package/bin/python\n",
    "cachedir: .tox/test_package/.pytest_cache\n",
    "rootdir: /Users/particle1331/code/model-deployment/production, configfile: pyproject.toml\n",
    "collected 2 items\n",
    "\n",
    "tests/test_features.py::test_temporal_variable_transformer PASSED\n",
    "tests/test_prediction.py::test_make_prediction PASSED\n",
    "\n",
    "============================== 2 passed in 0.19s ===============================\n",
    "___________________________________ summary ____________________________________\n",
    "  test_package: commands succeeded\n",
    "  congratulations :)\n",
    "```"
   ]
  },
  {
   "cell_type": "markdown",
   "metadata": {},
   "source": [
    "Next we have the `train` environment. Notice that `envdir` is set to `{toxworkdir}/test_package`. This tells tox to use the `test_package` virtual environment in the hidden `.tox` directory. Setting `{[testenv:test_package]...}` for `deps` and `setenv` means that `train` will use the same dependencies and environment settings as `test_package`. This saves time and resources from having to setup a new virtual environment. After setting up the environment, the training pipeline is triggered without running the tests:"
   ]
  },
  {
   "cell_type": "markdown",
   "metadata": {},
   "source": [
    "```\n",
    "$ tox -e train\n",
    "train installed: appdirs==1.4.4,attrs==21.4.0,black==20.8b1,click==8.0.4,feature-engine==1.0.2,flake8==3.9.2,iniconfig==1.1.1,isort==5.8.0,joblib==1.0.1,mccabe==0.6.1,mypy==0.812,mypy-extensions==0.4.3,numpy==1.22.3,packaging==21.3,pandas==1.4.1,pathspec==0.9.0,patsy==0.5.2,pluggy==1.0.0,py==1.11.0,pycodestyle==2.7.0,pydantic==1.8.2,pyflakes==2.3.1,pyparsing==3.0.7,pytest==6.2.5,python-dateutil==2.8.2,pytz==2021.3,regex==2022.3.2,ruamel.yaml==0.16.12,ruamel.yaml.clib==0.2.6,scikit-learn==1.0.2,scipy==1.8.0,six==1.16.0,statsmodels==0.13.2,strictyaml==1.3.2,threadpoolctl==3.1.0,toml==0.10.2,typed-ast==1.4.3,typing_extensions==4.1.1\n",
    "train run-test-pre: PYTHONHASHSEED='0'\n",
    "train run-test: commands[0] | python regression_model/train_pipeline.py\n",
    "___________________________________ summary ____________________________________\n",
    "  train: commands succeeded\n",
    "  congratulations :)\n",
    "```"
   ]
  },
  {
   "cell_type": "markdown",
   "metadata": {},
   "source": [
    "If you look at the `tox.ini` source file, we also have tox commands for running our type checks, style checks, and linting. These are defined following the same pattern as the `train` environment."
   ]
  },
  {
   "cell_type": "markdown",
   "metadata": {},
   "source": [
    "## Package config"
   ]
  },
  {
   "cell_type": "markdown",
   "metadata": {},
   "source": [
    "In this section, we are going to talk about how we structure our config. You may have noticed that we have a `config.yml` file here inside the `regression_model/` directory. A good rule of thumb is that you want to limit the amount of power that your config files have. If you write them in Python, it'll be tempting to add small bits of Python code and that can cause bugs. Moreover, config files in standard formats like YAML or JSON can also be edited by developers who do not know Python. For our purposes, we have taken all those global constants and hyperparameters, and put them in YAML format in the `config.yml` file.\n"
   ]
  },
  {
   "cell_type": "markdown",
   "metadata": {},
   "source": [
    "```{margin}\n",
    "[`regression_model/config.yml`](https://github.com/particle1331/model-deployment/tree/heroku/packages/regression_model/regression_model/config.yml)\n",
    "```\n",
    "\n",
    "````{note} \n",
    "If you're not familiar with YAML syntax, we explain its most relevant features here. Key-value pairs corresponds to an assignment operation: `package_name: regression_model` will be loaded as `package_name = \"regression_model\"` in Python. Nested keys with indentation will be read as keys of a dictionary:\n",
    "\n",
    "```yaml\n",
    "variables_to_rename:\n",
    "  1stFlrSF: FirstFlrSF\n",
    "  2ndFlrSF: SecondFlrSF\n",
    "  3SsnPorch: ThreeSsnPortch\n",
    "```\n",
    "\n",
    "```python\n",
    "variables_to_rename = {'1stFlrSF': 'FirstFlrSF', '2ndFlrSF': 'SecondFlrSF', '3SsnPorch': 'ThreeSsnPortch'}\n",
    "```\n",
    "\n",
    "Finally, we have the indented hyphen syntax which is going to be a list.\n",
    "\n",
    "```yaml\n",
    "numericals_log_vars:\n",
    "  - LotFrontage\n",
    "  - FirstFlrSF\n",
    "  - GrLivArea\n",
    "```\n",
    "\n",
    "```python\n",
    "numericals_log_vars = ['LotFrontage', 'FirstFlrSF', 'GrLivArea']\n",
    "```\n",
    "````"
   ]
  },
  {
   "cell_type": "markdown",
   "metadata": {},
   "source": [
    "If we head over to the `config/` directory, we have our `core.py` file, there are a few things that are happening here. First, we are using `pathlib` to define the location of files and directories that we're interested in using. Here `regression_model.__file__` refers to the `__init__.py` file in `regression_model/`, so that `PACKAGE_ROOT` refers to the path of `regression_model/`. We also define the paths of the config YAML file, the datasets, and trained models."
   ]
  },
  {
   "cell_type": "markdown",
   "metadata": {},
   "source": [
    "```{margin}\n",
    "[`regression_model/config/core.py`](https://github.com/particle1331/model-deployment/tree/heroku/packages/regression_model/regression_model/config/core.py)\n",
    "```\n",
    "\n",
    "```python\n",
    "# Project Directories\n",
    "PACKAGE_ROOT = Path(regression_model.__file__).resolve().parent\n",
    "ROOT = PACKAGE_ROOT.parent\n",
    "CONFIG_FILE_PATH = PACKAGE_ROOT / \"config.yml\"\n",
    "DATASET_DIR = PACKAGE_ROOT / \"datasets\"\n",
    "TRAINED_MODEL_DIR = PACKAGE_ROOT / \"trained_models\"\n",
    "\n",
    "\n",
    "class AppConfig(BaseModel):\n",
    "    \"\"\"\n",
    "    Application-level config.\n",
    "    \"\"\"\n",
    "\n",
    "    package_name: str\n",
    "    training_data_file: str\n",
    "    test_data_file: str\n",
    "    pipeline_save_file: str\n",
    "\n",
    "\n",
    "class ModelConfig(BaseModel):\n",
    "    \"\"\"\n",
    "    All configuration relevant to model training and feature engineering.\n",
    "    \"\"\"\n",
    "\n",
    "    target: str\n",
    "    variables_to_rename: Dict\n",
    "    features: List[str]\n",
    "    test_size: float\n",
    "    random_state: int\n",
    "    alpha: float\n",
    "    categorical_vars_with_na_frequent: List[str]\n",
    "    categorical_vars_with_na_missing: List[str]\n",
    "    numerical_vars_with_na: List[str]\n",
    "    temporal_vars: List[str]\n",
    "    ref_var: str\n",
    "    numericals_log_vars: Sequence[str]\n",
    "    binarize_vars: Sequence[str]\n",
    "    qual_vars: List[str]\n",
    "    exposure_vars: List[str]\n",
    "    finish_vars: List[str]\n",
    "    garage_vars: List[str]\n",
    "    categorical_vars: Sequence[str]\n",
    "    qual_mappings: Dict[str, int]\n",
    "    exposure_mappings: Dict[str, int]\n",
    "    garage_mappings: Dict[str, int]\n",
    "    finish_mappings: Dict[str, int]\n",
    "```"
   ]
  },
  {
   "cell_type": "markdown",
   "metadata": {},
   "source": [
    "Here we use `BaseModel` from [`pydantic`](https://pydantic-docs.helpmanual.io/) to define our config classes. \n",
    "Pydantic is an excellent library for data validation and settings management using Python type annotations. This is really powerful because it means we do not have to learn a new sort of micro language for data parsing and schema validation.\n",
    "We can just use Pydantic and our existing knowledge of Python type hints.\n",
    "And so, this gives us a really clear and powerful way to understand and \n",
    "potentially test our config, and to prevent introducing bugs into our model.\n",
    "\n",
    "For the sake of separating concerns, we define two subconfigs: everything to do with our \n",
    "model, and then everything to do with our package. Developmental concerns, like the package name and \n",
    "the location of the pipeline, go into the `AppConfig` data model. The data science configs\n",
    "go into `ModelConfig`. Then, we wrap it in an overall config:"
   ]
  },
  {
   "cell_type": "markdown",
   "metadata": {},
   "source": [
    "```{margin}\n",
    "[`regression_model/config/core.py`](https://github.com/particle1331/model-deployment/tree/heroku/packages/regression_model/regression_model/config/core.py)\n",
    "```\n",
    "\n",
    "```python\n",
    "class Config(BaseModel):\n",
    "    \"\"\"Master config object.\"\"\"\n",
    "\n",
    "    app_config: AppConfig\n",
    "    model_config: ModelConfig\n",
    "```\n",
    "\n",
    "At the bottom of the `core` config module, we have three helper functions. Our `config` object, \n",
    "which is what we're going to be importing in other modules, is defined through this \n",
    "`create_and_validate_config` function.\n",
    "This uses our `parse_config_from_yaml` function, which using `CONFIG_FILE_PATH` specified above\n",
    "will check that the file exists, and then attempt to load it using the `strictyaml` load function.\n",
    "\n",
    "\n",
    "```{margin}\n",
    "[`regression_model/config/core.py`](https://github.com/particle1331/model-deployment/tree/heroku/packages/regression_model/regression_model/config/core.py)\n",
    "```\n",
    "\n",
    "```python\n",
    "def validate_config_file_path(cfg_path: Path) -> Path:\n",
    "    \"\"\"Locate the configuration file.\"\"\"\n",
    "\n",
    "    if not cfg_path.is_file():\n",
    "        raise OSError(f\"Config not found at {cfg_path!r}\")\n",
    "\n",
    "    return cfg_path\n",
    "\n",
    "\n",
    "def parse_config_from_yaml(cfg_path: Path) -> YAML:\n",
    "    \"\"\"Parse YAML containing the package configuration.\"\"\"\n",
    "\n",
    "    cfg_path = validate_config_file_path(cfg_path)\n",
    "    with open(cfg_path, \"r\") as conf_file:\n",
    "        parsed_config = load(conf_file.read())\n",
    "\n",
    "    return parsed_config\n",
    "\n",
    "\n",
    "def create_and_validate_config(parsed_config: YAML) -> Config:\n",
    "    \"\"\"Run validation on config values.\"\"\"\n",
    "\n",
    "    return Config(\n",
    "        app_config=AppConfig(**parsed_config.data),\n",
    "        model_config=ModelConfig(**parsed_config.data),\n",
    "    )\n",
    "\n",
    "\n",
    "_parsed_config = parse_config_from_yaml(CONFIG_FILE_PATH)\n",
    "config = create_and_validate_config(_parsed_config)\n",
    "```"
   ]
  },
  {
   "cell_type": "markdown",
   "metadata": {},
   "source": [
    "And once we load it in our YAML file, we then unpack the key value\n",
    "pairs here and pass them to `AppConfig` and `ModelConfig` as keyword arguments \n",
    "to instantiate these classes.\n",
    "And that results in us having this `config` object, which is what we are going to be importing around our package."
   ]
  },
  {
   "cell_type": "markdown",
   "metadata": {},
   "source": [
    "## Model training pipeline"
   ]
  },
  {
   "cell_type": "markdown",
   "metadata": {},
   "source": [
    "Now that we've looked at our config, let's dig into the main `regression/train_pipeline.py` scripts. \n",
    "This is what we've been running in our `tox` commands. If we open up this file, you can see we have one \n",
    "function, which is `run_training`.\n",
    "And if we step through what's happening here, we are loading in the training data and we've created\n",
    "some utility functions like this `load_dataset` function, which comes from our `data_manager` module. \n",
    "After loading, we use the standard train-test split. The test set obtained here can be used \n",
    "to evaluate the model which can be part of the automated tests during retraining. Here we are making use \n",
    "of our `config` object to specify the parameters of this function. It's important to note that we log-transform \n",
    "our targets prior to training.\n",
    "\n",
    "Another thing of note here is that train data is validated using the `validate_inputs` function before training. \n",
    "This ensures that the fresh training data (perhaps during retraining) looks the same as during the development phase of the project. More on this later when we get to the `validation` module. \n",
    "\n",
    "```{margin}\n",
    "[`regression_model/train_pipeline.py`](https://github.com/particle1331/model-deployment/tree/heroku/packages/regression_model/regression_model/train_pipeline.py) \n",
    "```\n",
    "\n",
    "```python\n",
    "import numpy as np\n",
    "from sklearn.model_selection import train_test_split\n",
    "\n",
    "from regression_model.config.core import config\n",
    "from regression_model.pipeline import price_pipe\n",
    "from regression_model.processing.data_manager import load_dataset, save_pipeline\n",
    "from regression_model.processing.validation import validate_inputs\n",
    "\n",
    "\n",
    "def run_training() -> None:\n",
    "    \"\"\"Train the model.\"\"\"\n",
    "\n",
    "    # Read training data\n",
    "    data = load_dataset(file_name=config.app_config.training_data_file)\n",
    "    X = data[config.model_config.features]\n",
    "    y = data[config.model_config.target]\n",
    "\n",
    "    # Divide train and test\n",
    "    X_train, X_test, y_train, y_test = train_test_split(\n",
    "        validate_inputs(input_data=X),\n",
    "        y,\n",
    "        test_size=config.model_config.test_size,\n",
    "        random_state=config.model_config.random_state,\n",
    "    )\n",
    "    y_train = np.log(y_train)  # <-- ⚠ Invert before serving preds\n",
    "\n",
    "    # Fit model\n",
    "    price_pipe.fit(X_train, y_train)\n",
    "\n",
    "    # Persist trained model\n",
    "    save_pipeline(pipeline_to_persist=price_pipe)\n",
    "\n",
    "\n",
    "if __name__ == \"__main__\":\n",
    "    run_training()\n",
    "```\n"
   ]
  },
  {
   "cell_type": "markdown",
   "metadata": {},
   "source": [
    "The load function is defined as follows. We also rename variables beginning with numbers to avoid syntax errors. In case you're wondering, the `*` syntax forces all arguments to be named when passed. In other words, positional argument is not allowed. These are technical fixes that should not affect the quality of the model."
   ]
  },
  {
   "cell_type": "markdown",
   "metadata": {},
   "source": [
    "```{margin}\n",
    "[`regression_model/processing/data_manager.py`](https://github.com/particle1331/model-deployment/tree/heroku/packages/regression_model/regression_model/processing/data_manager.py)\n",
    "```\n",
    "\n",
    "```python\n",
    "def load_dataset(*, file_name: str) -> pd.DataFrame:\n",
    "    \"\"\"Load (and preprocess) dataset.\"\"\"\n",
    "\n",
    "    dataframe = pd.read_csv(DATASET_DIR / file_name)\n",
    "    dataframe = dataframe.rename(columns=config.model_config.variables_to_rename)\n",
    "    return dataframe\n",
    "```"
   ]
  },
  {
   "cell_type": "markdown",
   "metadata": {},
   "source": [
    "Next, we have our `price_pipe` which is a `scikit-learn` pipeline object and we'll look at the `pipeline` module in a moment, in the next section. But you can see here how we use it to fit the data. After fitting the pipeline, we use the `save_pipeline` function to persist it. This also takes care of naming the pipeline which depends on the current package version. \n",
    "The other nontrivial part of the save function is the `remove_old_pipelines` which deletes all files inside `trained_models/` so long as the file is not the init file. This ensures that there is always precisely one model inside the storage directory minimizing the chance of making a mistake."
   ]
  },
  {
   "cell_type": "markdown",
   "metadata": {},
   "source": [
    "\n",
    "```{margin}\n",
    "[`regression_model/processing/data_manager.py`](https://github.com/particle1331/model-deployment/tree/heroku/packages/regression_model/regression_model/processing/data_manager.py)\n",
    "```\n",
    "\n",
    "```python\n",
    "def save_pipeline(*, pipeline_to_persist: Pipeline) -> None:\n",
    "    \"\"\"Persist the pipeline.\n",
    "    Saves the versioned model, and overwrites any previous saved models.\n",
    "    This ensures that when the package is published, there is only one\n",
    "    trained model that can be called, and we know exactly how it was built.\"\"\"\n",
    "    \n",
    "    # Prepare versioned save file name\n",
    "    save_file_name = f\"{config.app_config.pipeline_save_file}{_version}.pkl\"\n",
    "    save_path = TRAINED_MODEL_DIR / save_file_name\n",
    "\n",
    "    remove_old_pipelines()\n",
    "    joblib.dump(pipeline_to_persist, save_path)\n",
    "\n",
    "\n",
    "def remove_old_pipelines() -> None:\n",
    "    \"\"\"Remove old model pipelines.\n",
    "    This is to ensure there is a simple one-to-one mapping between \n",
    "    the package version and the model version to be imported and \n",
    "    used by other applications.\"\"\"\n",
    "    \n",
    "    do_not_delete = [\"__init__.py\"]\n",
    "    for model_file in TRAINED_MODEL_DIR.iterdir():\n",
    "        if model_file.name not in do_not_delete:\n",
    "            model_file.unlink()  # Delete\n",
    "```"
   ]
  },
  {
   "cell_type": "markdown",
   "metadata": {},
   "source": [
    "And then the last step in our save pipeline function is to use the job serialisation library to persist\n",
    "the pipeline as a `.pkl` file to `trained_models/` which is the save path defined in the config."
   ]
  },
  {
   "cell_type": "markdown",
   "metadata": {},
   "source": [
    "## Feature engineering"
   ]
  },
  {
   "cell_type": "markdown",
   "metadata": {},
   "source": [
    "In this section, we will look at our feature engineering pipeline. Looking at the code, we apply transformations sequentially transform the input data. Note that transformations from `feature-engine` make each step human readable by specifying variables where the transformations are applied to. Refer to the [Modelling with Pipelines](https://particle1331.github.io/inefficient-networks/notebooks/fundamentals/pipelines.html) notebook for a construction of this pipeline."
   ]
  },
  {
   "cell_type": "markdown",
   "metadata": {},
   "source": [
    "```{margin}\n",
    "[`regression_model/pipeline.py`](https://github.com/particle1331/model-deployment/tree/heroku/packages/regression_model/regression_model/pipeline.py)\n",
    "```\n",
    "\n",
    "```python\n",
    "from feature_engine.encoding import OrdinalEncoder, RareLabelEncoder\n",
    "from feature_engine.imputation import AddMissingIndicator, CategoricalImputer, MeanMedianImputer\n",
    "from feature_engine.selection import DropFeatures\n",
    "from feature_engine.transformation import LogTransformer\n",
    "from feature_engine.wrappers import SklearnTransformerWrapper\n",
    "from sklearn.linear_model import Lasso\n",
    "from sklearn.pipeline import Pipeline\n",
    "from sklearn.preprocessing import Binarizer, MinMaxScaler\n",
    "\n",
    "from regression_model.config.core import config\n",
    "from regression_model.processing import features as pp\n",
    "\n",
    "price_pipe = Pipeline(\n",
    "    [\n",
    "        # ===== IMPUTATION =====\n",
    "        # Impute categorical variables with string missing\n",
    "        (\n",
    "            \"missing_imputation\",\n",
    "            CategoricalImputer(\n",
    "                imputation_method=\"missing\",\n",
    "                variables=config.model_config.categorical_vars_with_na_missing,\n",
    "            ),\n",
    "        ),\n",
    "        \n",
    "        # Impute categorical variables with most frequent category\n",
    "        (\n",
    "            \"frequent_imputation\",\n",
    "            CategoricalImputer(\n",
    "                imputation_method=\"frequent\",\n",
    "                variables=config.model_config.categorical_vars_with_na_frequent,\n",
    "            ),\n",
    "        ),\n",
    "        \n",
    "        # Add missing indicator\n",
    "        (\n",
    "            \"missing_indicator\",\n",
    "            AddMissingIndicator(variables=config.model_config.numerical_vars_with_na),\n",
    "        ),\n",
    "        \n",
    "        # Impute numerical variables with the mean\n",
    "        (\n",
    "            \"mean_imputation\",\n",
    "            MeanMedianImputer(\n",
    "                imputation_method=\"mean\",\n",
    "                variables=config.model_config.numerical_vars_with_na,\n",
    "            ),\n",
    "        ),\n",
    "        \n",
    "        # ===== TEMPORAL VARIABLES =====\n",
    "        (\n",
    "            \"elapsed_time\",\n",
    "            pp.TemporalVariableTransformer(\n",
    "                variables=config.model_config.temporal_vars,\n",
    "                reference_variable=config.model_config.ref_var,\n",
    "            ),\n",
    "        ),\n",
    "        (\"drop_features\", DropFeatures(features_to_drop=[config.model_config.ref_var])),\n",
    "        \n",
    "        # ===== VARIABLE TRANSFORMATION =====\n",
    "        (\n",
    "            \"log\", \n",
    "            LogTransformer(\n",
    "                variables=config.model_config.numericals_log_vars\n",
    "            )\n",
    "        ),\n",
    "        \n",
    "        (\n",
    "            \"binarizer\",\n",
    "            SklearnTransformerWrapper(\n",
    "                transformer=Binarizer(threshold=0),\n",
    "                variables=config.model_config.binarize_vars,\n",
    "            ),\n",
    "        ),\n",
    "        \n",
    "        # ===== MAPPERS =====\n",
    "        (\n",
    "            \"mapper_qual\",\n",
    "            pp.Mapper(\n",
    "                variables=config.model_config.qual_vars,\n",
    "                mappings=config.model_config.qual_mappings,\n",
    "            ),\n",
    "        ),\n",
    "        \n",
    "        (\n",
    "            \"mapper_exposure\",\n",
    "            pp.Mapper(\n",
    "                variables=config.model_config.exposure_vars,\n",
    "                mappings=config.model_config.exposure_mappings,\n",
    "            ),\n",
    "        ),\n",
    "        \n",
    "        (\n",
    "            \"mapper_finish\",\n",
    "            pp.Mapper(\n",
    "                variables=config.model_config.finish_vars,\n",
    "                mappings=config.model_config.finish_mappings,\n",
    "            ),\n",
    "        ),\n",
    "\n",
    "        (\n",
    "            \"mapper_garage\",\n",
    "            pp.Mapper(\n",
    "                variables=config.model_config.garage_vars,\n",
    "                mappings=config.model_config.garage_mappings,\n",
    "            ),\n",
    "        ),\n",
    "        \n",
    "        # ===== CATEGORICAL ENCODING =====\n",
    "        # Encode infrequent categorical variable with category \"Rare\"\n",
    "        (\n",
    "            \"rare_label_encoder\",\n",
    "            RareLabelEncoder(\n",
    "                tol=0.01, n_categories=1, variables=config.model_config.categorical_vars\n",
    "            ),\n",
    "        ),        \n",
    "        \n",
    "        # Encode categorical variables using the target mean\n",
    "        (\n",
    "            \"categorical_encoder\",\n",
    "            OrdinalEncoder(\n",
    "                encoding_method=\"ordered\",\n",
    "                variables=config.model_config.categorical_vars,\n",
    "            ),\n",
    "        ),\n",
    "        \n",
    "        (\n",
    "            \"scaler\", \n",
    "            MinMaxScaler()\n",
    "        ),\n",
    "\n",
    "        # ===== REGRESSION MODEL (LASSO) =====\n",
    "        (\n",
    "            \"Lasso\",\n",
    "            Lasso(\n",
    "                alpha=config.model_config.alpha,\n",
    "                random_state=config.model_config.random_state,\n",
    "            ),\n",
    "        ),\n",
    "    ]\n",
    ")\n",
    "```"
   ]
  },
  {
   "cell_type": "markdown",
   "metadata": {},
   "source": [
    "In addition to transformers imported from `feature-engine`, we also have some custom ones created\n",
    "in the `processing.features` module. Recall that custom transformers are constructed by inheriting from `BaseEstimator` and `TransformerMixin` and specifying a `fit` and a `transform` method. This allows the custom transformer to be used as part of pipeline and cross-validation code.\n",
    "\n",
    "The transformation defined in `TemporalVariableTransformer` replaces any temporal variable `t` with `t0 - t` for some reference variable `t0`. From expericen, intervals work better for linear models than specific values (such as years). Then, the variable `t0` is dropped since its information has been incorporated in the other temporal variables. "
   ]
  },
  {
   "cell_type": "markdown",
   "metadata": {},
   "source": [
    "```{margin}\n",
    "[`regression_model/processing/features.py`](https://github.com/particle1331/model-deployment/tree/heroku/packages/regression_model/regression_model/processing/features.py)\n",
    "```\n",
    "```python\n",
    "class TemporalVariableTransformer(BaseEstimator, TransformerMixin):\n",
    "    \"\"\"Temporal elapsed time transformer.\"\"\"\n",
    "\n",
    "    def __init__(self, variables: List[str], reference_variable: str):\n",
    "\n",
    "        if not isinstance(variables, list):\n",
    "            raise ValueError(\"variables should be a list\")\n",
    "\n",
    "        self.variables = variables\n",
    "        self.reference_variable = reference_variable\n",
    "\n",
    "    def fit(self, X: pd.DataFrame, y: pd.Series = None):\n",
    "        return self\n",
    "\n",
    "    def transform(self, X: pd.DataFrame) -> pd.DataFrame:\n",
    "        # So that we do not over-write the original DataFrame\n",
    "        X = X.copy()\n",
    "\n",
    "        for feature in self.variables:\n",
    "            X[feature] = X[self.reference_variable] - X[feature]\n",
    "\n",
    "        return X\n",
    "```"
   ]
  },
  {
   "cell_type": "markdown",
   "metadata": {},
   "source": [
    "Next, we have the `Mapper` class which simply maps features to other values as specified in the `mappings` dictionary argument. The mappings and the mapped variables are specified in the config file. "
   ]
  },
  {
   "cell_type": "markdown",
   "metadata": {},
   "source": [
    "```{margin}\n",
    "[`regression_model/processing/features.py`](https://github.com/particle1331/model-deployment/tree/heroku/packages/regression_model/regression_model/processing/features.py)\n",
    "```\n",
    "```python\n",
    "class Mapper(BaseEstimator, TransformerMixin):\n",
    "    \"\"\"Categorical variable mapper.\"\"\"\n",
    "\n",
    "    def __init__(self, variables: List[str], mappings: dict):\n",
    "\n",
    "        if not isinstance(variables, list):\n",
    "            raise ValueError(\"variables should be a list\")\n",
    "\n",
    "        self.variables = variables\n",
    "        self.mappings = mappings\n",
    "\n",
    "    def fit(self, X: pd.DataFrame, y: pd.Series = None):\n",
    "        return self\n",
    "\n",
    "    def transform(self, X: pd.DataFrame) -> pd.DataFrame:\n",
    "        X = X.copy()\n",
    "        for feature in self.variables:\n",
    "            X[feature] = X[feature].map(self.mappings)\n",
    "\n",
    "        return X\n",
    "```"
   ]
  },
  {
   "cell_type": "markdown",
   "metadata": {},
   "source": [
    "Note that additional feature engineering steps can be easily implemented by adding it to our pipeline at whatever point in the pipeline it makes sense  following the above design pattern: using transformers from `feature-engine` or defining custom transformers that implement a `variables` attribute."
   ]
  },
  {
   "cell_type": "markdown",
   "metadata": {},
   "source": [
    "### Testing our feature transformation"
   ]
  },
  {
   "cell_type": "markdown",
   "metadata": {},
   "source": [
    "Let us look at how to test specific steps in the pipeline. In particular, those that are defined in the `processing.features` module. From the `test.csv` dataset, we can see in the first line that the `YrRemodAdd` is 1961 and `YrSold` is 2010. Thus, we expect the transformed `YrRemodAdd` value to be 49. This is reflected in the following test. Take note of the design pattern for tests where each test is separated into three phases: setup, conditions, and expectations. "
   ]
  },
  {
   "cell_type": "markdown",
   "metadata": {},
   "source": [
    "```{margin}\n",
    "[`tests/test_features.py`](https://github.com/particle1331/model-deployment/tree/heroku/packages/regression_model/tests/test_features.py)\n",
    "```\n",
    "\n",
    "```python\n",
    "def test_temporal_variable_transformer(sample_input_data):\n",
    "    # Given\n",
    "    transformer = TemporalVariableTransformer(\n",
    "        variables=config.model_config.temporal_vars,  # YearRemodAdd\n",
    "        reference_variable=config.model_config.ref_var,\n",
    "    )\n",
    "    assert sample_input_data[\"YearRemodAdd\"].iat[0] == 1961\n",
    "\n",
    "    # When\n",
    "    subject = transformer.fit_transform(sample_input_data)\n",
    "\n",
    "    # Then\n",
    "    assert subject[\"YearRemodAdd\"].iat[0] == 49\n",
    "```"
   ]
  },
  {
   "cell_type": "markdown",
   "metadata": {},
   "source": [
    "Note that fixture `sample_input_data` is the `test.csv` dataset loaded in the [`conftest` module](https://github.com/particle1331/model-deployment/tree/heroku/packages/regression_model/tests/conftest.py). Here replacing the test with any integer other than 49 will break the test. In an actual project, we should have unit tests here for every bit of feature engineering that we will do. As well as some more complex tests that go along with the spirit of the feature engineering and feature transformation pipeline. "
   ]
  },
  {
   "cell_type": "markdown",
   "metadata": {},
   "source": [
    "## Validation and prediction pipeline"
   ]
  },
  {
   "cell_type": "markdown",
   "metadata": {},
   "source": [
    "For the final piece of functionality, we take a look at the prediction pipeline of our regression model. The concerned functions live in the `predict` and `validation` modules. We also use the `load_pipeline` function in `data_manager` which simply implements `joblib.load` to work with our package structure."
   ]
  },
  {
   "cell_type": "markdown",
   "metadata": {},
   "source": [
    "```{margin}\n",
    "[`regression_model/processing/data_manager.py`](https://github.com/particle1331/model-deployment/tree/heroku/packages/regression_model/regression_model/processing/data_manager.py)\n",
    "```\n",
    "\n",
    "```python\n",
    "def load_pipeline(*, file_name: str) -> Pipeline:\n",
    "    \"\"\"Load a persisted pipeline.\"\"\"\n",
    "    \n",
    "    file_path = TRAINED_MODEL_DIR / file_name\n",
    "    trained_model = joblib.load(filename=file_path)\n",
    "    return trained_model\n",
    "```"
   ]
  },
  {
   "cell_type": "markdown",
   "metadata": {},
   "source": [
    "Now let's look at the `make_prediction` function. This function expects a pandas `DataFrame` or a dictionary, validates the data, then makes a prediction only when the data is valid. Finally, the transformation `np.exp` is applied on the model outputs since the model is trained with targets in logarithmic scale."
   ]
  },
  {
   "cell_type": "markdown",
   "metadata": {},
   "source": [
    "```{margin}\n",
    "[`regression_model/predict.py`](https://github.com/particle1331/model-deployment/tree/heroku/packages/regression_model/regression_model/predict.py)\n",
    "```\n",
    "\n",
    "\n",
    "```python\n",
    "from regression_model import __version__ as _version\n",
    "from regression_model.config.core import config\n",
    "from regression_model.processing.data_manager import load_pipeline\n",
    "from regression_model.processing.validation import validate_inputs\n",
    "\n",
    "pipeline_file_name = f\"{config.app_config.pipeline_save_file}{_version}.pkl\"\n",
    "_price_pipe = load_pipeline(file_name=pipeline_file_name)\n",
    "\n",
    "\n",
    "def make_prediction(*, input_data: t.Union[pd.DataFrame, dict]) -> dict:\n",
    "    \"\"\"Make a prediction using a saved model pipeline.\"\"\"\n",
    "\n",
    "    data = pd.DataFrame(input_data)\n",
    "    validated_data, errors = validate_inputs(input_data=data)\n",
    "    predictions = None\n",
    "\n",
    "    if not errors:\n",
    "        X = validated_data[config.model_config.features]\n",
    "        predictions = [np.exp(y) for y in _price_pipe.predict(X=X)]\n",
    "\n",
    "    results = {\n",
    "        \"predictions\": predictions,\n",
    "        \"version\": _version,\n",
    "        \"errors\": errors,\n",
    "    }\n",
    "    return results\n",
    "```"
   ]
  },
  {
   "cell_type": "markdown",
   "metadata": {},
   "source": [
    "Testing the actual function:"
   ]
  },
  {
   "cell_type": "code",
   "execution_count": 2,
   "metadata": {},
   "outputs": [
    {
     "data": {
      "text/plain": [
       "{'predictions': [113422.55344864173,\n",
       "  154886.2295077972,\n",
       "  176126.49442740786,\n",
       "  198221.6639722352,\n",
       "  211386.1496188777],\n",
       " 'version': '0.0.1',\n",
       " 'errors': None}"
      ]
     },
     "execution_count": 2,
     "metadata": {},
     "output_type": "execute_result"
    }
   ],
   "source": [
    "from pathlib import Path\n",
    "import pandas as pd\n",
    "from regression_model import datasets\n",
    "from regression_model.processing.validation import *\n",
    "from regression_model.config.core import config\n",
    "from regression_model.predict import make_prediction\n",
    "\n",
    "test = pd.read_csv(Path(datasets.__file__).resolve().parent/ \"test.csv\")\n",
    "make_prediction(input_data=test.iloc[:5])"
   ]
  },
  {
   "cell_type": "markdown",
   "metadata": {},
   "source": [
    "The `make_prediction` function depends heavily on the `validate_inputs` function defined below. This checks whether the data has the expected types according to the provided schema. Otherwise, it returns an error. Also, the `'MSSubClass'` column is converted to string as required by the feature engineering pipeline. "
   ]
  },
  {
   "cell_type": "markdown",
   "metadata": {},
   "source": [
    "```{margin}\n",
    "[`regression_model/processing/validation.py`](https://github.com/particle1331/model-deployment/tree/heroku/packages/regression_model/regression_model/processing/validation.py)\n",
    "```\n",
    "\n",
    "```python\n",
    "def validate_inputs(*, input_data: pd.DataFrame) -> pd.DataFrame:\n",
    "    \"\"\"Check model inputs for unprocessable values.\"\"\"\n",
    "\n",
    "    selected_features = config.model_config.features\n",
    "    validated_data = input_data.rename(columns=config.model_config.variables_to_rename)\n",
    "    validated_data = validated_data[selected_features].copy()\n",
    "    validated_data = drop_na_inputs(input_data=validated_data)\n",
    "    validated_data[\"MSSubClass\"] = validated_data[\"MSSubClass\"].astype(\"O\")\n",
    "    errors = None\n",
    "\n",
    "    try:\n",
    "        # Replace numpy nans so that pydantic can validate\n",
    "        MultipleHouseDataInputs(\n",
    "            inputs=validated_data.replace({np.nan: None}).to_dict(orient=\"records\")\n",
    "        )\n",
    "    except ValidationError as e:\n",
    "        errors = e.json()\n",
    "\n",
    "    return validated_data, errors\n",
    "```"
   ]
  },
  {
   "cell_type": "markdown",
   "metadata": {},
   "source": [
    "First, this function loads and cleans the input dataset, then applies `drop_na_inputs` which is defined below. This function looks at the features that were never missing on any of the training examples, but for some reason are missing on some examples in the test set. How to exactly handle this would depend on the actual use case, but in our implementation, we simply skip making predictions on such examples. "
   ]
  },
  {
   "cell_type": "markdown",
   "metadata": {},
   "source": [
    "```{margin}\n",
    "[`regression_model/processing/validation.py`](https://github.com/particle1331/model-deployment/tree/heroku/packages/regression_model/regression_model/processing/validation.py)\n",
    "```\n",
    "\n",
    "```python\n",
    "def drop_na_inputs(*, input_data: pd.DataFrame) -> pd.DataFrame:\n",
    "    \"\"\"Check model inputs for na values and filter.\"\"\"\n",
    "\n",
    "    # Columns in train data with missing values\n",
    "    train_vars_with_na = (\n",
    "        config.model_config.categorical_vars_with_na_frequent\n",
    "        + config.model_config.categorical_vars_with_na_missing\n",
    "        + config.model_config.numerical_vars_with_na\n",
    "    )\n",
    "\n",
    "    # At least one example in column var is missing\n",
    "    new_vars_with_na = [\n",
    "        var\n",
    "        for var in config.model_config.features\n",
    "        if var not in train_vars_with_na \n",
    "        and input_data[var].isnull().sum() > 0\n",
    "    ]\n",
    "\n",
    "    # Drop rows\n",
    "    return input_data.dropna(axis=0, subset=new_vars_with_na)\n",
    "```"
   ]
  },
  {
   "cell_type": "markdown",
   "metadata": {},
   "source": [
    "### Input data schema"
   ]
  },
  {
   "cell_type": "markdown",
   "metadata": {},
   "source": [
    "Finally, validation uses the Pydantic model `HouseDataInputSchema` to check whether the input date have the expected types. Note that we can go a bit further and define [enumerated types](https://pydantic-docs.helpmanual.io/usage/types/#enums-and-choices) for categorical variables, as well as [strict types](https://pydantic-docs.helpmanual.io/usage/types/#strict-types) to specify strict types. The `Field` function in Pydantic is also useful for specifying ranges for numeric types. We can also set `nullable=False` to prevent missing values. In our implementation, to keep things simple, we only specify the expected data type."
   ]
  },
  {
   "cell_type": "markdown",
   "metadata": {},
   "source": [
    "```{margin}\n",
    "[`regression_model/processing/schemas.py`](https://github.com/particle1331/model-deployment/tree/heroku/packages/regression_model/regression_model/processing/schemas.py)\n",
    "```\n",
    "\n",
    "```python\n",
    "class HouseDataInputSchema(BaseModel):\n",
    "    Alley: Optional[str]\n",
    "    BedroomAbvGr: Optional[int]\n",
    "    BldgType: Optional[str]\n",
    "    BsmtCond: Optional[str]\n",
    "    ...\n",
    "    YrSold: Optional[int]\n",
    "    FirstFlrSF: Optional[int]       # renamed\n",
    "    SecondFlrSF: Optional[int]      # renamed\n",
    "    ThreeSsnPortch: Optional[int]   # renamed\n",
    "\n",
    "\n",
    "class MultipleHouseDataInputs(BaseModel):\n",
    "    inputs: List[HouseDataInputSchema]\n",
    "```"
   ]
  },
  {
   "cell_type": "markdown",
   "metadata": {},
   "source": [
    "### Testing predictions"
   ]
  },
  {
   "cell_type": "markdown",
   "metadata": {},
   "source": [
    "Let us try to make predictions on the first 5 test examples. Note that this also validates the test data."
   ]
  },
  {
   "cell_type": "code",
   "execution_count": 7,
   "metadata": {},
   "outputs": [
    {
     "name": "stdout",
     "output_type": "stream",
     "text": [
      "First 5 predictions:\n",
      " [113422.55344864173, 154886.2295077972, 176126.49442740786, 198221.6639722352, 211386.1496188777]\n",
      "Expected no. of predictions:\n",
      " 1449\n"
     ]
    }
   ],
   "source": [
    "result = make_prediction(input_data=test)\n",
    "predictions = result.get(\"predictions\")\n",
    "print('First 5 predictions:\\n', predictions[:5])\n",
    "print('Expected no. of predictions:\\n', validate_inputs(input_data=test)[0].shape[0])"
   ]
  },
  {
   "cell_type": "markdown",
   "metadata": {},
   "source": [
    "These facts make up our tests for the prediction pipeline. Again the fixture `sample_input_data` is actually `test.csv` loaded in the [`conftest` module](https://github.com/particle1331/model-deployment/tree/heroku/packages/regression_model/tests/conftest.py). Recall that with the train-test split in `run_training`, we can add the validation performance of the trained model as part of automated tests. "
   ]
  },
  {
   "cell_type": "markdown",
   "metadata": {},
   "source": [
    "```{margin}\n",
    "[`tests/test_prediction.py`](https://github.com/particle1331/model-deployment/tree/heroku/packages/regression_model/tests/test_prediction.py)\n",
    "```\n",
    "\n",
    "```python\n",
    "def test_make_prediction(sample_input_data):\n",
    "    # Given\n",
    "    expected_first_prediction_value = 113422\n",
    "    expected_no_predictions = 1449\n",
    "\n",
    "    # When\n",
    "    result = make_prediction(input_data=sample_input_data)\n",
    "\n",
    "    # Then\n",
    "    predictions = result.get(\"predictions\")\n",
    "    assert result.get(\"errors\") is None\n",
    "    assert isinstance(predictions, list)\n",
    "    assert isinstance(predictions[0], np.float64)\n",
    "    assert len(predictions) == expected_no_predictions\n",
    "    assert math.isclose(predictions[0], expected_first_prediction_value, abs_tol=100)\n",
    "```"
   ]
  },
  {
   "cell_type": "markdown",
   "metadata": {},
   "source": [
    "## Versioning and packaging"
   ]
  },
  {
   "cell_type": "markdown",
   "metadata": {},
   "source": [
    "For packaging we have to look at a couple of files. You should not expect to write these files from scratch. Usually, these are automatically generated, or copied from projects you trust. First of these is [`pyproject.toml`](https://github.com/particle1331/model-deployment/tree/heroku/packages/regression_model/pyproject.toml). Here we specify our build system, as well as settings for `pytest`, `black`, and `isort`. \n",
    "\n",
    "Next up is [`setup.py`](https://github.com/particle1331/model-deployment/tree/heroku/packages/regression_model/setup.py). For this module we only usually just touch the package metadata. The file has some helpful comments on how to modify it. This module automatically sets the correct version from the `VERSION` file. Note that this file uses `install_requires=list_reqs()` which is [inaccurate](https://packaging.python.org/en/latest/discussions/install-requires-vs-requirements/#requirements-files). This can be improved by manually listing all packages and their versions that were imported in the modules.\n",
    "\n",
    "```{margin}\n",
    "[`setup.py`](https://github.com/particle1331/model-deployment/tree/heroku/packages/regression_model/setup.py)\n",
    "```\n",
    "\n",
    "```python\n",
    "# Package meta-data.\n",
    "NAME = 'regression-model-template'\n",
    "DESCRIPTION = \"Example regression model package for house prices.\"\n",
    "URL = \"https://github.com/particle1331/model-deployment\"\n",
    "EMAIL = \"particle1331@gmail.com\"\n",
    "AUTHOR = \"particle1331\"\n",
    "REQUIRES_PYTHON = \">=3.6.0\"\n",
    "```\n",
    "\n",
    "Finally [`MANIFEST.in`](https://github.com/particle1331/model-deployment/tree/heroku/packages/regression_model/MANIFEST.in) specifies which files to include and which files to exclude when building the package. The syntax should give you a general idea of what's happening.    "
   ]
  },
  {
   "cell_type": "markdown",
   "metadata": {},
   "source": [
    "\n",
    "```{margin}\n",
    "[`MANIFEST.in`](https://github.com/particle1331/model-deployment/tree/heroku/packages/regression_model/MANIFEST.in)\n",
    "```"
   ]
  },
  {
   "cell_type": "markdown",
   "metadata": {},
   "source": [
    "```python\n",
    "include *.txt\n",
    "include *.md\n",
    "include *.pkl\n",
    "\n",
    "include regression_model/datasets/train.csv\n",
    "include regression_model/datasets/test.csv\n",
    "include regression_model/trained_models/*.pkl\n",
    "include regression_model/VERSION\n",
    "include regression_model/config.yml\n",
    "\n",
    "include ./requirements/requirements.txt\n",
    "include ./requirements/test_requirements.txt\n",
    "exclude *.log\n",
    "exclude *.cfg\n",
    "\n",
    "recursive-exclude * __pycache__\n",
    "recursive-exclude * *.py[co]\n",
    "```"
   ]
  },
  {
   "cell_type": "markdown",
   "metadata": {},
   "source": [
    "Building the package:\n",
    "\n",
    "```\n",
    "$ python3 -m pip install --upgrade build\n",
    "$ python3 -m build\n",
    "```"
   ]
  },
  {
   "cell_type": "markdown",
   "metadata": {},
   "source": [
    "This command should output a lot of text and once completed should generate two files in the `dist/` directory: a build distribution `.whl` file and a source archive `tar.gz` for legacy builds. You should also see a `regression_model.egg-info/` directory which means the package has been successfully built. After registration of an account in PyPI, the package can then be uploaded using:"
   ]
  },
  {
   "cell_type": "markdown",
   "metadata": {},
   "source": [
    "```\n",
    "$ python -m twine upload -u USERNAME -p PASSWORD dist/*\n",
    "```"
   ]
  },
  {
   "cell_type": "markdown",
   "metadata": {},
   "source": [
    "You should now be able to view the package in PyPI after providing your username and password. Note all details and links should automatically work as specified in the [`setup.py`](https://github.com/particle1331/model-deployment/tree/heroku/packages/regression_model/setup.py) file."
   ]
  },
  {
   "cell_type": "markdown",
   "metadata": {},
   "source": [
    "```{figure} ../../img/pypi.png\n",
    "```"
   ]
  },
  {
   "cell_type": "markdown",
   "metadata": {},
   "source": [
    "## Tooling"
   ]
  },
  {
   "cell_type": "markdown",
   "metadata": {},
   "source": [
    "In addition to `pytest`, we have the following tooling libraries: `black` for opinionated styling, `flake8` for linting, `mypy` for type-checking, and `isort` for sorting imports. These are tools you should be familiar with by now by using `tox`. Styling makes the code easy to read, which links to maintainability. Automatic type checking reduces the possibility of bugs and mistakes that is more likely with a dynamically typed language such as Python.\n",
    "\n",
    "\n",
    "The settings for `mypy` is straightforward and can be found in [`mypy.ini`](https://github.com/particle1331/model-deployment/tree/heroku/packages/regression_model/mypy.ini). Settings for `flake8` can be found in [`tox.ini`](https://github.com/particle1331/model-deployment/tree/heroku/packages/regression_model/tox.ini). Finally, the settings for `pytest`, `black`, and `isort` can be found in [`pyproject.toml`](https://github.com/particle1331/model-deployment/tree/heroku/packages/regression_model/pyproject.toml). This concludes the discussion on production code. On the next notebook, we will look at a FastAPI application that consumes this package as a dependency."
   ]
  },
  {
   "cell_type": "code",
   "execution_count": null,
   "metadata": {},
   "outputs": [],
   "source": []
  }
 ],
 "metadata": {
  "interpreter": {
   "hash": "a55a0d1272a360f93e747858d443ec26da69f69eac36db3e567a961ca624a861"
  },
  "kernelspec": {
   "display_name": "Python 3.8.12 ('ml')",
   "language": "python",
   "name": "python3"
  },
  "language_info": {
   "codemirror_mode": {
    "name": "ipython",
    "version": 3
   },
   "file_extension": ".py",
   "mimetype": "text/x-python",
   "name": "python",
   "nbconvert_exporter": "python",
   "pygments_lexer": "ipython3",
   "version": "3.9.12"
  },
  "orig_nbformat": 4
 },
 "nbformat": 4,
 "nbformat_minor": 2
}
