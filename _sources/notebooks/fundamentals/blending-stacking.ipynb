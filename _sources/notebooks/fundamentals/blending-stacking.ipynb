{
 "cells": [
  {
   "cell_type": "markdown",
   "id": "fbbebca8",
   "metadata": {
    "id": "053f56f1",
    "papermill": {
     "duration": 0.021611,
     "end_time": "2022-01-07T14:10:33.364508",
     "exception": false,
     "start_time": "2022-01-07T14:10:33.342897",
     "status": "completed"
    },
    "tags": []
   },
   "source": [
    "# Blending and Stacking"
   ]
  },
  {
   "cell_type": "markdown",
   "id": "fc622015",
   "metadata": {},
   "source": [
    "![Status](https://img.shields.io/static/v1.svg?label=Status&message=Finished&color=brightgreen)\n",
    "[![Source](https://img.shields.io/static/v1.svg?label=GitHub&message=Source&color=181717&logo=GitHub)](https://github.com/particle1331/inefficient-networks/blob/master/docs/notebooks/fundamentals/blending-stacking.ipynb)\n",
    "[![Stars](https://img.shields.io/github/stars/particle1331/inefficient-networks?style=social)](https://github.com/particle1331/inefficient-networks)\n",
    "\n",
    "```text\n",
    "𝗔𝘁𝘁𝗿𝗶𝗯𝘂𝘁𝗶𝗼𝗻: Builds on algorithms discussed in Approaching ensembling and stacking of AAAMLP.(github.com/abhishekkrthakur/approachingalmost/blob/master/AAAMLP.pdf)\n",
    "```\n",
    "\n",
    "---\n",
    "\n",
    "\n",
    "## Introduction"
   ]
  },
  {
   "cell_type": "markdown",
   "id": "47bfc5ee",
   "metadata": {
    "id": "28113721",
    "papermill": {
     "duration": 0.014868,
     "end_time": "2022-01-07T14:10:33.394352",
     "exception": false,
     "start_time": "2022-01-07T14:10:33.379484",
     "status": "completed"
    },
    "tags": []
   },
   "source": [
    "In this notebook, we will implement two ensembling techniques called **stacking** and **blending**. Ensembling techniques combine models to obtain better predictive performance than could be obtained from any single model. Combining models means that shortcomings of each single model get balanced out. \n",
    "\n",
    "Stacking and blending ensembles a diverse group of strong learners that are trained on the same task. In contrast to bagging which is also an ensembling technique that combines weak learners."
   ]
  },
  {
   "cell_type": "markdown",
   "id": "36bee1f2",
   "metadata": {},
   "source": [
    "<br>"
   ]
  },
  {
   "cell_type": "code",
   "execution_count": 1,
   "id": "ca0ef8eb",
   "metadata": {
    "execution": {
     "iopub.execute_input": "2022-01-07T14:10:33.487745Z",
     "iopub.status.busy": "2022-01-07T14:10:33.487391Z",
     "iopub.status.idle": "2022-01-07T14:10:34.440650Z",
     "shell.execute_reply": "2022-01-07T14:10:34.440851Z",
     "shell.execute_reply.started": "2022-01-03T09:38:16.957485Z"
    },
    "papermill": {
     "duration": 0.973168,
     "end_time": "2022-01-07T14:10:34.441003",
     "exception": false,
     "start_time": "2022-01-07T14:10:33.467835",
     "status": "completed"
    },
    "tags": []
   },
   "outputs": [],
   "source": [
    "import warnings\n",
    "warnings.simplefilter(action='ignore', category=FutureWarning)\n",
    "\n",
    "from xgboost import XGBClassifier\n",
    "\n",
    "from sklearn.model_selection import train_test_split, StratifiedKFold, cross_val_score\n",
    "from sklearn.metrics import roc_auc_score, accuracy_score\n",
    "from sklearn.decomposition import TruncatedSVD\n",
    "from sklearn.preprocessing import StandardScaler\n",
    "from sklearn.feature_extraction.text import TfidfVectorizer, CountVectorizer\n",
    "from sklearn.pipeline import make_pipeline\n",
    "from sklearn.base import BaseEstimator, ClassifierMixin, clone\n",
    "from sklearn.linear_model import LogisticRegression, LinearRegression\n",
    "from sklearn.ensemble import RandomForestClassifier\n",
    "\n",
    "import pandas as pd\n",
    "import numpy as np\n",
    "import time\n",
    "import random\n",
    "import warnings\n",
    "import matplotlib.pyplot as plt\n",
    "\n",
    "from tqdm import tqdm\n",
    "from typing import Any, List, Dict, Union\n",
    "from copy import deepcopy\n",
    "\n",
    "from functools import partial, reduce\n",
    "from scipy.optimize import minimize\n",
    "from joblib import Parallel, delayed\n",
    "\n",
    "from matplotlib_inline import backend_inline\n",
    "backend_inline.set_matplotlib_formats(\"svg\")\n",
    "\n",
    "seed = 42\n",
    "np.random.seed(seed)\n",
    "random.seed(seed)\n",
    "        \n",
    "NUM_FOLDS = 5"
   ]
  },
  {
   "cell_type": "markdown",
   "id": "62631baf",
   "metadata": {
    "editable": false,
    "id": "4b2ae18d",
    "papermill": {
     "duration": 0.01447,
     "end_time": "2022-01-07T14:10:34.489224",
     "exception": false,
     "start_time": "2022-01-07T14:10:34.474754",
     "status": "completed"
    },
    "tags": []
   },
   "source": [
    "## IMDb Reviews Dataset"
   ]
  },
  {
   "cell_type": "markdown",
   "id": "7959fd80",
   "metadata": {
    "editable": false,
    "id": "d5512e9b",
    "papermill": {
     "duration": 0.014308,
     "end_time": "2022-01-07T14:10:34.517771",
     "exception": false,
     "start_time": "2022-01-07T14:10:34.503463",
     "status": "completed"
    },
    "tags": []
   },
   "source": [
    "The dataset consists of 50,000 IMDb movie reviews selected for sentiment analysis. The sentiment of reviews is binary, with rating less than 5 is set to a sentiment score of 0, and rating at least 7 is set to a sentiment score of 1. No individual movie has more than 30 reviews."
   ]
  },
  {
   "cell_type": "markdown",
   "id": "458ea946",
   "metadata": {
    "execution": {
     "iopub.execute_input": "2022-01-07T14:10:34.548485Z",
     "iopub.status.busy": "2022-01-07T14:10:34.548144Z",
     "iopub.status.idle": "2022-01-07T14:10:34.820672Z",
     "shell.execute_reply": "2022-01-07T14:10:34.820854Z",
     "shell.execute_reply.started": "2022-01-03T09:38:16.968126Z"
    },
    "papermill": {
     "duration": 0.289108,
     "end_time": "2022-01-07T14:10:34.820959",
     "exception": false,
     "start_time": "2022-01-07T14:10:34.531851",
     "status": "completed"
    },
    "tags": []
   },
   "source": [
    "```bash\n",
    "USER=\"ymanojkumar023\"\n",
    "DATASET=\"kumarmanoj-bag-of-words-meets-bags-of-popcorn\"\n",
    "DATA_DIR=./data\n",
    "kaggle datasets download -d ${USER}/${DATASET} -p ${DATA_DIR}\n",
    "unzip ${DATA_DIR}/${DATASET}.zip -d ${DATA_DIR}/${DATASET} > /dev/null\n",
    "rm ${DATA_DIR}/${DATASET}.zip\n",
    "```"
   ]
  },
  {
   "cell_type": "markdown",
   "id": "24cfc259",
   "metadata": {},
   "source": [
    "```text\n",
    "100%|██████████████████████████████████████| 52.4M/52.4M [00:16<00:00, 3.38MB/s]\n",
    "````"
   ]
  },
  {
   "cell_type": "markdown",
   "id": "59aa75ba",
   "metadata": {
    "editable": false,
    "id": "684e067f",
    "papermill": {
     "duration": 0.013683,
     "end_time": "2022-01-07T14:10:34.848734",
     "exception": false,
     "start_time": "2022-01-07T14:10:34.835051",
     "status": "completed"
    },
    "tags": []
   },
   "source": [
    "### Train and test split"
   ]
  },
  {
   "cell_type": "code",
   "execution_count": 2,
   "id": "ca36e859",
   "metadata": {
    "editable": false,
    "execution": {
     "iopub.execute_input": "2022-01-07T14:10:34.879206Z",
     "iopub.status.busy": "2022-01-07T14:10:34.878899Z",
     "iopub.status.idle": "2022-01-07T14:10:34.882453Z",
     "shell.execute_reply": "2022-01-07T14:10:34.882637Z",
     "shell.execute_reply.started": "2022-01-03T09:38:17.357297Z"
    },
    "id": "b8ddc93b",
    "outputId": "4f1165e0-b3a9-4f90-9000-22e518519660",
    "papermill": {
     "duration": 0.020083,
     "end_time": "2022-01-07T14:10:34.882738",
     "exception": false,
     "start_time": "2022-01-07T14:10:34.862655",
     "status": "completed"
    },
    "tags": []
   },
   "outputs": [
    {
     "name": "stdout",
     "output_type": "stream",
     "text": [
      "       id  sentiment                                             review\n",
      "0  5814_8          1  With all this stuff going down at the moment w...\n",
      "1  2381_9          1  \\The Classic War of the Worlds\\\" by Timothy Hi...\n",
      "2  7759_3          0  The film starts with a manager (Nicholas Bell)...\n",
      "3  3630_4          0  It must be assumed that those who praised this...\n",
      "4  9495_8          1  Superbly trashy and wondrously unpretentious 8...\n",
      "(25000, 3)\n"
     ]
    },
    {
     "data": {
      "text/plain": [
       "1    12500\n",
       "0    12500\n",
       "Name: sentiment, dtype: int64"
      ]
     },
     "execution_count": 2,
     "metadata": {},
     "output_type": "execute_result"
    }
   ],
   "source": [
    "data = pd.read_csv('./data/kumarmanoj-bag-of-words-meets-bags-of-popcorn/labeledTrainData.tsv', sep='\\t')\n",
    "\n",
    "print(data.head())\n",
    "print(data.shape)\n",
    "data.sentiment.value_counts()"
   ]
  },
  {
   "cell_type": "markdown",
   "id": "000ac469",
   "metadata": {},
   "source": [
    "Perhaps a better approach would be to group reviews for the same movie in either the train of the test set. But we don't have that data available. "
   ]
  },
  {
   "cell_type": "markdown",
   "id": "b877297f",
   "metadata": {
    "editable": false,
    "id": "f81cf982",
    "papermill": {
     "duration": 0.013806,
     "end_time": "2022-01-07T14:10:34.910696",
     "exception": false,
     "start_time": "2022-01-07T14:10:34.896890",
     "status": "completed"
    },
    "tags": []
   },
   "source": [
    "## Stacking models"
   ]
  },
  {
   "cell_type": "markdown",
   "id": "8497f9dd",
   "metadata": {
    "id": "f9214ab8",
    "papermill": {
     "duration": 0.014364,
     "end_time": "2022-01-07T14:10:34.938862",
     "exception": false,
     "start_time": "2022-01-07T14:10:34.924498",
     "status": "completed"
    },
    "tags": []
   },
   "source": [
    "The idea with stacking is that predictions of models can be used as features to train new models. In principle, this process can be repeated indefinitely to train further models. To avoid overfitting, the process incorporates cross-validation folds. This just makes sure that data does not get leaked in the further layers.  \n",
    "\n",
    "\n",
    "**Stacking algorithm with cross-validation**\n",
    "\n",
    "1. Split train datasets into $k$ folds $({\\mathsf X}_0, {\\mathsf y}_0), \\ldots, ({\\mathsf X}_{k-1}, {\\mathsf y}_{k-1})$ and set test dataset $\\mathsf X.$\n",
    "3. For $0 \\leq i \\leq k-1$ and for each base model $\\mathsf m_q:$\n",
    "    - Fit model $\\mathsf m_q$ on $\\bigcup_{j\\neq i} ({\\mathsf X}_j, {\\mathsf y}_j).$ \n",
    "    - Predict probabilities ${{\\mathsf p}^q}_i = \\mathsf m_q({\\mathsf X}_i)$ using trained model.\n",
    "4. Fit model $\\mathsf m_q$ on $\\bigcup_j ({\\mathsf X}_j, {\\mathsf y}_j)$ and predict on $\\mathsf X$ to get ${{\\mathsf p}^q}.$\n",
    "3. Stack predict probabilities to get metadatasets: \n",
    "    - $(\\bar{\\mathsf X}_0, {\\mathsf y}_0), \\ldots, (\\bar{\\mathsf X}_{k-1}, {\\mathsf y}_{k-1})$ with $\\bar{\\mathsf X}_i = \\left[{{\\mathsf p}^1}_i \\mid {{\\mathsf p}^2}_i \\mid \\ldots \\right]$\n",
    "    - $\\bar{\\mathsf X} = \\left[{\\mathsf p}^1 \\mid {\\mathsf p}^2 \\mid \\ldots\\right]$\n",
    "4. Repeat for another set of models with the train and test metadatasets.\n",
    "\n",
    "\n",
    "Note that after generating meta-features, the models will be retrained on the complete training set and predict on the test set to create test meta-features. This makes the test set look like an extra fold, so that cross-validation performance should be a good predictor of test performance."
   ]
  },
  {
   "cell_type": "markdown",
   "id": "3c54e3de",
   "metadata": {},
   "source": [
    "### Training base models"
   ]
  },
  {
   "cell_type": "markdown",
   "id": "791d680d",
   "metadata": {},
   "source": [
    "Splitting the dataset and creating stratified folds:"
   ]
  },
  {
   "cell_type": "code",
   "execution_count": 3,
   "id": "d519e8e2",
   "metadata": {},
   "outputs": [],
   "source": [
    "train, test = train_test_split(\n",
    "    data, \n",
    "    test_size=0.20, \n",
    "    shuffle=True, \n",
    "    random_state=seed\n",
    ")\n",
    "\n",
    "train = train.drop('id', axis=1).reset_index(drop=True)\n",
    "test  = test .drop('id', axis=1).reset_index(drop=True)\n",
    "\n",
    "skf = StratifiedKFold(n_splits=NUM_FOLDS)\n",
    "train['fold'] = -1\n",
    "for fold, (_, val_) in enumerate(skf.split(train.index, train.sentiment)):\n",
    "    train.loc[val_, 'fold'] = fold"
   ]
  },
  {
   "cell_type": "code",
   "execution_count": 4,
   "id": "7c08ee5a",
   "metadata": {},
   "outputs": [
    {
     "data": {
      "text/html": [
       "<div>\n",
       "<style scoped>\n",
       "    .dataframe tbody tr th:only-of-type {\n",
       "        vertical-align: middle;\n",
       "    }\n",
       "\n",
       "    .dataframe tbody tr th {\n",
       "        vertical-align: top;\n",
       "    }\n",
       "\n",
       "    .dataframe thead th {\n",
       "        text-align: right;\n",
       "    }\n",
       "</style>\n",
       "<table border=\"1\" class=\"dataframe\">\n",
       "  <thead>\n",
       "    <tr style=\"text-align: right;\">\n",
       "      <th></th>\n",
       "      <th>sentiment</th>\n",
       "      <th>review</th>\n",
       "      <th>fold</th>\n",
       "    </tr>\n",
       "  </thead>\n",
       "  <tbody>\n",
       "    <tr>\n",
       "      <th>0</th>\n",
       "      <td>0</td>\n",
       "      <td>This movie is just plain dumb.&lt;br /&gt;&lt;br /&gt;From...</td>\n",
       "      <td>0</td>\n",
       "    </tr>\n",
       "    <tr>\n",
       "      <th>1</th>\n",
       "      <td>0</td>\n",
       "      <td>Dahmer, a young confused man. Dahmer, a confus...</td>\n",
       "      <td>0</td>\n",
       "    </tr>\n",
       "    <tr>\n",
       "      <th>2</th>\n",
       "      <td>0</td>\n",
       "      <td>May the saints preserve us, because this movie...</td>\n",
       "      <td>0</td>\n",
       "    </tr>\n",
       "    <tr>\n",
       "      <th>3</th>\n",
       "      <td>1</td>\n",
       "      <td>The combination of reading the Novella and vie...</td>\n",
       "      <td>0</td>\n",
       "    </tr>\n",
       "    <tr>\n",
       "      <th>4</th>\n",
       "      <td>1</td>\n",
       "      <td>Daniel Day Lewis in My Left Foot gives us one ...</td>\n",
       "      <td>0</td>\n",
       "    </tr>\n",
       "  </tbody>\n",
       "</table>\n",
       "</div>"
      ],
      "text/plain": [
       "   sentiment                                             review  fold\n",
       "0          0  This movie is just plain dumb.<br /><br />From...     0\n",
       "1          0  Dahmer, a young confused man. Dahmer, a confus...     0\n",
       "2          0  May the saints preserve us, because this movie...     0\n",
       "3          1  The combination of reading the Novella and vie...     0\n",
       "4          1  Daniel Day Lewis in My Left Foot gives us one ...     0"
      ]
     },
     "execution_count": 4,
     "metadata": {},
     "output_type": "execute_result"
    }
   ],
   "source": [
    "train.head()"
   ]
  },
  {
   "cell_type": "code",
   "execution_count": 5,
   "id": "da335cae",
   "metadata": {},
   "outputs": [
    {
     "data": {
      "text/html": [
       "<div>\n",
       "<style scoped>\n",
       "    .dataframe tbody tr th:only-of-type {\n",
       "        vertical-align: middle;\n",
       "    }\n",
       "\n",
       "    .dataframe tbody tr th {\n",
       "        vertical-align: top;\n",
       "    }\n",
       "\n",
       "    .dataframe thead th {\n",
       "        text-align: right;\n",
       "    }\n",
       "</style>\n",
       "<table border=\"1\" class=\"dataframe\">\n",
       "  <thead>\n",
       "    <tr style=\"text-align: right;\">\n",
       "      <th></th>\n",
       "      <th>sentiment</th>\n",
       "      <th>review</th>\n",
       "    </tr>\n",
       "  </thead>\n",
       "  <tbody>\n",
       "    <tr>\n",
       "      <th>0</th>\n",
       "      <td>0</td>\n",
       "      <td>I read that \\There's a Girl in My Soup\\\" came ...</td>\n",
       "    </tr>\n",
       "    <tr>\n",
       "      <th>1</th>\n",
       "      <td>1</td>\n",
       "      <td>This film pulls you in from the get-go because...</td>\n",
       "    </tr>\n",
       "    <tr>\n",
       "      <th>2</th>\n",
       "      <td>0</td>\n",
       "      <td>From the awful death scenes to guns that fire ...</td>\n",
       "    </tr>\n",
       "    <tr>\n",
       "      <th>3</th>\n",
       "      <td>1</td>\n",
       "      <td>I saw that movie few days ago. This movie is s...</td>\n",
       "    </tr>\n",
       "    <tr>\n",
       "      <th>4</th>\n",
       "      <td>0</td>\n",
       "      <td>For a film with so much promise it was disappo...</td>\n",
       "    </tr>\n",
       "  </tbody>\n",
       "</table>\n",
       "</div>"
      ],
      "text/plain": [
       "   sentiment                                             review\n",
       "0          0  I read that \\There's a Girl in My Soup\\\" came ...\n",
       "1          1  This film pulls you in from the get-go because...\n",
       "2          0  From the awful death scenes to guns that fire ...\n",
       "3          1  I saw that movie few days ago. This movie is s...\n",
       "4          0  For a film with so much promise it was disappo..."
      ]
     },
     "execution_count": 5,
     "metadata": {},
     "output_type": "execute_result"
    }
   ],
   "source": [
    "test.head()"
   ]
  },
  {
   "cell_type": "markdown",
   "id": "6ba23a3c",
   "metadata": {},
   "source": [
    "Base models:"
   ]
  },
  {
   "cell_type": "code",
   "execution_count": 6,
   "id": "15415f5f",
   "metadata": {},
   "outputs": [],
   "source": [
    "lr = make_pipeline(\n",
    "        TfidfVectorizer(max_features=1000),\n",
    "        LogisticRegression(random_state=seed)\n",
    ")\n",
    "\n",
    "lr_cnt = make_pipeline(\n",
    "    CountVectorizer(),\n",
    "    LogisticRegression(solver='liblinear', random_state=seed)\n",
    ")\n",
    "\n",
    "rf_svd = make_pipeline(\n",
    "    TfidfVectorizer(max_features=None),\n",
    "    TruncatedSVD(n_components=120, random_state=seed),\n",
    "    RandomForestClassifier(n_estimators=100, n_jobs=-1, random_state=seed)\n",
    ")"
   ]
  },
  {
   "cell_type": "markdown",
   "id": "6ce49223",
   "metadata": {},
   "source": [
    "Perform stacking algorithm:"
   ]
  },
  {
   "cell_type": "code",
   "execution_count": 7,
   "id": "f99a2453",
   "metadata": {},
   "outputs": [
    {
     "name": "stdout",
     "output_type": "stream",
     "text": [
      "\n",
      "Level 0 preds: lr\n",
      "fold=0, roc=0.9381, acc=0.8585\n",
      "fold=1, roc=0.9325, acc=0.8570\n",
      "fold=2, roc=0.9340, acc=0.8610\n",
      "fold=3, roc=0.9295, acc=0.8502\n",
      "fold=4, roc=0.9271, acc=0.8558\n",
      "\n",
      "Level 0 preds: lr_cnt\n",
      "fold=0, roc=0.9486, acc=0.8855\n",
      "fold=1, roc=0.9419, acc=0.8765\n",
      "fold=2, roc=0.9474, acc=0.8812\n",
      "fold=3, roc=0.9436, acc=0.8780\n",
      "fold=4, roc=0.9382, acc=0.8715\n",
      "\n",
      "Level 0 preds: rf_svd\n",
      "fold=0, roc=0.8831, acc=0.7985\n",
      "fold=1, roc=0.8762, acc=0.7975\n",
      "fold=2, roc=0.8792, acc=0.7973\n",
      "fold=3, roc=0.8731, acc=0.7963\n",
      "fold=4, roc=0.8795, acc=0.7995\n"
     ]
    }
   ],
   "source": [
    "basemodels = {\n",
    "    'lr': lr, \n",
    "    'lr_cnt': lr_cnt, \n",
    "    'rf_svd': rf_svd\n",
    "}\n",
    "\n",
    "acc_score = lambda y_true, y_prob: accuracy_score(y_true, y_prob >= 0.5)\n",
    "roc_score = lambda y_true, y_prob: roc_auc_score(y_true, y_prob)\n",
    "\n",
    "cv_scores = {}\n",
    "for q in basemodels.keys():\n",
    "    print(f\"\\nLevel 0 preds: {q}\")\n",
    "    rocs = []\n",
    "    accs = []\n",
    "    for i in range(NUM_FOLDS):\n",
    "        train_fld = train.query(f'fold != {i}')\n",
    "        train_oof = train.query(f'fold == {i}')\n",
    "\n",
    "        # Create train meta-features\n",
    "        model = clone(basemodels[q])\n",
    "        model.fit(\n",
    "            X=train_fld.review.values, \n",
    "            y=train_fld.sentiment.values\n",
    "        )\n",
    "        p = model.predict_proba(train_oof.review.values)[:, 1]\n",
    "        train.loc[train_oof.index, f\"{q}_0\"] = p\n",
    "\n",
    "        # Compute cv scores\n",
    "        roc = roc_score(train_oof.sentiment, p)\n",
    "        acc = acc_score(train_oof.sentiment, p)\n",
    "        rocs.append(roc)\n",
    "        accs.append(acc)\n",
    "        print(f\"fold={i}, roc={roc:.4f}, acc={acc:.4f}\")\n",
    "\n",
    "    cv_scores[q] = {\n",
    "        'roc': np.array(rocs),\n",
    "        'acc': np.array(accs),\n",
    "    }\n",
    "\n",
    "    # Create test meta-features\n",
    "    model = clone(basemodels[q])\n",
    "    model.fit(\n",
    "        X=train.review.values, \n",
    "        y=train.sentiment.values\n",
    "    )\n",
    "    test[f\"{q}_0\"] = model.predict_proba(test.review.values)[:, 1]"
   ]
  },
  {
   "cell_type": "markdown",
   "id": "b71c34a9",
   "metadata": {},
   "source": [
    "### Generated meta-features"
   ]
  },
  {
   "cell_type": "code",
   "execution_count": 8,
   "id": "178e176c",
   "metadata": {},
   "outputs": [
    {
     "data": {
      "text/html": [
       "<div>\n",
       "<style scoped>\n",
       "    .dataframe tbody tr th:only-of-type {\n",
       "        vertical-align: middle;\n",
       "    }\n",
       "\n",
       "    .dataframe tbody tr th {\n",
       "        vertical-align: top;\n",
       "    }\n",
       "\n",
       "    .dataframe thead th {\n",
       "        text-align: right;\n",
       "    }\n",
       "</style>\n",
       "<table border=\"1\" class=\"dataframe\">\n",
       "  <thead>\n",
       "    <tr style=\"text-align: right;\">\n",
       "      <th></th>\n",
       "      <th>sentiment</th>\n",
       "      <th>review</th>\n",
       "      <th>fold</th>\n",
       "      <th>lr_0</th>\n",
       "      <th>lr_cnt_0</th>\n",
       "      <th>rf_svd_0</th>\n",
       "    </tr>\n",
       "  </thead>\n",
       "  <tbody>\n",
       "    <tr>\n",
       "      <th>0</th>\n",
       "      <td>0</td>\n",
       "      <td>This movie is just plain dumb.&lt;br /&gt;&lt;br /&gt;From...</td>\n",
       "      <td>0</td>\n",
       "      <td>0.052181</td>\n",
       "      <td>0.001930</td>\n",
       "      <td>0.27</td>\n",
       "    </tr>\n",
       "    <tr>\n",
       "      <th>1</th>\n",
       "      <td>0</td>\n",
       "      <td>Dahmer, a young confused man. Dahmer, a confus...</td>\n",
       "      <td>0</td>\n",
       "      <td>0.029885</td>\n",
       "      <td>0.000006</td>\n",
       "      <td>0.30</td>\n",
       "    </tr>\n",
       "    <tr>\n",
       "      <th>2</th>\n",
       "      <td>0</td>\n",
       "      <td>May the saints preserve us, because this movie...</td>\n",
       "      <td>0</td>\n",
       "      <td>0.052702</td>\n",
       "      <td>0.000440</td>\n",
       "      <td>0.32</td>\n",
       "    </tr>\n",
       "    <tr>\n",
       "      <th>3</th>\n",
       "      <td>1</td>\n",
       "      <td>The combination of reading the Novella and vie...</td>\n",
       "      <td>0</td>\n",
       "      <td>0.917899</td>\n",
       "      <td>0.996462</td>\n",
       "      <td>0.65</td>\n",
       "    </tr>\n",
       "    <tr>\n",
       "      <th>4</th>\n",
       "      <td>1</td>\n",
       "      <td>Daniel Day Lewis in My Left Foot gives us one ...</td>\n",
       "      <td>0</td>\n",
       "      <td>0.982799</td>\n",
       "      <td>0.999165</td>\n",
       "      <td>0.86</td>\n",
       "    </tr>\n",
       "  </tbody>\n",
       "</table>\n",
       "</div>"
      ],
      "text/plain": [
       "   sentiment                                             review  fold  \\\n",
       "0          0  This movie is just plain dumb.<br /><br />From...     0   \n",
       "1          0  Dahmer, a young confused man. Dahmer, a confus...     0   \n",
       "2          0  May the saints preserve us, because this movie...     0   \n",
       "3          1  The combination of reading the Novella and vie...     0   \n",
       "4          1  Daniel Day Lewis in My Left Foot gives us one ...     0   \n",
       "\n",
       "       lr_0  lr_cnt_0  rf_svd_0  \n",
       "0  0.052181  0.001930      0.27  \n",
       "1  0.029885  0.000006      0.30  \n",
       "2  0.052702  0.000440      0.32  \n",
       "3  0.917899  0.996462      0.65  \n",
       "4  0.982799  0.999165      0.86  "
      ]
     },
     "execution_count": 8,
     "metadata": {},
     "output_type": "execute_result"
    }
   ],
   "source": [
    "train.head()"
   ]
  },
  {
   "cell_type": "code",
   "execution_count": 9,
   "id": "abe7774e",
   "metadata": {},
   "outputs": [
    {
     "data": {
      "text/html": [
       "<div>\n",
       "<style scoped>\n",
       "    .dataframe tbody tr th:only-of-type {\n",
       "        vertical-align: middle;\n",
       "    }\n",
       "\n",
       "    .dataframe tbody tr th {\n",
       "        vertical-align: top;\n",
       "    }\n",
       "\n",
       "    .dataframe thead th {\n",
       "        text-align: right;\n",
       "    }\n",
       "</style>\n",
       "<table border=\"1\" class=\"dataframe\">\n",
       "  <thead>\n",
       "    <tr style=\"text-align: right;\">\n",
       "      <th></th>\n",
       "      <th>sentiment</th>\n",
       "      <th>review</th>\n",
       "      <th>lr_0</th>\n",
       "      <th>lr_cnt_0</th>\n",
       "      <th>rf_svd_0</th>\n",
       "    </tr>\n",
       "  </thead>\n",
       "  <tbody>\n",
       "    <tr>\n",
       "      <th>0</th>\n",
       "      <td>0</td>\n",
       "      <td>I read that \\There's a Girl in My Soup\\\" came ...</td>\n",
       "      <td>0.021305</td>\n",
       "      <td>0.000098</td>\n",
       "      <td>0.17</td>\n",
       "    </tr>\n",
       "    <tr>\n",
       "      <th>1</th>\n",
       "      <td>1</td>\n",
       "      <td>This film pulls you in from the get-go because...</td>\n",
       "      <td>0.799816</td>\n",
       "      <td>0.673102</td>\n",
       "      <td>0.75</td>\n",
       "    </tr>\n",
       "    <tr>\n",
       "      <th>2</th>\n",
       "      <td>0</td>\n",
       "      <td>From the awful death scenes to guns that fire ...</td>\n",
       "      <td>0.066688</td>\n",
       "      <td>0.009249</td>\n",
       "      <td>0.17</td>\n",
       "    </tr>\n",
       "    <tr>\n",
       "      <th>3</th>\n",
       "      <td>1</td>\n",
       "      <td>I saw that movie few days ago. This movie is s...</td>\n",
       "      <td>0.969935</td>\n",
       "      <td>0.988239</td>\n",
       "      <td>0.65</td>\n",
       "    </tr>\n",
       "    <tr>\n",
       "      <th>4</th>\n",
       "      <td>0</td>\n",
       "      <td>For a film with so much promise it was disappo...</td>\n",
       "      <td>0.062784</td>\n",
       "      <td>0.000074</td>\n",
       "      <td>0.26</td>\n",
       "    </tr>\n",
       "  </tbody>\n",
       "</table>\n",
       "</div>"
      ],
      "text/plain": [
       "   sentiment                                             review      lr_0  \\\n",
       "0          0  I read that \\There's a Girl in My Soup\\\" came ...  0.021305   \n",
       "1          1  This film pulls you in from the get-go because...  0.799816   \n",
       "2          0  From the awful death scenes to guns that fire ...  0.066688   \n",
       "3          1  I saw that movie few days ago. This movie is s...  0.969935   \n",
       "4          0  For a film with so much promise it was disappo...  0.062784   \n",
       "\n",
       "   lr_cnt_0  rf_svd_0  \n",
       "0  0.000098      0.17  \n",
       "1  0.673102      0.75  \n",
       "2  0.009249      0.17  \n",
       "3  0.988239      0.65  \n",
       "4  0.000074      0.26  "
      ]
     },
     "execution_count": 9,
     "metadata": {},
     "output_type": "execute_result"
    }
   ],
   "source": [
    "test.head()"
   ]
  },
  {
   "cell_type": "markdown",
   "id": "3156a930",
   "metadata": {},
   "source": [
    "### Performance comparison"
   ]
  },
  {
   "cell_type": "markdown",
   "id": "b349576c",
   "metadata": {},
   "source": [
    "Performance of single models:"
   ]
  },
  {
   "cell_type": "code",
   "execution_count": 10,
   "id": "69883ac3",
   "metadata": {},
   "outputs": [],
   "source": [
    "results = pd.DataFrame(\n",
    "    index=[f\"{q}_0\" for q in basemodels.keys()] + ['xgb_1'],\n",
    "    columns=['cv_acc', 'test_acc', 'cv_roc', 'test_roc']\n",
    ")\n",
    "\n",
    "for q in basemodels.keys():\n",
    "    results.loc[f\"{q}_0\", 'test_acc'] = round(acc_score(test.sentiment, test[f'{q}_0']), 4)\n",
    "    results.loc[f\"{q}_0\", 'test_roc'] = round(roc_score(test.sentiment, test[f'{q}_0']), 4)\n",
    "    results.loc[f\"{q}_0\", 'cv_acc'] = f\"{cv_scores[q]['acc'].mean():.4f} ± {cv_scores[q]['acc'].std():.4f}\"\n",
    "    results.loc[f\"{q}_0\", 'cv_roc'] = f\"{cv_scores[q]['roc'].mean():.4f} ± {cv_scores[q]['roc'].std():.4f}\""
   ]
  },
  {
   "cell_type": "markdown",
   "id": "62c03567",
   "metadata": {},
   "source": [
    "Training a stacking model:"
   ]
  },
  {
   "cell_type": "code",
   "execution_count": 11,
   "id": "eb20d82d",
   "metadata": {},
   "outputs": [
    {
     "name": "stdout",
     "output_type": "stream",
     "text": [
      "\n",
      "Level 1 preds: xgb\n",
      "fold=0, roc=0.9488, acc=0.8838\n",
      "fold=1, roc=0.9428, acc=0.8760\n",
      "fold=2, roc=0.9470, acc=0.8760\n",
      "fold=3, roc=0.9429, acc=0.8792\n",
      "fold=4, roc=0.9378, acc=0.8738\n"
     ]
    }
   ],
   "source": [
    "warnings.simplefilter(action='ignore')\n",
    "columns = [c for c in train.columns if '_0' in c]\n",
    "basemodels['xgb'] = XGBClassifier(seed=seed, eval_metric='logloss')\n",
    "q = 'xgb'\n",
    "\n",
    "print(f\"\\nLevel 1 preds: {q}\")\n",
    "rocs = []\n",
    "accs = []\n",
    "for i in range(NUM_FOLDS):\n",
    "    train_fld = train.query(f'fold != {i}')\n",
    "    train_oof = train.query(f'fold == {i}')\n",
    "\n",
    "    # Create train meta-features\n",
    "    model = clone(basemodels[q])\n",
    "    model.fit(\n",
    "        X=train_fld[columns].values, \n",
    "        y=train_fld.sentiment.values\n",
    "    )\n",
    "    p = model.predict_proba(train_oof[columns].values)[:, 1]\n",
    "    train.loc[train_oof.index, f\"{q}_1\"] = p\n",
    "\n",
    "    # Compute cv scores\n",
    "    roc = roc_score(train_oof.sentiment, p)\n",
    "    acc = acc_score(train_oof.sentiment, p)\n",
    "    rocs.append(roc)\n",
    "    accs.append(acc)\n",
    "    print(f\"fold={i}, roc={roc:.4f}, acc={acc:.4f}\")\n",
    "\n",
    "cv_scores[q] = {\n",
    "    'roc': np.array(rocs),\n",
    "    'acc': np.array(accs),\n",
    "}\n",
    "\n",
    "# Create test meta-features\n",
    "model = clone(basemodels[q])\n",
    "model.fit(\n",
    "    X=train[columns].values, \n",
    "    y=train.sentiment.values\n",
    ")\n",
    "test[f\"{q}_1\"] = model.predict_proba(test[columns].values)[:, 1]"
   ]
  },
  {
   "cell_type": "markdown",
   "id": "cfd1f998",
   "metadata": {},
   "source": [
    "### Initial results"
   ]
  },
  {
   "cell_type": "code",
   "execution_count": 12,
   "id": "19f65b17",
   "metadata": {},
   "outputs": [],
   "source": [
    "results.loc[f\"{q}_1\", 'test_acc'] = round(acc_score(test.sentiment, test[f'{q}_1']), 4)\n",
    "results.loc[f\"{q}_1\", 'test_roc'] = round(roc_score(test.sentiment, test[f'{q}_1']), 4)\n",
    "results.loc[f\"{q}_1\", 'cv_acc'] = f\"{cv_scores[q]['acc'].mean():.4f} ± {cv_scores[q]['acc'].std():.4f}\"\n",
    "results.loc[f\"{q}_1\", 'cv_roc'] = f\"{cv_scores[q]['roc'].mean():.4f} ± {cv_scores[q]['roc'].std():.4f}\""
   ]
  },
  {
   "cell_type": "markdown",
   "id": "37e9326c",
   "metadata": {},
   "source": [
    "Stacked model has relatively better test performance and within range of best cv-performance. This shows that stacking can significantly improve over single models."
   ]
  },
  {
   "cell_type": "code",
   "execution_count": 13,
   "id": "22f366aa",
   "metadata": {},
   "outputs": [
    {
     "data": {
      "text/html": [
       "<div>\n",
       "<style scoped>\n",
       "    .dataframe tbody tr th:only-of-type {\n",
       "        vertical-align: middle;\n",
       "    }\n",
       "\n",
       "    .dataframe tbody tr th {\n",
       "        vertical-align: top;\n",
       "    }\n",
       "\n",
       "    .dataframe thead th {\n",
       "        text-align: right;\n",
       "    }\n",
       "</style>\n",
       "<table border=\"1\" class=\"dataframe\">\n",
       "  <thead>\n",
       "    <tr style=\"text-align: right;\">\n",
       "      <th></th>\n",
       "      <th>cv_acc</th>\n",
       "      <th>test_acc</th>\n",
       "      <th>cv_roc</th>\n",
       "      <th>test_roc</th>\n",
       "    </tr>\n",
       "  </thead>\n",
       "  <tbody>\n",
       "    <tr>\n",
       "      <th>lr_0</th>\n",
       "      <td>0.8565 ± 0.0036</td>\n",
       "      <td>0.871</td>\n",
       "      <td>0.9322 ± 0.0038</td>\n",
       "      <td>0.9404</td>\n",
       "    </tr>\n",
       "    <tr>\n",
       "      <th>lr_cnt_0</th>\n",
       "      <td>0.8786 ± 0.0047</td>\n",
       "      <td>0.8838</td>\n",
       "      <td>0.9439 ± 0.0038</td>\n",
       "      <td>0.9473</td>\n",
       "    </tr>\n",
       "    <tr>\n",
       "      <th>rf_svd_0</th>\n",
       "      <td>0.7978 ± 0.0011</td>\n",
       "      <td>0.7976</td>\n",
       "      <td>0.8782 ± 0.0034</td>\n",
       "      <td>0.8794</td>\n",
       "    </tr>\n",
       "    <tr>\n",
       "      <th>xgb_1</th>\n",
       "      <td>0.8778 ± 0.0035</td>\n",
       "      <td>0.886</td>\n",
       "      <td>0.9439 ± 0.0038</td>\n",
       "      <td>0.9498</td>\n",
       "    </tr>\n",
       "  </tbody>\n",
       "</table>\n",
       "</div>"
      ],
      "text/plain": [
       "                   cv_acc test_acc           cv_roc test_roc\n",
       "lr_0      0.8565 ± 0.0036    0.871  0.9322 ± 0.0038   0.9404\n",
       "lr_cnt_0  0.8786 ± 0.0047   0.8838  0.9439 ± 0.0038   0.9473\n",
       "rf_svd_0  0.7978 ± 0.0011   0.7976  0.8782 ± 0.0034   0.8794\n",
       "xgb_1     0.8778 ± 0.0035    0.886  0.9439 ± 0.0038   0.9498"
      ]
     },
     "execution_count": 13,
     "metadata": {},
     "output_type": "execute_result"
    }
   ],
   "source": [
    "results"
   ]
  },
  {
   "cell_type": "markdown",
   "id": "d139be1a",
   "metadata": {},
   "source": [
    "## Stacking with warm start"
   ]
  },
  {
   "cell_type": "markdown",
   "id": "6510a25e",
   "metadata": {},
   "source": [
    "Note the modular nature of the algorithm allowed us to copy the code above with minimal change for the XGBoost metamodel. This allows us to collect all our work above in a single class, allowing automated training and inference. To indicate the number of rounds of stacking performed, we introduce **levels**. This is analogous to layers in a neural network. \n",
    "\n",
    "We also include **warm starting**. This means that we use earlier levels in a trained stacker and stack them with layers. Only the new layers will be trained. It adds some complexity to the implementation, but warm-starting is a desirable feature, especially when training base models are expensive and we want to perform rapid iteration only on top models."
   ]
  },
  {
   "cell_type": "code",
   "execution_count": 14,
   "id": "c9eb1060",
   "metadata": {},
   "outputs": [],
   "source": [
    "class StackingClassifier:\n",
    "    \"\"\"Implements model stacking with predict probabilities.\"\"\"\n",
    "\n",
    "    def __init__(self, \n",
    "            models: List[Dict[str, Any]], \n",
    "            metrics: Dict[str, Any] = None,\n",
    "            verbose: int = 1,\n",
    "            num_folds: int = 5,\n",
    "\n",
    "            # advanced usage\n",
    "            warm_start_level = None,\n",
    "            warm_start_stack = None,\n",
    "        ):\n",
    "        \"\"\"\n",
    "        models:\n",
    "            Dictionary of name-model pairs for each level. \n",
    "            Some constraints:\n",
    "                1) Unique names level-wise\n",
    "                2) Single model at last level\n",
    "                3) Model implements fit and predict_proba\n",
    "\n",
    "        verbose: 0 = not verbose, 1 = verbose\n",
    "\n",
    "        num_folds: No. of stratified cross-validation folds\n",
    "        \n",
    "        metrics: \n",
    "            Name-metric pairs for such that metric is a function of \n",
    "            (y_true, y_predict_proba). This defaults to ROC-AUC. If\n",
    "            there is warm-starting, defaults to metrics used by ref\n",
    "            stack.\n",
    "\n",
    "        warm_start_level:\n",
    "            Warm-starting refers to using levels of existing trained stack \n",
    "            (stack passed in warm_start_stack) before warm_start_level.\n",
    "            This is assumed to be in 1 <= j < len(warm_start_stack.models).\n",
    "        \n",
    "        warm_start_stack: \n",
    "            Use models and features from this stack so that predictions \n",
    "            of single models can be easily combined. And earlier models \n",
    "            need not be retrained. Some constraints:\n",
    "                1) Earlier levels have trained models\n",
    "                2) Earlier levels have metafeatures\n",
    "                3) Passed `self.models` will be appended to model dict \n",
    "                list up to warm start level.\n",
    "        \"\"\"\n",
    "\n",
    "        self.models = [{m: deepcopy(d[m]) for m in d.keys()} for d in models]\n",
    "        self.verbose = verbose\n",
    "        self.num_folds = num_folds\n",
    "        self.cv_scores_ = {}\n",
    "        self.train_ = None\n",
    "        self.metrics = {'roc_score':  roc_auc_score} if metrics is None else metrics\n",
    "        \n",
    "        # Warm starting\n",
    "        assert (warm_start_level is None) == (warm_start_stack is None)\n",
    "        if warm_start_level is not None:\n",
    "            self.warm_level = warm_start_level\n",
    "            self.warm_stack = warm_start_stack\n",
    "\n",
    "            # Ignore upper level meta-features of reference stack\n",
    "            skip = set()\n",
    "            for l in range(self.warm_level, len(self.warm_stack.models)):\n",
    "                for q in self.warm_stack.models[l].keys():\n",
    "                    skip.add(f\"{q}_{l}\")\n",
    "\n",
    "            _ = self.warm_stack.train_\n",
    "            self.train_ = _[[c for c in _.columns if c not in skip]]\n",
    "            \n",
    "            # Select cv scores of reference stack to include\n",
    "            for i in range(self.warm_level):\n",
    "                for k in [_ for _ in self.warm_stack.cv_scores_.keys() if f\"_{i}\" in _]:\n",
    "                    self.cv_scores_[k] = self.warm_stack.cv_scores_[k]\n",
    "            \n",
    "            # Update metrics to reference stack if None, else use passed metrics\n",
    "            self.metrics = self.warm_stack.metrics if metrics is None else metrics\n",
    "            \n",
    "            # Base models + stack top models\n",
    "            self.models = self.warm_stack.models[:self.warm_level] + self.models\n",
    "            \n",
    "            # Warm start model\n",
    "            self.fit(\n",
    "                self.train_.drop(['fold', 'target'], axis=1), \n",
    "                self.train_.target, \n",
    "                start_level=self.warm_level\n",
    "            )\n",
    "    \n",
    "    def fit(self, X: Union[pd.DataFrame, np.array], y: np.array, start_level=0):\n",
    "        \"\"\"Iteratively fit base models with metafeatures.\n",
    "\n",
    "        Some constraints on the input:\n",
    "            1) X must not have column named 'fold'\n",
    "            2) X must not have column named 'target'\n",
    "            3) X must not have column named f'{q}_{l}' for q model name, and 0 <= l < len(models)\n",
    "            4) The target vector y is binary (0 or 1).\n",
    "        \"\"\"\n",
    "\n",
    "        # Validate data (read docstring above)\n",
    "        train = pd.DataFrame(X)\n",
    "\n",
    "        # Create folds\n",
    "        skf = StratifiedKFold(n_splits=self.num_folds, shuffle=False)\n",
    "        train['target'] = y\n",
    "        train['fold'] = -1\n",
    "        for fold, (_, val_) in enumerate(skf.split(train.index, y)):\n",
    "            train.loc[val_, 'fold'] = fold\n",
    "        \n",
    "        # Create metafeatures for each level\n",
    "        for level in range(start_level, len(self.models)):\n",
    "            basemodels = self.models[level]\n",
    "            columns = [c for c in train.columns if f'_{level-1}' in str(c)] if level >= 1 else train.columns.drop(['fold', 'target'])\n",
    "            for q, model in basemodels.items():\n",
    "                if self.verbose:\n",
    "                    print(f\"\\nLevel {level} preds: {q}\")\n",
    "    \n",
    "                self.cv_scores_[f\"{q}_{level}\"] = {metric:[] for metric in self.metrics.keys()}\n",
    "                for i in range(self.num_folds):\n",
    "                    train_fld = train.query(f'fold != {i}')\n",
    "                    train_oof = train.query(f'fold == {i}')\n",
    "\n",
    "                    # Create train meta-features\n",
    "                    model_ = deepcopy(model)\n",
    "                    model_.fit(\n",
    "                        X=train_fld[columns], \n",
    "                        y=train_fld.target\n",
    "                    )\n",
    "                    p = model_.predict_proba(train_oof[columns])[:, 1]\n",
    "                    train.loc[train_oof.index, f\"{q}_{level}\"] = p\n",
    "\n",
    "                    # Compute cv scores\n",
    "                    message = []\n",
    "                    for metric, metric_fn in self.metrics.items():\n",
    "                        score = metric_fn(train_oof.target, p)\n",
    "                        self.cv_scores_[f\"{q}_{level}\"][metric].append(score)\n",
    "                        message.append(f'{metric}={score:.4f}')\n",
    "                    \n",
    "                    if self.verbose:\n",
    "                        print(f\"fold={i}, {', '.join(message)}\")\n",
    "\n",
    "                # Fit on entire train for inference\n",
    "                self.models[level][q] = model.fit(train[columns], train.target)\n",
    "\n",
    "        # Save features table\n",
    "        self.train_ = train\n",
    "\n",
    "        return self\n",
    "\n",
    "\n",
    "    def predict_proba(self, X: Union[pd.DataFrame, np.array]):\n",
    "        \"\"\"Return prediction probabilities for each row of the input.\"\"\"\n",
    "\n",
    "        # Predict with trained models\n",
    "        test = pd.DataFrame(X)\n",
    "        for level, basemodels in enumerate(self.models):\n",
    "            columns = [c for c in test.columns if f'_{level-1}' in str(c)] if level >= 1 else test.columns\n",
    "            for q, model in basemodels.items():\n",
    "                pred = model.predict_proba(test[columns])[:, 1]\n",
    "                test[f\"{q}_{level}\"] = pred\n",
    "        \n",
    "        # Return prediction of top-most model.\n",
    "        test_pred = test[f\"{list(self.models[-1].keys())[0]}_{len(self.models)-1}\"]\n",
    "        return np.c_[1-test_pred, test_pred]"
   ]
  },
  {
   "cell_type": "markdown",
   "id": "66fa8d83",
   "metadata": {},
   "source": [
    "The vectorizers expect 1-dimensional vectors$,$ so we define a helper transformer:"
   ]
  },
  {
   "cell_type": "code",
   "execution_count": 15,
   "id": "332837ea",
   "metadata": {},
   "outputs": [],
   "source": [
    "class ReviewColumnExtractor(BaseEstimator, ClassifierMixin):\n",
    "    def fit(self, X, y=None): return self\n",
    "    def transform(self, X): \n",
    "        return X.review.values.reshape(-1)\n",
    "\n",
    "lr = make_pipeline(\n",
    "    ReviewColumnExtractor(),\n",
    "    TfidfVectorizer(max_features=1000),\n",
    "    LogisticRegression(random_state=seed)\n",
    ")\n",
    "\n",
    "lr_cnt = make_pipeline(\n",
    "    ReviewColumnExtractor(),\n",
    "    CountVectorizer(),\n",
    "    LogisticRegression(solver='liblinear', random_state=seed)\n",
    ")\n",
    "\n",
    "rf_svd = make_pipeline(\n",
    "    ReviewColumnExtractor(),\n",
    "    TfidfVectorizer(max_features=None),\n",
    "    TruncatedSVD(n_components=120, random_state=seed),\n",
    "    RandomForestClassifier(n_estimators=100, n_jobs=-1, random_state=seed)\n",
    ")"
   ]
  },
  {
   "cell_type": "markdown",
   "id": "136bbbf7",
   "metadata": {},
   "source": [
    "Fitting the stacked models:"
   ]
  },
  {
   "cell_type": "code",
   "execution_count": 16,
   "id": "801390d1",
   "metadata": {},
   "outputs": [
    {
     "name": "stdout",
     "output_type": "stream",
     "text": [
      "\n",
      "Level 0 preds: lr\n",
      "fold=0, roc=0.9381, acc=0.8585\n",
      "fold=1, roc=0.9325, acc=0.8570\n",
      "fold=2, roc=0.9340, acc=0.8610\n",
      "fold=3, roc=0.9295, acc=0.8502\n",
      "fold=4, roc=0.9271, acc=0.8558\n",
      "\n",
      "Level 0 preds: lr_cnt\n",
      "fold=0, roc=0.9486, acc=0.8855\n",
      "fold=1, roc=0.9419, acc=0.8765\n",
      "fold=2, roc=0.9474, acc=0.8812\n",
      "fold=3, roc=0.9436, acc=0.8780\n",
      "fold=4, roc=0.9382, acc=0.8715\n",
      "\n",
      "Level 0 preds: rf_svd\n",
      "fold=0, roc=0.8831, acc=0.7985\n",
      "fold=1, roc=0.8762, acc=0.7975\n",
      "fold=2, roc=0.8792, acc=0.7973\n",
      "fold=3, roc=0.8731, acc=0.7963\n",
      "fold=4, roc=0.8795, acc=0.7995\n",
      "\n",
      "Level 1 preds: xgb\n",
      "fold=0, roc=0.9488, acc=0.8838\n",
      "fold=1, roc=0.9428, acc=0.8760\n",
      "fold=2, roc=0.9470, acc=0.8760\n",
      "fold=3, roc=0.9429, acc=0.8792\n",
      "fold=4, roc=0.9378, acc=0.8738\n"
     ]
    }
   ],
   "source": [
    "models = [\n",
    "    {'lr': lr, 'lr_cnt': lr_cnt, 'rf_svd': rf_svd},\n",
    "    {'xgb': XGBClassifier(seed=seed, eval_metric='logloss')}\n",
    "]\n",
    "\n",
    "metrics = {\n",
    "    'roc': lambda y_true, y_prob:  roc_auc_score(y_true, y_prob),\n",
    "    'acc': lambda y_true, y_prob: accuracy_score(y_true, y_prob >= 0.5)\n",
    "}\n",
    "\n",
    "stack = StackingClassifier(models, metrics=metrics)\n",
    "stack.fit(train[['review']], train.sentiment);"
   ]
  },
  {
   "cell_type": "markdown",
   "id": "2cb25f5a",
   "metadata": {},
   "source": [
    "Generated probability features can be accessed as follows:"
   ]
  },
  {
   "cell_type": "code",
   "execution_count": 17,
   "id": "e726d8ca",
   "metadata": {},
   "outputs": [
    {
     "data": {
      "text/html": [
       "<div>\n",
       "<style scoped>\n",
       "    .dataframe tbody tr th:only-of-type {\n",
       "        vertical-align: middle;\n",
       "    }\n",
       "\n",
       "    .dataframe tbody tr th {\n",
       "        vertical-align: top;\n",
       "    }\n",
       "\n",
       "    .dataframe thead th {\n",
       "        text-align: right;\n",
       "    }\n",
       "</style>\n",
       "<table border=\"1\" class=\"dataframe\">\n",
       "  <thead>\n",
       "    <tr style=\"text-align: right;\">\n",
       "      <th></th>\n",
       "      <th>review</th>\n",
       "      <th>target</th>\n",
       "      <th>fold</th>\n",
       "      <th>lr_0</th>\n",
       "      <th>lr_cnt_0</th>\n",
       "      <th>rf_svd_0</th>\n",
       "      <th>xgb_1</th>\n",
       "    </tr>\n",
       "  </thead>\n",
       "  <tbody>\n",
       "    <tr>\n",
       "      <th>0</th>\n",
       "      <td>This movie is just plain dumb.&lt;br /&gt;&lt;br /&gt;From...</td>\n",
       "      <td>0</td>\n",
       "      <td>0</td>\n",
       "      <td>0.052181</td>\n",
       "      <td>0.001930</td>\n",
       "      <td>0.27</td>\n",
       "      <td>0.011519</td>\n",
       "    </tr>\n",
       "    <tr>\n",
       "      <th>1</th>\n",
       "      <td>Dahmer, a young confused man. Dahmer, a confus...</td>\n",
       "      <td>0</td>\n",
       "      <td>0</td>\n",
       "      <td>0.029885</td>\n",
       "      <td>0.000006</td>\n",
       "      <td>0.30</td>\n",
       "      <td>0.023870</td>\n",
       "    </tr>\n",
       "    <tr>\n",
       "      <th>2</th>\n",
       "      <td>May the saints preserve us, because this movie...</td>\n",
       "      <td>0</td>\n",
       "      <td>0</td>\n",
       "      <td>0.052702</td>\n",
       "      <td>0.000440</td>\n",
       "      <td>0.32</td>\n",
       "      <td>0.007410</td>\n",
       "    </tr>\n",
       "    <tr>\n",
       "      <th>3</th>\n",
       "      <td>The combination of reading the Novella and vie...</td>\n",
       "      <td>1</td>\n",
       "      <td>0</td>\n",
       "      <td>0.917899</td>\n",
       "      <td>0.996462</td>\n",
       "      <td>0.65</td>\n",
       "      <td>0.977768</td>\n",
       "    </tr>\n",
       "    <tr>\n",
       "      <th>4</th>\n",
       "      <td>Daniel Day Lewis in My Left Foot gives us one ...</td>\n",
       "      <td>1</td>\n",
       "      <td>0</td>\n",
       "      <td>0.982799</td>\n",
       "      <td>0.999165</td>\n",
       "      <td>0.86</td>\n",
       "      <td>0.998865</td>\n",
       "    </tr>\n",
       "  </tbody>\n",
       "</table>\n",
       "</div>"
      ],
      "text/plain": [
       "                                              review  target  fold      lr_0  \\\n",
       "0  This movie is just plain dumb.<br /><br />From...       0     0  0.052181   \n",
       "1  Dahmer, a young confused man. Dahmer, a confus...       0     0  0.029885   \n",
       "2  May the saints preserve us, because this movie...       0     0  0.052702   \n",
       "3  The combination of reading the Novella and vie...       1     0  0.917899   \n",
       "4  Daniel Day Lewis in My Left Foot gives us one ...       1     0  0.982799   \n",
       "\n",
       "   lr_cnt_0  rf_svd_0     xgb_1  \n",
       "0  0.001930      0.27  0.011519  \n",
       "1  0.000006      0.30  0.023870  \n",
       "2  0.000440      0.32  0.007410  \n",
       "3  0.996462      0.65  0.977768  \n",
       "4  0.999165      0.86  0.998865  "
      ]
     },
     "execution_count": 17,
     "metadata": {},
     "output_type": "execute_result"
    }
   ],
   "source": [
    "stack.train_.head()"
   ]
  },
  {
   "cell_type": "markdown",
   "id": "edf14c66",
   "metadata": {},
   "source": [
    "Hacking into the models allow us to compute train and test results for single models:"
   ]
  },
  {
   "cell_type": "code",
   "execution_count": 44,
   "id": "c9e59fb6",
   "metadata": {},
   "outputs": [
    {
     "data": {
      "text/html": [
       "<div>\n",
       "<style scoped>\n",
       "    .dataframe tbody tr th:only-of-type {\n",
       "        vertical-align: middle;\n",
       "    }\n",
       "\n",
       "    .dataframe tbody tr th {\n",
       "        vertical-align: top;\n",
       "    }\n",
       "\n",
       "    .dataframe thead th {\n",
       "        text-align: right;\n",
       "    }\n",
       "</style>\n",
       "<table border=\"1\" class=\"dataframe\">\n",
       "  <thead>\n",
       "    <tr style=\"text-align: right;\">\n",
       "      <th></th>\n",
       "      <th>lr_0</th>\n",
       "      <th>lr_cnt_0</th>\n",
       "      <th>rf_svd_0</th>\n",
       "    </tr>\n",
       "  </thead>\n",
       "  <tbody>\n",
       "    <tr>\n",
       "      <th>cv_roc</th>\n",
       "      <td>0.9322 ± 0.0038</td>\n",
       "      <td>0.9439 ± 0.0038</td>\n",
       "      <td>0.8782 ± 0.0034</td>\n",
       "    </tr>\n",
       "    <tr>\n",
       "      <th>cv_acc</th>\n",
       "      <td>0.8565 ± 0.0036</td>\n",
       "      <td>0.8786 ± 0.0047</td>\n",
       "      <td>0.7978 ± 0.0011</td>\n",
       "    </tr>\n",
       "    <tr>\n",
       "      <th>test_roc</th>\n",
       "      <td>0.9404</td>\n",
       "      <td>0.9473</td>\n",
       "      <td>0.8794</td>\n",
       "    </tr>\n",
       "    <tr>\n",
       "      <th>test_acc</th>\n",
       "      <td>0.871</td>\n",
       "      <td>0.8838</td>\n",
       "      <td>0.7976</td>\n",
       "    </tr>\n",
       "  </tbody>\n",
       "</table>\n",
       "</div>"
      ],
      "text/plain": [
       "                     lr_0         lr_cnt_0         rf_svd_0\n",
       "cv_roc    0.9322 ± 0.0038  0.9439 ± 0.0038  0.8782 ± 0.0034\n",
       "cv_acc    0.8565 ± 0.0036  0.8786 ± 0.0047  0.7978 ± 0.0011\n",
       "test_roc           0.9404           0.9473           0.8794\n",
       "test_acc            0.871           0.8838           0.7976"
      ]
     },
     "execution_count": 44,
     "metadata": {},
     "output_type": "execute_result"
    }
   ],
   "source": [
    "# Compute train cv results table\n",
    "index = []\n",
    "for level in range(len(stack.models)-1):\n",
    "    for q in stack.models[level].keys():\n",
    "        index.append(f\"{q}_{level}\")\n",
    "\n",
    "results = pd.DataFrame(\n",
    "    index=index,\n",
    "    columns=[f'cv_{metric}' for metric in stack.metrics.keys()] + [f'test_{metric}' for metric in stack.metrics.keys()]\n",
    ")\n",
    "\n",
    "# Compute cv scores\n",
    "for level in range(len(stack.models)-1):\n",
    "    for metric in stack.metrics.keys():\n",
    "        for q in stack.models[level].keys():                        \n",
    "            cv_scores = np.array(stack.cv_scores_[f\"{q}_{level}\"][metric])\n",
    "            results.loc[f\"{q}_{level}\", f'cv_{metric}'] = f\"{cv_scores.mean():.4f} ± {cv_scores.std():.4f}\"\n",
    "\n",
    "# Compute test scores\n",
    "for metric, metric_fn in stack.metrics.items():\n",
    "    for q in stack.models[0].keys():\n",
    "        results.loc[f\"{q}_0\", f'test_{metric}'] = round(metric_fn(test.sentiment, stack.models[0][f'{q}'].predict_proba(test[['review']])[:, 1]), 4)\n",
    "        results.loc[f\"{q}_0\", f'test_{metric}'] = round(metric_fn(test.sentiment, stack.models[0][f'{q}'].predict_proba(test[['review']])[:, 1]), 4)\n",
    "        results.loc[f\"{q}_0\", f'test_{metric}'] = round(metric_fn(test.sentiment, stack.models[0][f'{q}'].predict_proba(test[['review']])[:, 1]), 4)\n",
    "\n",
    "results.T"
   ]
  },
  {
   "cell_type": "markdown",
   "id": "fd5ee1ad",
   "metadata": {},
   "source": [
    "For convenience, we define a helper function for updating results for new stacks:"
   ]
  },
  {
   "cell_type": "code",
   "execution_count": 19,
   "id": "ae9c016c",
   "metadata": {},
   "outputs": [],
   "source": [
    "def update_results(results, stack):\n",
    "\n",
    "    # Get name of final model\n",
    "    l = len(stack.models) - 1\n",
    "    q = list(stack.models[-1].keys())[0]\n",
    "\n",
    "    # Compute cv scores\n",
    "    for metric, metric_fn in stack.metrics.items():\n",
    "        cv_scores = np.array(stack.cv_scores_[f\"{q}_{l}\"][metric])\n",
    "        results.loc[f\"{q}_{l}\", f'cv_{metric}'] = f\"{cv_scores.mean():.4f} ± {cv_scores.std():.4f}\"\n",
    "        \n",
    "        # Compute test scores\n",
    "        test_pred = stack.predict_proba(test[['review']])[:, 1]\n",
    "        score = metric_fn(test['sentiment'], test_pred)\n",
    "        results.loc[f\"{q}_{l}\", f'test_{metric}'] = round(score, 4)\n",
    "\n",
    "    return results"
   ]
  },
  {
   "cell_type": "markdown",
   "id": "2f78b9d1",
   "metadata": {},
   "source": [
    "### Reproducing initial results"
   ]
  },
  {
   "cell_type": "code",
   "execution_count": 20,
   "id": "77027fb1",
   "metadata": {},
   "outputs": [
    {
     "data": {
      "text/html": [
       "<div>\n",
       "<style scoped>\n",
       "    .dataframe tbody tr th:only-of-type {\n",
       "        vertical-align: middle;\n",
       "    }\n",
       "\n",
       "    .dataframe tbody tr th {\n",
       "        vertical-align: top;\n",
       "    }\n",
       "\n",
       "    .dataframe thead th {\n",
       "        text-align: right;\n",
       "    }\n",
       "</style>\n",
       "<table border=\"1\" class=\"dataframe\">\n",
       "  <thead>\n",
       "    <tr style=\"text-align: right;\">\n",
       "      <th></th>\n",
       "      <th>lr_0</th>\n",
       "      <th>lr_cnt_0</th>\n",
       "      <th>rf_svd_0</th>\n",
       "      <th>xgb_1</th>\n",
       "    </tr>\n",
       "  </thead>\n",
       "  <tbody>\n",
       "    <tr>\n",
       "      <th>cv_roc</th>\n",
       "      <td>0.9322 ± 0.0038</td>\n",
       "      <td>0.9439 ± 0.0038</td>\n",
       "      <td>0.8782 ± 0.0034</td>\n",
       "      <td>0.9439 ± 0.0038</td>\n",
       "    </tr>\n",
       "    <tr>\n",
       "      <th>cv_acc</th>\n",
       "      <td>0.8565 ± 0.0036</td>\n",
       "      <td>0.8786 ± 0.0047</td>\n",
       "      <td>0.7978 ± 0.0011</td>\n",
       "      <td>0.8778 ± 0.0035</td>\n",
       "    </tr>\n",
       "    <tr>\n",
       "      <th>test_roc</th>\n",
       "      <td>0.9404</td>\n",
       "      <td>0.9473</td>\n",
       "      <td>0.8794</td>\n",
       "      <td>0.9498</td>\n",
       "    </tr>\n",
       "    <tr>\n",
       "      <th>test_acc</th>\n",
       "      <td>0.871</td>\n",
       "      <td>0.8838</td>\n",
       "      <td>0.7976</td>\n",
       "      <td>0.886</td>\n",
       "    </tr>\n",
       "  </tbody>\n",
       "</table>\n",
       "</div>"
      ],
      "text/plain": [
       "                     lr_0         lr_cnt_0         rf_svd_0            xgb_1\n",
       "cv_roc    0.9322 ± 0.0038  0.9439 ± 0.0038  0.8782 ± 0.0034  0.9439 ± 0.0038\n",
       "cv_acc    0.8565 ± 0.0036  0.8786 ± 0.0047  0.7978 ± 0.0011  0.8778 ± 0.0035\n",
       "test_roc           0.9404           0.9473           0.8794           0.9498\n",
       "test_acc            0.871           0.8838           0.7976            0.886"
      ]
     },
     "execution_count": 20,
     "metadata": {},
     "output_type": "execute_result"
    }
   ],
   "source": [
    "results = update_results(results, stack) # xgb stack\n",
    "results.T"
   ]
  },
  {
   "cell_type": "markdown",
   "id": "98eba45f",
   "metadata": {},
   "source": [
    "The results are consistent with what we obtained above. This means that our involved implementation somehow worked and is able to produce reproducible results."
   ]
  },
  {
   "cell_type": "markdown",
   "id": "4a9933cf",
   "metadata": {},
   "source": [
    "## Blending"
   ]
  },
  {
   "cell_type": "markdown",
   "id": "6820c84b",
   "metadata": {
    "editable": false,
    "execution": {
     "iopub.execute_input": "2021-08-23T17:34:52.241474Z",
     "iopub.status.busy": "2021-08-23T17:34:52.240952Z",
     "iopub.status.idle": "2021-08-23T17:34:52.256728Z",
     "shell.execute_reply": "2021-08-23T17:34:52.255385Z",
     "shell.execute_reply.started": "2021-08-23T17:34:52.241439Z"
    },
    "id": "eef6d053",
    "papermill": {
     "duration": 0.016845,
     "end_time": "2022-01-07T14:10:35.073807",
     "exception": false,
     "start_time": "2022-01-07T14:10:35.056962",
     "status": "completed"
    },
    "tags": []
   },
   "source": [
    "A simple method of combining predictions of multiple models is to just take the weighted average of their predictions for some coefficients. This technique is aptly called **blending**. Note that the coefficients can be hand picked, but as we will show below, they can also be learned.\n",
    "\n",
    "For the sake of comparison, we will be using the same base models that we used above. Although in actual practice, we would spend as much time as possible to improving the base models, and only use stacking for marginal gains. \n",
    "\n",
    "Blending works best when the base probabilities uncorrelated:"
   ]
  },
  {
   "cell_type": "code",
   "execution_count": 21,
   "id": "4bde526f",
   "metadata": {
    "editable": false,
    "execution": {
     "iopub.execute_input": "2022-01-07T14:11:53.381290Z",
     "iopub.status.busy": "2022-01-07T14:11:53.380976Z",
     "iopub.status.idle": "2022-01-07T14:11:53.384644Z",
     "shell.execute_reply": "2022-01-07T14:11:53.384831Z",
     "shell.execute_reply.started": "2022-01-03T09:38:24.985354Z"
    },
    "id": "334b3b59",
    "outputId": "43ebf3fa-8b42-44f8-a978-e9a0f236be33",
    "papermill": {
     "duration": 0.023383,
     "end_time": "2022-01-07T14:11:53.384927",
     "exception": false,
     "start_time": "2022-01-07T14:11:53.361544",
     "status": "completed"
    },
    "tags": []
   },
   "outputs": [
    {
     "data": {
      "text/html": [
       "<div>\n",
       "<style scoped>\n",
       "    .dataframe tbody tr th:only-of-type {\n",
       "        vertical-align: middle;\n",
       "    }\n",
       "\n",
       "    .dataframe tbody tr th {\n",
       "        vertical-align: top;\n",
       "    }\n",
       "\n",
       "    .dataframe thead th {\n",
       "        text-align: right;\n",
       "    }\n",
       "</style>\n",
       "<table border=\"1\" class=\"dataframe\">\n",
       "  <thead>\n",
       "    <tr style=\"text-align: right;\">\n",
       "      <th></th>\n",
       "      <th>lr_0</th>\n",
       "      <th>lr_cnt_0</th>\n",
       "      <th>rf_svd_0</th>\n",
       "    </tr>\n",
       "  </thead>\n",
       "  <tbody>\n",
       "    <tr>\n",
       "      <th>lr_0</th>\n",
       "      <td>1.000000</td>\n",
       "      <td>0.884571</td>\n",
       "      <td>0.832398</td>\n",
       "    </tr>\n",
       "    <tr>\n",
       "      <th>lr_cnt_0</th>\n",
       "      <td>0.884571</td>\n",
       "      <td>1.000000</td>\n",
       "      <td>0.727050</td>\n",
       "    </tr>\n",
       "    <tr>\n",
       "      <th>rf_svd_0</th>\n",
       "      <td>0.832398</td>\n",
       "      <td>0.727050</td>\n",
       "      <td>1.000000</td>\n",
       "    </tr>\n",
       "  </tbody>\n",
       "</table>\n",
       "</div>"
      ],
      "text/plain": [
       "              lr_0  lr_cnt_0  rf_svd_0\n",
       "lr_0      1.000000  0.884571  0.832398\n",
       "lr_cnt_0  0.884571  1.000000  0.727050\n",
       "rf_svd_0  0.832398  0.727050  1.000000"
      ]
     },
     "execution_count": 21,
     "metadata": {},
     "output_type": "execute_result"
    }
   ],
   "source": [
    "stack.train_[['lr_0', 'lr_cnt_0', 'rf_svd_0']].corr()"
   ]
  },
  {
   "cell_type": "markdown",
   "id": "d566a426",
   "metadata": {
    "editable": false,
    "id": "d491cec1",
    "papermill": {
     "duration": 0.018151,
     "end_time": "2022-01-07T14:11:53.570281",
     "exception": false,
     "start_time": "2022-01-07T14:11:53.552130",
     "status": "completed"
    },
    "tags": []
   },
   "source": [
    "Looks fairly uncorrelated. Let's try to blend the probabilities using some hand-designed coefficients."
   ]
  },
  {
   "cell_type": "code",
   "execution_count": 22,
   "id": "75e0ca74",
   "metadata": {
    "editable": false,
    "execution": {
     "iopub.execute_input": "2022-01-07T14:11:53.611109Z",
     "iopub.status.busy": "2022-01-07T14:11:53.610801Z",
     "iopub.status.idle": "2022-01-07T14:11:53.643333Z",
     "shell.execute_reply": "2022-01-07T14:11:53.643621Z",
     "shell.execute_reply.started": "2022-01-03T09:38:25.047993Z"
    },
    "id": "2429bd72",
    "outputId": "6a078541-bb31-4dd2-8ac9-445060683b1b",
    "papermill": {
     "duration": 0.054977,
     "end_time": "2022-01-07T14:11:53.643723",
     "exception": false,
     "start_time": "2022-01-07T14:11:53.588746",
     "status": "completed"
    },
    "tags": []
   },
   "outputs": [
    {
     "name": "stdout",
     "output_type": "stream",
     "text": [
      "auc (train) (averaged):       0.9468\n",
      "auc (train) (wtd. avg):       0.9483\n",
      "auc (train) (rank avg):       0.9423\n",
      "auc (train) (wtd. rank avg):  0.9486\n"
     ]
    }
   ],
   "source": [
    "# AUC is scale invariant, so we dont bother dividing by total weights\n",
    "metafeatures = stack.train_[['lr_0', 'lr_cnt_0', 'rf_svd_0']]\n",
    "avg_preds = (metafeatures * [1, 1, 1]).sum(axis=1)\n",
    "wtd_preds = (metafeatures * [1, 3, 1]).sum(axis=1)\n",
    "rank_avg_preds = (metafeatures.rank() * [1, 1, 1]).sum(axis=1)\n",
    "rank_wtd_preds = (metafeatures.rank() * [1, 3, 1]).sum(axis=1)\n",
    "\n",
    "print(f\"auc (train) (averaged):       {roc_auc_score(train.sentiment.values, avg_preds):.4f}\")\n",
    "print(f\"auc (train) (wtd. avg):       {roc_auc_score(train.sentiment.values, wtd_preds):.4f}\")\n",
    "print(f\"auc (train) (rank avg):       {roc_auc_score(train.sentiment.values, rank_avg_preds):.4f}\") \n",
    "print(f\"auc (train) (wtd. rank avg):  {roc_auc_score(train.sentiment.values, rank_wtd_preds):.4f}\")"
   ]
  },
  {
   "cell_type": "markdown",
   "id": "1f4e40e3",
   "metadata": {
    "papermill": {
     "duration": 0.017455,
     "end_time": "2022-01-07T14:11:53.677585",
     "exception": false,
     "start_time": "2022-01-07T14:11:53.660130",
     "status": "completed"
    },
    "tags": []
   },
   "source": [
    "### Optimizing AUC"
   ]
  },
  {
   "cell_type": "markdown",
   "id": "68ae6fcb",
   "metadata": {
    "editable": false,
    "id": "289771ae",
    "papermill": {
     "duration": 0.026984,
     "end_time": "2022-01-07T14:11:53.723328",
     "exception": false,
     "start_time": "2022-01-07T14:11:53.696344",
     "status": "completed"
    },
    "tags": []
   },
   "source": [
    "Since these coefficients are hand-designed, we may want to devise a strategy for automatically finding the optimal coefficients for blending. This is accomplished by the folowing class."
   ]
  },
  {
   "cell_type": "code",
   "execution_count": 23,
   "id": "2197dca3",
   "metadata": {
    "editable": false,
    "execution": {
     "iopub.execute_input": "2022-01-07T14:11:53.777748Z",
     "iopub.status.busy": "2022-01-07T14:11:53.777382Z",
     "iopub.status.idle": "2022-01-07T14:11:53.778608Z",
     "shell.execute_reply": "2022-01-07T14:11:53.778868Z",
     "shell.execute_reply.started": "2022-01-03T09:38:25.072447Z"
    },
    "id": "29872038",
    "papermill": {
     "duration": 0.036372,
     "end_time": "2022-01-07T14:11:53.778992",
     "exception": false,
     "start_time": "2022-01-07T14:11:53.742620",
     "status": "completed"
    },
    "tags": []
   },
   "outputs": [],
   "source": [
    "class Blender:\n",
    "    \"\"\"Implement blending that maximizes AUC score.\"\"\"\n",
    "    \n",
    "    def __init__(self, rank=False, random_state=42):\n",
    "        self.coef_ = None\n",
    "        self.rank = rank\n",
    "        self.random_state = random_state\n",
    "\n",
    "    def fit(self, X, y):\n",
    "        \"\"\"Find optimal blending coefficients.\"\"\"\n",
    "        \n",
    "        X = pd.DataFrame(X)\n",
    "        if self.rank:\n",
    "            X = X.rank()\n",
    "\n",
    "        self.coef_ = self._optimize_auc(X, y)\n",
    "        return self\n",
    "\n",
    "    def predict_proba(self, X):\n",
    "        \"\"\"Return blended probabilities for class 0 and class 1.\"\"\"\n",
    "        \n",
    "        X = pd.DataFrame(X)\n",
    "        if self.rank:\n",
    "            X = X.rank()\n",
    "            \n",
    "        pred = np.sum(X * self.coef_, axis=1)\n",
    "        return np.c_[1 - pred, pred]\n",
    "\n",
    "    def _auc(self, coef, X, y):\n",
    "        \"\"\"Calculate AUC of blended predict probas.\"\"\"\n",
    "\n",
    "        auc = roc_auc_score(y, np.sum(X * coef, axis=1))\n",
    "        return -1.0 * auc # min -auc = max auc\n",
    "    \n",
    "    def _optimize_auc(self, X, y):\n",
    "        \"\"\"\n",
    "        Maximize AUC as a bound-constrained optimization problem using Nelder-Mead method \n",
    "        with coefficients initialized from a Dirichlet distribution with a = [1, ..., 1]. \n",
    "        \n",
    "        Reference: \n",
    "        https://docs.scipy.org/doc/scipy/reference/generated/scipy.optimize.minimize.html\n",
    "        \"\"\"\n",
    "        partial_loss = partial(self._auc, X=X, y=y) \n",
    "        rng = np.random.RandomState(self.random_state)\n",
    "        init_coef = rng.dirichlet(np.ones(X.shape[1]))\n",
    "        return minimize(partial_loss, init_coef, \n",
    "                        method='Nelder-Mead', \n",
    "                        bounds=[(0, 1)]*X.shape[1])['x']"
   ]
  },
  {
   "cell_type": "markdown",
   "id": "c97e53d7",
   "metadata": {},
   "source": [
    "Calculating CV scores for blender model by warm-starting previous trained stack:"
   ]
  },
  {
   "cell_type": "code",
   "execution_count": 24,
   "id": "2b8d1d6d",
   "metadata": {},
   "outputs": [
    {
     "name": "stdout",
     "output_type": "stream",
     "text": [
      "\n",
      "Level 1 preds: blender\n",
      "fold=0, roc=0.9540, acc=0.8875\n",
      "fold=1, roc=0.9473, acc=0.8588\n",
      "fold=2, roc=0.9516, acc=0.8688\n",
      "fold=3, roc=0.9460, acc=0.8675\n",
      "fold=4, roc=0.9437, acc=0.8610\n"
     ]
    }
   ],
   "source": [
    "blender_stack = StackingClassifier(\n",
    "    models=[{'blender': Blender()}],\n",
    "    warm_start_level=1,\n",
    "    warm_start_stack=stack\n",
    ")"
   ]
  },
  {
   "cell_type": "markdown",
   "id": "c9b23af5",
   "metadata": {},
   "source": [
    "Note that the metrics are inherited from the reference stack since we provided none. Also note that level 1 meta-features are not inherited by the warm-started stack. The inherited models are also only up to the warm start level."
   ]
  },
  {
   "cell_type": "code",
   "execution_count": 25,
   "id": "65e3cffa",
   "metadata": {},
   "outputs": [
    {
     "data": {
      "text/html": [
       "<div>\n",
       "<style scoped>\n",
       "    .dataframe tbody tr th:only-of-type {\n",
       "        vertical-align: middle;\n",
       "    }\n",
       "\n",
       "    .dataframe tbody tr th {\n",
       "        vertical-align: top;\n",
       "    }\n",
       "\n",
       "    .dataframe thead th {\n",
       "        text-align: right;\n",
       "    }\n",
       "</style>\n",
       "<table border=\"1\" class=\"dataframe\">\n",
       "  <thead>\n",
       "    <tr style=\"text-align: right;\">\n",
       "      <th></th>\n",
       "      <th>review</th>\n",
       "      <th>lr_0</th>\n",
       "      <th>lr_cnt_0</th>\n",
       "      <th>rf_svd_0</th>\n",
       "      <th>target</th>\n",
       "      <th>fold</th>\n",
       "      <th>blender_1</th>\n",
       "    </tr>\n",
       "  </thead>\n",
       "  <tbody>\n",
       "    <tr>\n",
       "      <th>0</th>\n",
       "      <td>This movie is just plain dumb.&lt;br /&gt;&lt;br /&gt;From...</td>\n",
       "      <td>0.052181</td>\n",
       "      <td>0.001930</td>\n",
       "      <td>0.27</td>\n",
       "      <td>0</td>\n",
       "      <td>0</td>\n",
       "      <td>0.032093</td>\n",
       "    </tr>\n",
       "    <tr>\n",
       "      <th>1</th>\n",
       "      <td>Dahmer, a young confused man. Dahmer, a confus...</td>\n",
       "      <td>0.029885</td>\n",
       "      <td>0.000006</td>\n",
       "      <td>0.30</td>\n",
       "      <td>0</td>\n",
       "      <td>0</td>\n",
       "      <td>0.028978</td>\n",
       "    </tr>\n",
       "    <tr>\n",
       "      <th>2</th>\n",
       "      <td>May the saints preserve us, because this movie...</td>\n",
       "      <td>0.052702</td>\n",
       "      <td>0.000440</td>\n",
       "      <td>0.32</td>\n",
       "      <td>0</td>\n",
       "      <td>0</td>\n",
       "      <td>0.035302</td>\n",
       "    </tr>\n",
       "    <tr>\n",
       "      <th>3</th>\n",
       "      <td>The combination of reading the Novella and vie...</td>\n",
       "      <td>0.917899</td>\n",
       "      <td>0.996462</td>\n",
       "      <td>0.65</td>\n",
       "      <td>1</td>\n",
       "      <td>0</td>\n",
       "      <td>0.718977</td>\n",
       "    </tr>\n",
       "    <tr>\n",
       "      <th>4</th>\n",
       "      <td>Daniel Day Lewis in My Left Foot gives us one ...</td>\n",
       "      <td>0.982799</td>\n",
       "      <td>0.999165</td>\n",
       "      <td>0.86</td>\n",
       "      <td>1</td>\n",
       "      <td>0</td>\n",
       "      <td>0.749406</td>\n",
       "    </tr>\n",
       "  </tbody>\n",
       "</table>\n",
       "</div>"
      ],
      "text/plain": [
       "                                              review      lr_0  lr_cnt_0  \\\n",
       "0  This movie is just plain dumb.<br /><br />From...  0.052181  0.001930   \n",
       "1  Dahmer, a young confused man. Dahmer, a confus...  0.029885  0.000006   \n",
       "2  May the saints preserve us, because this movie...  0.052702  0.000440   \n",
       "3  The combination of reading the Novella and vie...  0.917899  0.996462   \n",
       "4  Daniel Day Lewis in My Left Foot gives us one ...  0.982799  0.999165   \n",
       "\n",
       "   rf_svd_0  target  fold  blender_1  \n",
       "0      0.27       0     0   0.032093  \n",
       "1      0.30       0     0   0.028978  \n",
       "2      0.32       0     0   0.035302  \n",
       "3      0.65       1     0   0.718977  \n",
       "4      0.86       1     0   0.749406  "
      ]
     },
     "execution_count": 25,
     "metadata": {},
     "output_type": "execute_result"
    }
   ],
   "source": [
    "blender_stack.train_.head()"
   ]
  },
  {
   "cell_type": "code",
   "execution_count": 26,
   "id": "d60798df",
   "metadata": {},
   "outputs": [
    {
     "data": {
      "text/plain": [
       "[{'lr': Pipeline(steps=[('reviewcolumnextractor', ReviewColumnExtractor()),\n",
       "                  ('tfidfvectorizer', TfidfVectorizer(max_features=1000)),\n",
       "                  ('logisticregression', LogisticRegression(random_state=42))]),\n",
       "  'lr_cnt': Pipeline(steps=[('reviewcolumnextractor', ReviewColumnExtractor()),\n",
       "                  ('countvectorizer', CountVectorizer()),\n",
       "                  ('logisticregression',\n",
       "                   LogisticRegression(random_state=42, solver='liblinear'))]),\n",
       "  'rf_svd': Pipeline(steps=[('reviewcolumnextractor', ReviewColumnExtractor()),\n",
       "                  ('tfidfvectorizer', TfidfVectorizer()),\n",
       "                  ('truncatedsvd',\n",
       "                   TruncatedSVD(n_components=120, random_state=42)),\n",
       "                  ('randomforestclassifier',\n",
       "                   RandomForestClassifier(n_jobs=-1, random_state=42))])},\n",
       " {'blender': <__main__.Blender at 0x17737ec10>}]"
      ]
     },
     "execution_count": 26,
     "metadata": {},
     "output_type": "execute_result"
    }
   ],
   "source": [
    "blender_stack.models"
   ]
  },
  {
   "cell_type": "markdown",
   "id": "b7375cde",
   "metadata": {},
   "source": [
    "### Results with blending"
   ]
  },
  {
   "cell_type": "markdown",
   "id": "08a4b9ac",
   "metadata": {},
   "source": [
    "Adding blending scores to results table. Blending has significantly better AUC scores but significantly worse accuracy scores than gradient boosting. "
   ]
  },
  {
   "cell_type": "code",
   "execution_count": 27,
   "id": "9b9930cf",
   "metadata": {},
   "outputs": [
    {
     "data": {
      "text/html": [
       "<div>\n",
       "<style scoped>\n",
       "    .dataframe tbody tr th:only-of-type {\n",
       "        vertical-align: middle;\n",
       "    }\n",
       "\n",
       "    .dataframe tbody tr th {\n",
       "        vertical-align: top;\n",
       "    }\n",
       "\n",
       "    .dataframe thead th {\n",
       "        text-align: right;\n",
       "    }\n",
       "</style>\n",
       "<table border=\"1\" class=\"dataframe\">\n",
       "  <thead>\n",
       "    <tr style=\"text-align: right;\">\n",
       "      <th></th>\n",
       "      <th>lr_0</th>\n",
       "      <th>lr_cnt_0</th>\n",
       "      <th>rf_svd_0</th>\n",
       "      <th>xgb_1</th>\n",
       "      <th>blender_1</th>\n",
       "    </tr>\n",
       "  </thead>\n",
       "  <tbody>\n",
       "    <tr>\n",
       "      <th>cv_roc</th>\n",
       "      <td>0.9322 ± 0.0038</td>\n",
       "      <td>0.9439 ± 0.0038</td>\n",
       "      <td>0.8782 ± 0.0034</td>\n",
       "      <td>0.9439 ± 0.0038</td>\n",
       "      <td>0.9485 ± 0.0038</td>\n",
       "    </tr>\n",
       "    <tr>\n",
       "      <th>cv_acc</th>\n",
       "      <td>0.8565 ± 0.0036</td>\n",
       "      <td>0.8786 ± 0.0047</td>\n",
       "      <td>0.7978 ± 0.0011</td>\n",
       "      <td>0.8778 ± 0.0035</td>\n",
       "      <td>0.8687 ± 0.0101</td>\n",
       "    </tr>\n",
       "    <tr>\n",
       "      <th>test_roc</th>\n",
       "      <td>0.9404</td>\n",
       "      <td>0.9473</td>\n",
       "      <td>0.8794</td>\n",
       "      <td>0.9498</td>\n",
       "      <td>0.9538</td>\n",
       "    </tr>\n",
       "    <tr>\n",
       "      <th>test_acc</th>\n",
       "      <td>0.871</td>\n",
       "      <td>0.8838</td>\n",
       "      <td>0.7976</td>\n",
       "      <td>0.886</td>\n",
       "      <td>0.8794</td>\n",
       "    </tr>\n",
       "  </tbody>\n",
       "</table>\n",
       "</div>"
      ],
      "text/plain": [
       "                     lr_0         lr_cnt_0         rf_svd_0            xgb_1  \\\n",
       "cv_roc    0.9322 ± 0.0038  0.9439 ± 0.0038  0.8782 ± 0.0034  0.9439 ± 0.0038   \n",
       "cv_acc    0.8565 ± 0.0036  0.8786 ± 0.0047  0.7978 ± 0.0011  0.8778 ± 0.0035   \n",
       "test_roc           0.9404           0.9473           0.8794           0.9498   \n",
       "test_acc            0.871           0.8838           0.7976            0.886   \n",
       "\n",
       "                blender_1  \n",
       "cv_roc    0.9485 ± 0.0038  \n",
       "cv_acc    0.8687 ± 0.0101  \n",
       "test_roc           0.9538  \n",
       "test_acc           0.8794  "
      ]
     },
     "execution_count": 27,
     "metadata": {},
     "output_type": "execute_result"
    }
   ],
   "source": [
    "results = update_results(results, blender_stack)\n",
    "results.T"
   ]
  },
  {
   "cell_type": "markdown",
   "id": "626abad9",
   "metadata": {},
   "source": [
    "Doing the same for blending with rank. Note that don't have an accuracy metric. This is because we only use this type of model for comparing scores."
   ]
  },
  {
   "cell_type": "code",
   "execution_count": 28,
   "id": "47cc38fe",
   "metadata": {
    "editable": false,
    "execution": {
     "iopub.execute_input": "2022-01-07T14:11:55.122806Z",
     "iopub.status.busy": "2022-01-07T14:11:55.079513Z",
     "iopub.status.idle": "2022-01-07T14:11:56.708049Z",
     "shell.execute_reply": "2022-01-07T14:11:56.708325Z",
     "shell.execute_reply.started": "2022-01-03T09:38:25.421637Z"
    },
    "id": "97c43440",
    "outputId": "d7b36210-acb6-4607-d125-844240a299f8",
    "papermill": {
     "duration": 1.693857,
     "end_time": "2022-01-07T14:11:56.708441",
     "exception": false,
     "start_time": "2022-01-07T14:11:55.014584",
     "status": "completed"
    },
    "tags": []
   },
   "outputs": [
    {
     "name": "stdout",
     "output_type": "stream",
     "text": [
      "\n",
      "Level 1 preds: blender_rk\n",
      "fold=0, roc=0.9544\n",
      "fold=1, roc=0.9481\n",
      "fold=2, roc=0.9527\n",
      "fold=3, roc=0.9477\n",
      "fold=4, roc=0.9437\n"
     ]
    }
   ],
   "source": [
    "blender_metrics = {'roc': roc_auc_score}\n",
    "\n",
    "blender_rk_stack = StackingClassifier(\n",
    "    models=[{'blender_rk': Blender(rank=True)}],\n",
    "    metrics=blender_metrics,\n",
    "    warm_start_level=1,\n",
    "    warm_start_stack=stack\n",
    ")"
   ]
  },
  {
   "cell_type": "markdown",
   "id": "51413420",
   "metadata": {},
   "source": [
    "### Results with blending ranked probabilities"
   ]
  },
  {
   "cell_type": "markdown",
   "id": "6039c8ba",
   "metadata": {},
   "source": [
    "Blending ranked probabilities has even better cross-validation scores for AUC compared to blending raw probabilities. Recall that we observed the same phenomenon above for hand picked coefficients."
   ]
  },
  {
   "cell_type": "code",
   "execution_count": 29,
   "id": "a4bdd086",
   "metadata": {},
   "outputs": [
    {
     "data": {
      "text/html": [
       "<div>\n",
       "<style scoped>\n",
       "    .dataframe tbody tr th:only-of-type {\n",
       "        vertical-align: middle;\n",
       "    }\n",
       "\n",
       "    .dataframe tbody tr th {\n",
       "        vertical-align: top;\n",
       "    }\n",
       "\n",
       "    .dataframe thead th {\n",
       "        text-align: right;\n",
       "    }\n",
       "</style>\n",
       "<table border=\"1\" class=\"dataframe\">\n",
       "  <thead>\n",
       "    <tr style=\"text-align: right;\">\n",
       "      <th></th>\n",
       "      <th>lr_0</th>\n",
       "      <th>lr_cnt_0</th>\n",
       "      <th>rf_svd_0</th>\n",
       "      <th>xgb_1</th>\n",
       "      <th>blender_1</th>\n",
       "      <th>blender_rk_1</th>\n",
       "    </tr>\n",
       "  </thead>\n",
       "  <tbody>\n",
       "    <tr>\n",
       "      <th>cv_roc</th>\n",
       "      <td>0.9322 ± 0.0038</td>\n",
       "      <td>0.9439 ± 0.0038</td>\n",
       "      <td>0.8782 ± 0.0034</td>\n",
       "      <td>0.9439 ± 0.0038</td>\n",
       "      <td>0.9485 ± 0.0038</td>\n",
       "      <td>0.9493 ± 0.0038</td>\n",
       "    </tr>\n",
       "    <tr>\n",
       "      <th>cv_acc</th>\n",
       "      <td>0.8565 ± 0.0036</td>\n",
       "      <td>0.8786 ± 0.0047</td>\n",
       "      <td>0.7978 ± 0.0011</td>\n",
       "      <td>0.8778 ± 0.0035</td>\n",
       "      <td>0.8687 ± 0.0101</td>\n",
       "      <td>NaN</td>\n",
       "    </tr>\n",
       "    <tr>\n",
       "      <th>test_roc</th>\n",
       "      <td>0.9404</td>\n",
       "      <td>0.9473</td>\n",
       "      <td>0.8794</td>\n",
       "      <td>0.9498</td>\n",
       "      <td>0.9538</td>\n",
       "      <td>0.9537</td>\n",
       "    </tr>\n",
       "    <tr>\n",
       "      <th>test_acc</th>\n",
       "      <td>0.871</td>\n",
       "      <td>0.8838</td>\n",
       "      <td>0.7976</td>\n",
       "      <td>0.886</td>\n",
       "      <td>0.8794</td>\n",
       "      <td>NaN</td>\n",
       "    </tr>\n",
       "  </tbody>\n",
       "</table>\n",
       "</div>"
      ],
      "text/plain": [
       "                     lr_0         lr_cnt_0         rf_svd_0            xgb_1  \\\n",
       "cv_roc    0.9322 ± 0.0038  0.9439 ± 0.0038  0.8782 ± 0.0034  0.9439 ± 0.0038   \n",
       "cv_acc    0.8565 ± 0.0036  0.8786 ± 0.0047  0.7978 ± 0.0011  0.8778 ± 0.0035   \n",
       "test_roc           0.9404           0.9473           0.8794           0.9498   \n",
       "test_acc            0.871           0.8838           0.7976            0.886   \n",
       "\n",
       "                blender_1     blender_rk_1  \n",
       "cv_roc    0.9485 ± 0.0038  0.9493 ± 0.0038  \n",
       "cv_acc    0.8687 ± 0.0101              NaN  \n",
       "test_roc           0.9538           0.9537  \n",
       "test_acc           0.8794              NaN  "
      ]
     },
     "execution_count": 29,
     "metadata": {},
     "output_type": "execute_result"
    }
   ],
   "source": [
    "results = update_results(results, blender_rk_stack)\n",
    "results.T"
   ]
  },
  {
   "cell_type": "markdown",
   "id": "c48a026a",
   "metadata": {
    "editable": false,
    "id": "7245ea4a",
    "papermill": {
     "duration": 0.025367,
     "end_time": "2022-01-07T14:16:29.348796",
     "exception": false,
     "start_time": "2022-01-07T14:16:29.323429",
     "status": "completed"
    },
    "tags": []
   },
   "source": [
    "**Remark.** If we assume that each fold has the same error distribution, then cross-validation performance should approximate the test AUC which can be thought of as just another fold of training data. Indeed, we can see this from the above results."
   ]
  },
  {
   "cell_type": "markdown",
   "id": "0d73bbbc",
   "metadata": {
    "editable": false,
    "id": "c8131d00",
    "papermill": {
     "duration": 0.02748,
     "end_time": "2022-01-07T14:16:29.404765",
     "exception": false,
     "start_time": "2022-01-07T14:16:29.377285",
     "status": "completed"
    },
    "tags": []
   },
   "source": [
    "## Parallelizing Training"
   ]
  },
  {
   "cell_type": "markdown",
   "id": "5fcd2b46",
   "metadata": {
    "editable": false,
    "id": "b301de4e",
    "papermill": {
     "duration": 0.030979,
     "end_time": "2022-01-07T14:16:29.463308",
     "exception": false,
     "start_time": "2022-01-07T14:16:29.432329",
     "status": "completed"
    },
    "tags": []
   },
   "source": [
    "Generating features require training each model on each fold. This is very slow. Note that each training process are independent of each other as they only use static features from the previous level, so in principle can be easily parallelized. Note that we parallelize only the training on cross-validation folds.\n",
    "\n",
    "**Remarks.** Parallelizing training on cross-validation folds is implemented using `joblib.Parallel`. Here we set `backend='loky'` as this is the setting that works on an M1. Also, setting `nthread=1` for XGBClassifier with backend `loky` and `n_jobs=-1`. Other settings result in worse times. See this [issue](https://github.com/dmlc/xgboost/issues/2163). \n",
    "\n",
    "Since joblib pickles every object used inside `Parallel`, we have to use stateless objects and be careful about shared memory. Results below show that there is significant speed up with parallelization using the `loky` backend."
   ]
  },
  {
   "cell_type": "code",
   "execution_count": 30,
   "id": "1c0b9f98",
   "metadata": {},
   "outputs": [],
   "source": [
    "class StackingClassifierParallel:\n",
    "    \"\"\"Implements model stacking with predict probabilities.\"\"\"\n",
    "\n",
    "    def __init__(self, \n",
    "            models: List[Dict[str, Any]], \n",
    "            metrics: Dict[str, Any] = None,\n",
    "            verbose: int = 1,\n",
    "            num_folds: int = 5,\n",
    "            backend: str = 'loky',\n",
    "            n_jobs: int = 1,\n",
    "\n",
    "            # Advanced usage\n",
    "            warm_start_level = None,\n",
    "            warm_start_stack = None,\n",
    "        ):\n",
    "        \"\"\"\n",
    "        models:\n",
    "            Dictionary of name-model pairs for each level. \n",
    "            Some constraints:\n",
    "                1) Unique names level-wise\n",
    "                2) Single model at last level\n",
    "                3) Model implements fit and predict_proba\n",
    "\n",
    "        verbose: 0 = not verbose, 1 = verbose\n",
    "\n",
    "        num_folds: No. of stratified cross-validation folds\n",
    "        \n",
    "        backend: Default \"loky\". Backend for internal joblib.Parallel object.\n",
    "\n",
    "        n_jobs: No. of jobs passed to internal joblib.Parallel object.\n",
    "\n",
    "        metrics: \n",
    "            Name-metric pairs for such that metric is a function of \n",
    "            (y_true, y_predict_proba). This defaults to ROC-AUC. If\n",
    "            there is warm-starting, defaults to metrics used by ref\n",
    "            stack.\n",
    "\n",
    "        warm_start_level:\n",
    "            Warm-starting refers to using levels of existing trained stack \n",
    "            (stack passed in warm_start_stack) before warm_start_level.\n",
    "            This is assumed to be in 1 <= j < len(warm_start_stack.models).\n",
    "        \n",
    "        warm_start_stack: \n",
    "            Use models and features from this stack so that predictions \n",
    "            of single models can be easily combined. And earlier models \n",
    "            need not be retrained. Some constraints:\n",
    "                1) Earlier levels have trained models\n",
    "                2) Earlier levels have metafeatures\n",
    "                3) Passed `self.models` will be appended to model dict \n",
    "                list up to warm start level.\n",
    "        \"\"\"\n",
    "\n",
    "        self.models = [{m: deepcopy(d[m]) for m in d.keys()} for d in models]\n",
    "        self.verbose = verbose\n",
    "        self.num_folds = num_folds\n",
    "        self.cv_scores_ = {}\n",
    "        self.train_ = None\n",
    "        self.metrics = {'roc_score':  roc_auc_score} if metrics is None else metrics\n",
    "        self.backend = backend\n",
    "        self.n_jobs = n_jobs\n",
    "\n",
    "        # Warm starting\n",
    "        assert (warm_start_level is None) == (warm_start_stack is None)\n",
    "        if warm_start_level is not None:\n",
    "            self.warm_level = warm_start_level\n",
    "            self.warm_stack = warm_start_stack\n",
    "\n",
    "            # Ignore upper level meta-features of reference stack\n",
    "            skip = set()\n",
    "            for l in range(self.warm_level, len(self.warm_stack.models)):\n",
    "                for q in self.warm_stack.models[l].keys():\n",
    "                    skip.add(f\"{q}_{l}\")\n",
    "\n",
    "            _ = self.warm_stack.train_\n",
    "            self.train_ = _[[c for c in _.columns if c not in skip]]\n",
    "            \n",
    "            # Select cv scores of reference stack to include\n",
    "            for i in range(self.warm_level):\n",
    "                for k in [_ for _ in self.warm_stack.cv_scores_.keys() if f\"_{i}\" in _]:\n",
    "                    self.cv_scores_[k] = self.warm_stack.cv_scores_[k]\n",
    "            \n",
    "            # Update metrics to reference stack if None, else use passed metrics\n",
    "            self.metrics = self.warm_stack.metrics if metrics is None else metrics\n",
    "            \n",
    "            # Base models + stack top models\n",
    "            self.models = self.warm_stack.models[:self.warm_level] + self.models\n",
    "            \n",
    "            # Warm start model\n",
    "            self.fit(\n",
    "                self.train_.drop(['fold', 'target'], axis=1), \n",
    "                self.train_.target, \n",
    "                start_level=self.warm_level\n",
    "            )\n",
    "    \n",
    "    \n",
    "    def fit(self, X: Union[pd.DataFrame, np.array], y: np.array, start_level=0):\n",
    "        \"\"\"Iteratively fit base models with metafeatures.\n",
    "\n",
    "        Some constraints on the input:\n",
    "            1) X must not have column named 'fold'\n",
    "            2) X must not have column named 'target'\n",
    "            3) X must not have column named f'{q}_{l}' for q model name, and 0 <= l < len(models)\n",
    "            4) The target vector y is binary (0 or 1).\n",
    "        \"\"\"\n",
    "\n",
    "\n",
    "        # Create folds: add fold, target column to train\n",
    "        train = self._create_kfolds(train=X, target=y, k=self.num_folds)\n",
    "        \n",
    "        # Create metafeatures for each level\n",
    "        with Parallel(n_jobs=self.n_jobs, backend=self.backend, verbose=self.verbose) as parallel:\n",
    "            for level in range(start_level, len(self.models)):\n",
    "\n",
    "                # Fit each current model on prev level meta-features\n",
    "                basemodels = self.models[level]\n",
    "                columns = self._get_metafeatures(train, level)\n",
    "\n",
    "                for q, model in basemodels.items():\n",
    "                    if self.verbose:\n",
    "                        print(f\"\\nLevel {level} preds: {q}\")\n",
    "        \n",
    "                    # Parallel train on each fold\n",
    "                    parallel_results = parallel(\n",
    "                        delayed(self._predict_fold)(\n",
    "                            train=train, \n",
    "                            model=deepcopy(model), \n",
    "                            fold=i, \n",
    "                            columns=columns,\n",
    "                            verbose=self.verbose\n",
    "                        ) \n",
    "                        for i in range(self.num_folds)\n",
    "                    )\n",
    "                    \n",
    "                    # Saving results to meta-features and cv scores\n",
    "                    self.cv_scores_[f\"{q}_{level}\"] = {\n",
    "                        metric:[0]*self.num_folds \n",
    "                        for metric in self.metrics.keys()\n",
    "                    } \n",
    "                    for i in range(self.num_folds):\n",
    "                        preds, scores = parallel_results[i]\n",
    "                        train.loc[train.query(f'fold == {i}').index, f\"{q}_{level}\"] = preds\n",
    "                        for metric in self.metrics.keys():\n",
    "                            self.cv_scores_[f\"{q}_{level}\"][metric][i] = scores[metric]\n",
    "\n",
    "                    # Fit on entire train for inference\n",
    "                    model.fit(train[columns], train.target)\n",
    "\n",
    "        # Save meta-features table\n",
    "        self.train_ = train\n",
    "\n",
    "        return self\n",
    "\n",
    "\n",
    "    def predict_proba(self, X):\n",
    "        \"\"\"Return prediction probabilities for each row of the input.\"\"\"\n",
    "\n",
    "        # Predict with trained models\n",
    "        test = pd.DataFrame(X)\n",
    "        for level, basemodels in enumerate(self.models):\n",
    "            columns = [c for c in test.columns if f'_{level-1}' in str(c)] if level >= 1 else test.columns\n",
    "            for q, model in basemodels.items():\n",
    "                pred = model.predict_proba(test[columns])[:, 1]\n",
    "                test[f\"{q}_{level}\"] = pred\n",
    "        \n",
    "        # Return prediction of top-most model.\n",
    "        test_pred = test[f\"{list(self.models[-1].keys())[0]}_{len(self.models)-1}\"]\n",
    "        return np.c_[1-test_pred, test_pred]\n",
    "\n",
    "\n",
    "    def _get_metafeatures(self, train, level):\n",
    "        \"\"\"Get columns for meta-features of previous level models.\"\"\"\n",
    "        \n",
    "        # Example: [\"lr_0\", \"lr_cnt_0\", \"rf_svd_0\"] for training \"xgb_1\".\n",
    "        if level >= 1:\n",
    "            return [c for c in train.columns if f'_{level-1}' in str(c)]\n",
    "        else:\n",
    "            return train.columns.drop(['fold', 'target'])\n",
    "\n",
    "\n",
    "    def _create_kfolds(self, train, target, k):\n",
    "        \"\"\"Create stratified folds. Add fold and target column.\"\"\"\n",
    "\n",
    "        train = pd.DataFrame(train)\n",
    "        skf = StratifiedKFold(n_splits=k, shuffle=False)\n",
    "        train['target'] = target\n",
    "        train['fold'] = -1\n",
    "        for fold, (_, val_) in enumerate(skf.split(train.index, target)):\n",
    "            train.loc[val_, 'fold'] = fold\n",
    "        \n",
    "        return train\n",
    "\n",
    "\n",
    "    def _predict_fold(self, train, model, fold, columns, verbose):\n",
    "        \"\"\"Predict on cross-validation fold.\"\"\"\n",
    "\n",
    "        # Get folds; include target and feature cols.\n",
    "        train_fld = train.query(f'fold != {fold}')\n",
    "        train_oof = train.query(f'fold == {fold}')\n",
    "        \n",
    "        # Fit model.\n",
    "        model.fit(train_fld[columns], train_fld.target)\n",
    "\n",
    "        # Compute cv scores\n",
    "        message = []\n",
    "        scores = {}\n",
    "        pred = model.predict_proba(train_oof[columns])[:, 1]\n",
    "        \n",
    "        for metric, metric_fn in self.metrics.items():\n",
    "            score = metric_fn(train_oof.target, pred)\n",
    "            scores[metric] = score\n",
    "            message.append(f'{metric}={score:.4f}')\n",
    "        \n",
    "        if verbose:\n",
    "            print(f\"fold={fold}, {', '.join(message)}\")\n",
    "\n",
    "        # Return out-of-fold predictions.\n",
    "        return pred, scores"
   ]
  },
  {
   "cell_type": "markdown",
   "id": "75407dc3",
   "metadata": {},
   "source": [
    "Testing if the parallel implementation reproduces previous results:"
   ]
  },
  {
   "cell_type": "code",
   "execution_count": 31,
   "id": "48cb49c5",
   "metadata": {},
   "outputs": [
    {
     "name": "stdout",
     "output_type": "stream",
     "text": [
      "\n",
      "Level 0 preds: lr\n",
      "[Parallel(n_jobs=5)]: Using backend LokyBackend with 5 concurrent workers.\n",
      "fold=1, roc=0.9325, acc=0.8570\n",
      "fold=3, roc=0.9295, acc=0.8502\n",
      "fold=4, roc=0.9271, acc=0.8558\n",
      "fold=0, roc=0.9381, acc=0.8585\n",
      "fold=2, roc=0.9340, acc=0.8610\n",
      "[Parallel(n_jobs=5)]: Done   2 out of   5 | elapsed:    6.4s remaining:    9.6s\n",
      "[Parallel(n_jobs=5)]: Done   5 out of   5 | elapsed:    6.5s finished\n",
      "\n",
      "Level 0 preds: lr_cnt\n",
      "[Parallel(n_jobs=5)]: Using backend LokyBackend with 5 concurrent workers.\n",
      "fold=3, roc=0.9436, acc=0.8780\n",
      "fold=0, roc=0.9486, acc=0.8855\n",
      "fold=1, roc=0.9419, acc=0.8765\n",
      "fold=2, roc=0.9474, acc=0.8812\n",
      "fold=4, roc=0.9382, acc=0.8715\n",
      "[Parallel(n_jobs=5)]: Done   2 out of   5 | elapsed:    8.9s remaining:   13.4s\n",
      "[Parallel(n_jobs=5)]: Done   5 out of   5 | elapsed:    9.1s finished\n",
      "[Parallel(n_jobs=5)]: Using backend LokyBackend with 5 concurrent workers.\n",
      "fold=1, roc=0.8762, acc=0.7975\n",
      "fold=0, roc=0.8831, acc=0.7985\n",
      "[Parallel(n_jobs=5)]: Done   2 out of   5 | elapsed:   23.4s remaining:   35.1s\n",
      "fold=4, roc=0.8795, acc=0.7995\n",
      "fold=2, roc=0.8792, acc=0.7973\n",
      "fold=3, roc=0.8731, acc=0.7963\n",
      "[Parallel(n_jobs=5)]: Done   5 out of   5 | elapsed:   24.1s finished\n",
      "\n",
      "Level 1 preds: xgb\n",
      "[Parallel(n_jobs=5)]: Using backend LokyBackend with 5 concurrent workers.\n",
      "[Parallel(n_jobs=5)]: Done   2 out of   5 | elapsed:    1.9s remaining:    2.9s\n",
      "fold=0, roc=0.9488, acc=0.8838\n",
      "fold=1, roc=0.9428, acc=0.8760\n",
      "fold=3, roc=0.9429, acc=0.8792\n",
      "fold=2, roc=0.9470, acc=0.8760\n",
      "[Parallel(n_jobs=5)]: Done   5 out of   5 | elapsed:    2.6s finished\n",
      "fold=4, roc=0.9378, acc=0.8738\n"
     ]
    }
   ],
   "source": [
    "import os\n",
    "os.environ['PYTHONWARNINGS']='ignore::FutureWarning'\n",
    "os.environ['PYTHONWARNINGS']='ignore::UserWarning'\n",
    "\n",
    "\n",
    "models = [\n",
    "    {'lr': lr, 'lr_cnt': lr_cnt, 'rf_svd': rf_svd},\n",
    "    {'xgb_pll': XGBClassifier(seed=seed, nthread=1, use_label_encoder=False, eval_metric='logloss')}\n",
    "]\n",
    "\n",
    "metrics = {\n",
    "    'roc': lambda y_true, y_prob:  roc_auc_score(y_true, y_prob),\n",
    "    'acc': lambda y_true, y_prob: accuracy_score(y_true, y_prob >= 0.5)\n",
    "}\n",
    "\n",
    "stack_pll = StackingClassifierParallel(models, metrics=metrics, n_jobs=5)\n",
    "stack_pll.fit(train[['review']], train.sentiment);"
   ]
  },
  {
   "cell_type": "code",
   "execution_count": 32,
   "id": "7ad8e9f6",
   "metadata": {},
   "outputs": [],
   "source": [
    "results = update_results(results, stack_pll)"
   ]
  },
  {
   "cell_type": "markdown",
   "id": "350119db",
   "metadata": {},
   "source": [
    "Testing warm starting:"
   ]
  },
  {
   "cell_type": "code",
   "execution_count": 33,
   "id": "92143481",
   "metadata": {},
   "outputs": [
    {
     "name": "stdout",
     "output_type": "stream",
     "text": [
      "\n",
      "Level 1 preds: blender_rk_pll\n",
      "[Parallel(n_jobs=1)]: Using backend SequentialBackend with 1 concurrent workers.\n",
      "fold=0, roc=0.9544\n",
      "fold=1, roc=0.9481\n",
      "fold=2, roc=0.9527\n",
      "fold=3, roc=0.9477\n",
      "fold=4, roc=0.9437\n",
      "[Parallel(n_jobs=1)]: Done   5 out of   5 | elapsed:    1.8s finished\n"
     ]
    }
   ],
   "source": [
    "blender_rk_pll = StackingClassifierParallel(\n",
    "    models=[{'blender_rk_pll': Blender(rank=True)}],\n",
    "    metrics=blender_metrics,\n",
    "    warm_start_level=1,\n",
    "    warm_start_stack=stack\n",
    ")"
   ]
  },
  {
   "cell_type": "markdown",
   "id": "1a0f16f1",
   "metadata": {},
   "source": [
    "### Consistency of serial and parallel implementation"
   ]
  },
  {
   "cell_type": "markdown",
   "id": "2e108228",
   "metadata": {},
   "source": [
    "The results are consistent for both training from scratch and warm-started stacked models."
   ]
  },
  {
   "cell_type": "code",
   "execution_count": 42,
   "id": "683e1f39",
   "metadata": {},
   "outputs": [
    {
     "data": {
      "text/html": [
       "<div>\n",
       "<style scoped>\n",
       "    .dataframe tbody tr th:only-of-type {\n",
       "        vertical-align: middle;\n",
       "    }\n",
       "\n",
       "    .dataframe tbody tr th {\n",
       "        vertical-align: top;\n",
       "    }\n",
       "\n",
       "    .dataframe thead th {\n",
       "        text-align: right;\n",
       "    }\n",
       "</style>\n",
       "<table border=\"1\" class=\"dataframe\">\n",
       "  <thead>\n",
       "    <tr style=\"text-align: right;\">\n",
       "      <th></th>\n",
       "      <th>blender_rk_1</th>\n",
       "      <th>blender_rk_pll_1</th>\n",
       "      <th>xgb_1</th>\n",
       "      <th>xgb_pll_1</th>\n",
       "    </tr>\n",
       "  </thead>\n",
       "  <tbody>\n",
       "    <tr>\n",
       "      <th>cv_roc</th>\n",
       "      <td>0.9493 ± 0.0038</td>\n",
       "      <td>0.9493 ± 0.0038</td>\n",
       "      <td>0.9439 ± 0.0038</td>\n",
       "      <td>0.9439 ± 0.0038</td>\n",
       "    </tr>\n",
       "    <tr>\n",
       "      <th>cv_acc</th>\n",
       "      <td>NaN</td>\n",
       "      <td>NaN</td>\n",
       "      <td>0.8778 ± 0.0035</td>\n",
       "      <td>0.8778 ± 0.0035</td>\n",
       "    </tr>\n",
       "    <tr>\n",
       "      <th>test_roc</th>\n",
       "      <td>0.9537</td>\n",
       "      <td>0.9537</td>\n",
       "      <td>0.9498</td>\n",
       "      <td>0.9498</td>\n",
       "    </tr>\n",
       "    <tr>\n",
       "      <th>test_acc</th>\n",
       "      <td>NaN</td>\n",
       "      <td>NaN</td>\n",
       "      <td>0.886</td>\n",
       "      <td>0.886</td>\n",
       "    </tr>\n",
       "  </tbody>\n",
       "</table>\n",
       "</div>"
      ],
      "text/plain": [
       "             blender_rk_1 blender_rk_pll_1            xgb_1        xgb_pll_1\n",
       "cv_roc    0.9493 ± 0.0038  0.9493 ± 0.0038  0.9439 ± 0.0038  0.9439 ± 0.0038\n",
       "cv_acc                NaN              NaN  0.8778 ± 0.0035  0.8778 ± 0.0035\n",
       "test_roc           0.9537           0.9537           0.9498           0.9498\n",
       "test_acc              NaN              NaN            0.886            0.886"
      ]
     },
     "execution_count": 42,
     "metadata": {},
     "output_type": "execute_result"
    }
   ],
   "source": [
    "results = update_results(results, blender_rk_pll)\n",
    "results.T[['blender_rk_1', 'blender_rk_pll_1', 'xgb_1', 'xgb_pll_1']]"
   ]
  },
  {
   "cell_type": "markdown",
   "id": "458cda9d",
   "metadata": {
    "papermill": {
     "duration": 0.025875,
     "end_time": "2022-01-07T14:16:29.834847",
     "exception": false,
     "start_time": "2022-01-07T14:16:29.808972",
     "status": "completed"
    },
    "tags": []
   },
   "source": [
    "### Comparing training times between serial and parallel"
   ]
  },
  {
   "cell_type": "markdown",
   "id": "e8b4bb42",
   "metadata": {},
   "source": [
    "Now we would like to test if there is indeed a speedup and how much. First, we define more models for more levels. In particular, we create a new model which is a linear regression ranking model which we can use for classification."
   ]
  },
  {
   "cell_type": "code",
   "execution_count": 35,
   "id": "928dc8c0",
   "metadata": {
    "editable": false,
    "execution": {
     "iopub.execute_input": "2022-01-07T14:16:29.600861Z",
     "iopub.status.busy": "2022-01-07T14:16:29.600483Z",
     "iopub.status.idle": "2022-01-07T14:16:29.603085Z",
     "shell.execute_reply": "2022-01-07T14:16:29.604099Z",
     "shell.execute_reply.started": "2022-01-03T09:38:53.121891Z"
    },
    "id": "faba716c",
    "papermill": {
     "duration": 0.038589,
     "end_time": "2022-01-07T14:16:29.604360",
     "exception": false,
     "start_time": "2022-01-07T14:16:29.565771",
     "status": "completed"
    },
    "tags": []
   },
   "outputs": [],
   "source": [
    "class LinearRegressionClassifier(BaseEstimator, ClassifierMixin):\n",
    "    \"\"\"\n",
    "    Linear regression for model-based AUC optimization.\n",
    "    Note that probabilities are transformed to rank scores.\n",
    "    \"\"\"\n",
    "    \n",
    "    def __init__(self): \n",
    "        self.lr = LinearRegression()\n",
    "        \n",
    "    def fit(self, X, y):\n",
    "        self.lr.fit(pd.DataFrame(X).rank(), y)\n",
    "        return self\n",
    "        \n",
    "    def predict_proba(self, X):\n",
    "        return np.c_[[0]*len(X), self.lr.predict(pd.DataFrame(X).rank())]"
   ]
  },
  {
   "cell_type": "markdown",
   "id": "a0dfe7f5",
   "metadata": {
    "papermill": {
     "duration": 0.025424,
     "end_time": "2022-01-07T14:16:29.994605",
     "exception": false,
     "start_time": "2022-01-07T14:16:29.969181",
     "status": "completed"
    },
    "tags": []
   },
   "source": [
    "Define the model dictionaries:"
   ]
  },
  {
   "cell_type": "code",
   "execution_count": 36,
   "id": "1c16ca5b",
   "metadata": {
    "execution": {
     "iopub.execute_input": "2022-01-07T14:16:30.049635Z",
     "iopub.status.busy": "2022-01-07T14:16:30.049283Z",
     "iopub.status.idle": "2022-01-07T14:16:30.050464Z",
     "shell.execute_reply": "2022-01-07T14:16:30.050728Z",
     "shell.execute_reply.started": "2022-01-03T09:38:53.172579Z"
    },
    "papermill": {
     "duration": 0.031439,
     "end_time": "2022-01-07T14:16:30.050844",
     "exception": false,
     "start_time": "2022-01-07T14:16:30.019405",
     "status": "completed"
    },
    "tags": []
   },
   "outputs": [],
   "source": [
    "level_0 = {\n",
    "    'lr': make_pipeline(\n",
    "        ReviewColumnExtractor(),\n",
    "        TfidfVectorizer(max_features=1000),\n",
    "        LogisticRegression(random_state=seed)\n",
    "    ), \n",
    "    \n",
    "    'lr_cnt': make_pipeline(\n",
    "        ReviewColumnExtractor(),\n",
    "        CountVectorizer(), \n",
    "        LogisticRegression(solver='liblinear', random_state=seed)\n",
    "    ), \n",
    "}\n",
    "\n",
    "level_1 = {\n",
    "    'lr': LogisticRegression(random_state=seed),\n",
    "    'linreg': make_pipeline(StandardScaler(), LinearRegressionClassifier()),\n",
    "    'xgb': XGBClassifier(eval_metric=\"logloss\", nthread=1, random_state=seed)\n",
    "}\n",
    "\n",
    "level_2 = {\n",
    "    'linreg': make_pipeline(StandardScaler(), LinearRegressionClassifier()),\n",
    "    'xgb': XGBClassifier(eval_metric=\"logloss\", nthread=1, random_state=seed)\n",
    "}\n",
    "\n",
    "level_3 = {'blender': Blender(rank=True, random_state=seed)}"
   ]
  },
  {
   "cell_type": "markdown",
   "id": "4612b80f",
   "metadata": {},
   "source": [
    "Define timing helper function:"
   ]
  },
  {
   "cell_type": "code",
   "execution_count": 37,
   "id": "a44d897a",
   "metadata": {
    "execution": {
     "iopub.execute_input": "2022-01-07T14:16:30.322963Z",
     "iopub.status.busy": "2022-01-07T14:16:30.322595Z",
     "iopub.status.idle": "2022-01-07T14:16:30.323878Z",
     "shell.execute_reply": "2022-01-07T14:16:30.324114Z",
     "shell.execute_reply.started": "2022-01-03T09:38:53.201421Z"
    },
    "papermill": {
     "duration": 0.030172,
     "end_time": "2022-01-07T14:16:30.324230",
     "exception": false,
     "start_time": "2022-01-07T14:16:30.294058",
     "status": "completed"
    },
    "tags": []
   },
   "outputs": [],
   "source": [
    "def time_training(model):\n",
    "    \"\"\"Return model training time vs percentage of train data.\"\"\"\n",
    "    \n",
    "    X = pd.concat([train[['review']]]).reset_index(drop=True)\n",
    "    y = list(train.sentiment.values)\n",
    "\n",
    "    train_times = []\n",
    "    N = len(X)\n",
    "    for i in tqdm(range(10)):\n",
    "        n = int(0.10*(i+1)*N)\n",
    "\n",
    "        start_time = time.time()\n",
    "        model.fit(X.iloc[:n], y[:n])\n",
    "        end_time = time.time() - start_time\n",
    "\n",
    "        train_times.append(end_time)\n",
    "        time.sleep(7) # cooling down\n",
    "\n",
    "    return train_times"
   ]
  },
  {
   "cell_type": "markdown",
   "id": "f2f8238c",
   "metadata": {},
   "source": [
    "Timing runs:"
   ]
  },
  {
   "cell_type": "code",
   "execution_count": 38,
   "id": "168f2eeb",
   "metadata": {
    "execution": {
     "iopub.execute_input": "2022-01-07T14:16:30.380513Z",
     "iopub.status.busy": "2022-01-07T14:16:30.379956Z",
     "iopub.status.idle": "2022-01-03T16:25:01.868988Z",
     "shell.execute_reply": "2022-01-03T16:25:01.869497Z",
     "shell.execute_reply.started": "2022-01-03T09:39:14.324795Z"
    },
    "papermill": {
     "duration": 471.579994,
     "end_time": "2022-01-07T14:24:21.929105",
     "exception": false,
     "start_time": "2022-01-07T14:16:30.349111",
     "status": "completed"
    },
    "tags": []
   },
   "outputs": [
    {
     "name": "stderr",
     "output_type": "stream",
     "text": [
      "100%|██████████| 10/10 [04:57<00:00, 29.80s/it]\n",
      "100%|██████████| 10/10 [03:41<00:00, 22.19s/it]\n"
     ]
    }
   ],
   "source": [
    "models = [level_0, level_1, level_2, level_3]\n",
    "\n",
    "serial = StackingClassifier(models, verbose=0, metrics=blender_metrics)\n",
    "parallel = StackingClassifierParallel(models, verbose=0, metrics=blender_metrics, n_jobs=5)\n",
    "\n",
    "serial_times = time_training(serial)\n",
    "parallel_times = time_training(parallel)"
   ]
  },
  {
   "cell_type": "markdown",
   "id": "3d6f7c58",
   "metadata": {},
   "source": [
    "### Results of timing runs"
   ]
  },
  {
   "cell_type": "code",
   "execution_count": 39,
   "id": "5b43953f",
   "metadata": {},
   "outputs": [
    {
     "data": {
      "image/svg+xml": "<?xml version=\"1.0\" encoding=\"utf-8\" standalone=\"no\"?>\n<!DOCTYPE svg PUBLIC \"-//W3C//DTD SVG 1.1//EN\"\n  \"http://www.w3.org/Graphics/SVG/1.1/DTD/svg11.dtd\">\n<svg xmlns:xlink=\"http://www.w3.org/1999/xlink\" width=\"382.603125pt\" height=\"262.19625pt\" viewBox=\"0 0 382.603125 262.19625\" xmlns=\"http://www.w3.org/2000/svg\" version=\"1.1\">\n <metadata>\n  <rdf:RDF xmlns:dc=\"http://purl.org/dc/elements/1.1/\" xmlns:cc=\"http://creativecommons.org/ns#\" xmlns:rdf=\"http://www.w3.org/1999/02/22-rdf-syntax-ns#\">\n   <cc:Work>\n    <dc:type rdf:resource=\"http://purl.org/dc/dcmitype/StillImage\"/>\n    <dc:date>2022-07-17T00:09:35.805960</dc:date>\n    <dc:format>image/svg+xml</dc:format>\n    <dc:creator>\n     <cc:Agent>\n      <dc:title>Matplotlib v3.5.1, https://matplotlib.org/</dc:title>\n     </cc:Agent>\n    </dc:creator>\n   </cc:Work>\n  </rdf:RDF>\n </metadata>\n <defs>\n  <style type=\"text/css\">*{stroke-linejoin: round; stroke-linecap: butt}</style>\n </defs>\n <g id=\"figure_1\">\n  <g id=\"patch_1\">\n   <path d=\"M 0 262.19625 \nL 382.603125 262.19625 \nL 382.603125 0 \nL 0 0 \nL 0 262.19625 \nz\n\" style=\"fill: none\"/>\n  </g>\n  <g id=\"axes_1\">\n   <g id=\"patch_2\">\n    <path d=\"M 40.603125 224.64 \nL 375.403125 224.64 \nL 375.403125 7.2 \nL 40.603125 7.2 \nz\n\" style=\"fill: #ffffff\"/>\n   </g>\n   <g id=\"matplotlib.axis_1\">\n    <g id=\"xtick_1\">\n     <g id=\"line2d_1\">\n      <path d=\"M 89.639489 224.64 \nL 89.639489 7.2 \n\" clip-path=\"url(#p9c02abbf33)\" style=\"fill: none; stroke: #b0b0b0; stroke-width: 0.8; stroke-linecap: square\"/>\n     </g>\n     <g id=\"line2d_2\">\n      <defs>\n       <path id=\"m047e08a682\" d=\"M 0 0 \nL 0 3.5 \n\" style=\"stroke: #000000; stroke-width: 0.8\"/>\n      </defs>\n      <g>\n       <use xlink:href=\"#m047e08a682\" x=\"89.639489\" y=\"224.64\" style=\"stroke: #000000; stroke-width: 0.8\"/>\n      </g>\n     </g>\n     <g id=\"text_1\">\n      <!-- 20 -->\n      <g transform=\"translate(83.276989 239.238437)scale(0.1 -0.1)\">\n       <defs>\n        <path id=\"DejaVuSans-32\" d=\"M 1228 531 \nL 3431 531 \nL 3431 0 \nL 469 0 \nL 469 531 \nQ 828 903 1448 1529 \nQ 2069 2156 2228 2338 \nQ 2531 2678 2651 2914 \nQ 2772 3150 2772 3378 \nQ 2772 3750 2511 3984 \nQ 2250 4219 1831 4219 \nQ 1534 4219 1204 4116 \nQ 875 4013 500 3803 \nL 500 4441 \nQ 881 4594 1212 4672 \nQ 1544 4750 1819 4750 \nQ 2544 4750 2975 4387 \nQ 3406 4025 3406 3419 \nQ 3406 3131 3298 2873 \nQ 3191 2616 2906 2266 \nQ 2828 2175 2409 1742 \nQ 1991 1309 1228 531 \nz\n\" transform=\"scale(0.015625)\"/>\n        <path id=\"DejaVuSans-30\" d=\"M 2034 4250 \nQ 1547 4250 1301 3770 \nQ 1056 3291 1056 2328 \nQ 1056 1369 1301 889 \nQ 1547 409 2034 409 \nQ 2525 409 2770 889 \nQ 3016 1369 3016 2328 \nQ 3016 3291 2770 3770 \nQ 2525 4250 2034 4250 \nz\nM 2034 4750 \nQ 2819 4750 3233 4129 \nQ 3647 3509 3647 2328 \nQ 3647 1150 3233 529 \nQ 2819 -91 2034 -91 \nQ 1250 -91 836 529 \nQ 422 1150 422 2328 \nQ 422 3509 836 4129 \nQ 1250 4750 2034 4750 \nz\n\" transform=\"scale(0.015625)\"/>\n       </defs>\n       <use xlink:href=\"#DejaVuSans-32\"/>\n       <use xlink:href=\"#DejaVuSans-30\" x=\"63.623047\"/>\n      </g>\n     </g>\n    </g>\n    <g id=\"xtick_2\">\n     <g id=\"line2d_3\">\n      <path d=\"M 157.275852 224.64 \nL 157.275852 7.2 \n\" clip-path=\"url(#p9c02abbf33)\" style=\"fill: none; stroke: #b0b0b0; stroke-width: 0.8; stroke-linecap: square\"/>\n     </g>\n     <g id=\"line2d_4\">\n      <g>\n       <use xlink:href=\"#m047e08a682\" x=\"157.275852\" y=\"224.64\" style=\"stroke: #000000; stroke-width: 0.8\"/>\n      </g>\n     </g>\n     <g id=\"text_2\">\n      <!-- 40 -->\n      <g transform=\"translate(150.913352 239.238437)scale(0.1 -0.1)\">\n       <defs>\n        <path id=\"DejaVuSans-34\" d=\"M 2419 4116 \nL 825 1625 \nL 2419 1625 \nL 2419 4116 \nz\nM 2253 4666 \nL 3047 4666 \nL 3047 1625 \nL 3713 1625 \nL 3713 1100 \nL 3047 1100 \nL 3047 0 \nL 2419 0 \nL 2419 1100 \nL 313 1100 \nL 313 1709 \nL 2253 4666 \nz\n\" transform=\"scale(0.015625)\"/>\n       </defs>\n       <use xlink:href=\"#DejaVuSans-34\"/>\n       <use xlink:href=\"#DejaVuSans-30\" x=\"63.623047\"/>\n      </g>\n     </g>\n    </g>\n    <g id=\"xtick_3\">\n     <g id=\"line2d_5\">\n      <path d=\"M 224.912216 224.64 \nL 224.912216 7.2 \n\" clip-path=\"url(#p9c02abbf33)\" style=\"fill: none; stroke: #b0b0b0; stroke-width: 0.8; stroke-linecap: square\"/>\n     </g>\n     <g id=\"line2d_6\">\n      <g>\n       <use xlink:href=\"#m047e08a682\" x=\"224.912216\" y=\"224.64\" style=\"stroke: #000000; stroke-width: 0.8\"/>\n      </g>\n     </g>\n     <g id=\"text_3\">\n      <!-- 60 -->\n      <g transform=\"translate(218.549716 239.238437)scale(0.1 -0.1)\">\n       <defs>\n        <path id=\"DejaVuSans-36\" d=\"M 2113 2584 \nQ 1688 2584 1439 2293 \nQ 1191 2003 1191 1497 \nQ 1191 994 1439 701 \nQ 1688 409 2113 409 \nQ 2538 409 2786 701 \nQ 3034 994 3034 1497 \nQ 3034 2003 2786 2293 \nQ 2538 2584 2113 2584 \nz\nM 3366 4563 \nL 3366 3988 \nQ 3128 4100 2886 4159 \nQ 2644 4219 2406 4219 \nQ 1781 4219 1451 3797 \nQ 1122 3375 1075 2522 \nQ 1259 2794 1537 2939 \nQ 1816 3084 2150 3084 \nQ 2853 3084 3261 2657 \nQ 3669 2231 3669 1497 \nQ 3669 778 3244 343 \nQ 2819 -91 2113 -91 \nQ 1303 -91 875 529 \nQ 447 1150 447 2328 \nQ 447 3434 972 4092 \nQ 1497 4750 2381 4750 \nQ 2619 4750 2861 4703 \nQ 3103 4656 3366 4563 \nz\n\" transform=\"scale(0.015625)\"/>\n       </defs>\n       <use xlink:href=\"#DejaVuSans-36\"/>\n       <use xlink:href=\"#DejaVuSans-30\" x=\"63.623047\"/>\n      </g>\n     </g>\n    </g>\n    <g id=\"xtick_4\">\n     <g id=\"line2d_7\">\n      <path d=\"M 292.54858 224.64 \nL 292.54858 7.2 \n\" clip-path=\"url(#p9c02abbf33)\" style=\"fill: none; stroke: #b0b0b0; stroke-width: 0.8; stroke-linecap: square\"/>\n     </g>\n     <g id=\"line2d_8\">\n      <g>\n       <use xlink:href=\"#m047e08a682\" x=\"292.54858\" y=\"224.64\" style=\"stroke: #000000; stroke-width: 0.8\"/>\n      </g>\n     </g>\n     <g id=\"text_4\">\n      <!-- 80 -->\n      <g transform=\"translate(286.18608 239.238437)scale(0.1 -0.1)\">\n       <defs>\n        <path id=\"DejaVuSans-38\" d=\"M 2034 2216 \nQ 1584 2216 1326 1975 \nQ 1069 1734 1069 1313 \nQ 1069 891 1326 650 \nQ 1584 409 2034 409 \nQ 2484 409 2743 651 \nQ 3003 894 3003 1313 \nQ 3003 1734 2745 1975 \nQ 2488 2216 2034 2216 \nz\nM 1403 2484 \nQ 997 2584 770 2862 \nQ 544 3141 544 3541 \nQ 544 4100 942 4425 \nQ 1341 4750 2034 4750 \nQ 2731 4750 3128 4425 \nQ 3525 4100 3525 3541 \nQ 3525 3141 3298 2862 \nQ 3072 2584 2669 2484 \nQ 3125 2378 3379 2068 \nQ 3634 1759 3634 1313 \nQ 3634 634 3220 271 \nQ 2806 -91 2034 -91 \nQ 1263 -91 848 271 \nQ 434 634 434 1313 \nQ 434 1759 690 2068 \nQ 947 2378 1403 2484 \nz\nM 1172 3481 \nQ 1172 3119 1398 2916 \nQ 1625 2713 2034 2713 \nQ 2441 2713 2670 2916 \nQ 2900 3119 2900 3481 \nQ 2900 3844 2670 4047 \nQ 2441 4250 2034 4250 \nQ 1625 4250 1398 4047 \nQ 1172 3844 1172 3481 \nz\n\" transform=\"scale(0.015625)\"/>\n       </defs>\n       <use xlink:href=\"#DejaVuSans-38\"/>\n       <use xlink:href=\"#DejaVuSans-30\" x=\"63.623047\"/>\n      </g>\n     </g>\n    </g>\n    <g id=\"xtick_5\">\n     <g id=\"line2d_9\">\n      <path d=\"M 360.184943 224.64 \nL 360.184943 7.2 \n\" clip-path=\"url(#p9c02abbf33)\" style=\"fill: none; stroke: #b0b0b0; stroke-width: 0.8; stroke-linecap: square\"/>\n     </g>\n     <g id=\"line2d_10\">\n      <g>\n       <use xlink:href=\"#m047e08a682\" x=\"360.184943\" y=\"224.64\" style=\"stroke: #000000; stroke-width: 0.8\"/>\n      </g>\n     </g>\n     <g id=\"text_5\">\n      <!-- 100 -->\n      <g transform=\"translate(350.641193 239.238437)scale(0.1 -0.1)\">\n       <defs>\n        <path id=\"DejaVuSans-31\" d=\"M 794 531 \nL 1825 531 \nL 1825 4091 \nL 703 3866 \nL 703 4441 \nL 1819 4666 \nL 2450 4666 \nL 2450 531 \nL 3481 531 \nL 3481 0 \nL 794 0 \nL 794 531 \nz\n\" transform=\"scale(0.015625)\"/>\n       </defs>\n       <use xlink:href=\"#DejaVuSans-31\"/>\n       <use xlink:href=\"#DejaVuSans-30\" x=\"63.623047\"/>\n       <use xlink:href=\"#DejaVuSans-30\" x=\"127.246094\"/>\n      </g>\n     </g>\n    </g>\n    <g id=\"text_6\">\n     <!-- Percentage of data (Total size = 20000) -->\n     <g transform=\"translate(108.895312 252.916562)scale(0.1 -0.1)\">\n      <defs>\n       <path id=\"DejaVuSans-50\" d=\"M 1259 4147 \nL 1259 2394 \nL 2053 2394 \nQ 2494 2394 2734 2622 \nQ 2975 2850 2975 3272 \nQ 2975 3691 2734 3919 \nQ 2494 4147 2053 4147 \nL 1259 4147 \nz\nM 628 4666 \nL 2053 4666 \nQ 2838 4666 3239 4311 \nQ 3641 3956 3641 3272 \nQ 3641 2581 3239 2228 \nQ 2838 1875 2053 1875 \nL 1259 1875 \nL 1259 0 \nL 628 0 \nL 628 4666 \nz\n\" transform=\"scale(0.015625)\"/>\n       <path id=\"DejaVuSans-65\" d=\"M 3597 1894 \nL 3597 1613 \nL 953 1613 \nQ 991 1019 1311 708 \nQ 1631 397 2203 397 \nQ 2534 397 2845 478 \nQ 3156 559 3463 722 \nL 3463 178 \nQ 3153 47 2828 -22 \nQ 2503 -91 2169 -91 \nQ 1331 -91 842 396 \nQ 353 884 353 1716 \nQ 353 2575 817 3079 \nQ 1281 3584 2069 3584 \nQ 2775 3584 3186 3129 \nQ 3597 2675 3597 1894 \nz\nM 3022 2063 \nQ 3016 2534 2758 2815 \nQ 2500 3097 2075 3097 \nQ 1594 3097 1305 2825 \nQ 1016 2553 972 2059 \nL 3022 2063 \nz\n\" transform=\"scale(0.015625)\"/>\n       <path id=\"DejaVuSans-72\" d=\"M 2631 2963 \nQ 2534 3019 2420 3045 \nQ 2306 3072 2169 3072 \nQ 1681 3072 1420 2755 \nQ 1159 2438 1159 1844 \nL 1159 0 \nL 581 0 \nL 581 3500 \nL 1159 3500 \nL 1159 2956 \nQ 1341 3275 1631 3429 \nQ 1922 3584 2338 3584 \nQ 2397 3584 2469 3576 \nQ 2541 3569 2628 3553 \nL 2631 2963 \nz\n\" transform=\"scale(0.015625)\"/>\n       <path id=\"DejaVuSans-63\" d=\"M 3122 3366 \nL 3122 2828 \nQ 2878 2963 2633 3030 \nQ 2388 3097 2138 3097 \nQ 1578 3097 1268 2742 \nQ 959 2388 959 1747 \nQ 959 1106 1268 751 \nQ 1578 397 2138 397 \nQ 2388 397 2633 464 \nQ 2878 531 3122 666 \nL 3122 134 \nQ 2881 22 2623 -34 \nQ 2366 -91 2075 -91 \nQ 1284 -91 818 406 \nQ 353 903 353 1747 \nQ 353 2603 823 3093 \nQ 1294 3584 2113 3584 \nQ 2378 3584 2631 3529 \nQ 2884 3475 3122 3366 \nz\n\" transform=\"scale(0.015625)\"/>\n       <path id=\"DejaVuSans-6e\" d=\"M 3513 2113 \nL 3513 0 \nL 2938 0 \nL 2938 2094 \nQ 2938 2591 2744 2837 \nQ 2550 3084 2163 3084 \nQ 1697 3084 1428 2787 \nQ 1159 2491 1159 1978 \nL 1159 0 \nL 581 0 \nL 581 3500 \nL 1159 3500 \nL 1159 2956 \nQ 1366 3272 1645 3428 \nQ 1925 3584 2291 3584 \nQ 2894 3584 3203 3211 \nQ 3513 2838 3513 2113 \nz\n\" transform=\"scale(0.015625)\"/>\n       <path id=\"DejaVuSans-74\" d=\"M 1172 4494 \nL 1172 3500 \nL 2356 3500 \nL 2356 3053 \nL 1172 3053 \nL 1172 1153 \nQ 1172 725 1289 603 \nQ 1406 481 1766 481 \nL 2356 481 \nL 2356 0 \nL 1766 0 \nQ 1100 0 847 248 \nQ 594 497 594 1153 \nL 594 3053 \nL 172 3053 \nL 172 3500 \nL 594 3500 \nL 594 4494 \nL 1172 4494 \nz\n\" transform=\"scale(0.015625)\"/>\n       <path id=\"DejaVuSans-61\" d=\"M 2194 1759 \nQ 1497 1759 1228 1600 \nQ 959 1441 959 1056 \nQ 959 750 1161 570 \nQ 1363 391 1709 391 \nQ 2188 391 2477 730 \nQ 2766 1069 2766 1631 \nL 2766 1759 \nL 2194 1759 \nz\nM 3341 1997 \nL 3341 0 \nL 2766 0 \nL 2766 531 \nQ 2569 213 2275 61 \nQ 1981 -91 1556 -91 \nQ 1019 -91 701 211 \nQ 384 513 384 1019 \nQ 384 1609 779 1909 \nQ 1175 2209 1959 2209 \nL 2766 2209 \nL 2766 2266 \nQ 2766 2663 2505 2880 \nQ 2244 3097 1772 3097 \nQ 1472 3097 1187 3025 \nQ 903 2953 641 2809 \nL 641 3341 \nQ 956 3463 1253 3523 \nQ 1550 3584 1831 3584 \nQ 2591 3584 2966 3190 \nQ 3341 2797 3341 1997 \nz\n\" transform=\"scale(0.015625)\"/>\n       <path id=\"DejaVuSans-67\" d=\"M 2906 1791 \nQ 2906 2416 2648 2759 \nQ 2391 3103 1925 3103 \nQ 1463 3103 1205 2759 \nQ 947 2416 947 1791 \nQ 947 1169 1205 825 \nQ 1463 481 1925 481 \nQ 2391 481 2648 825 \nQ 2906 1169 2906 1791 \nz\nM 3481 434 \nQ 3481 -459 3084 -895 \nQ 2688 -1331 1869 -1331 \nQ 1566 -1331 1297 -1286 \nQ 1028 -1241 775 -1147 \nL 775 -588 \nQ 1028 -725 1275 -790 \nQ 1522 -856 1778 -856 \nQ 2344 -856 2625 -561 \nQ 2906 -266 2906 331 \nL 2906 616 \nQ 2728 306 2450 153 \nQ 2172 0 1784 0 \nQ 1141 0 747 490 \nQ 353 981 353 1791 \nQ 353 2603 747 3093 \nQ 1141 3584 1784 3584 \nQ 2172 3584 2450 3431 \nQ 2728 3278 2906 2969 \nL 2906 3500 \nL 3481 3500 \nL 3481 434 \nz\n\" transform=\"scale(0.015625)\"/>\n       <path id=\"DejaVuSans-20\" transform=\"scale(0.015625)\"/>\n       <path id=\"DejaVuSans-6f\" d=\"M 1959 3097 \nQ 1497 3097 1228 2736 \nQ 959 2375 959 1747 \nQ 959 1119 1226 758 \nQ 1494 397 1959 397 \nQ 2419 397 2687 759 \nQ 2956 1122 2956 1747 \nQ 2956 2369 2687 2733 \nQ 2419 3097 1959 3097 \nz\nM 1959 3584 \nQ 2709 3584 3137 3096 \nQ 3566 2609 3566 1747 \nQ 3566 888 3137 398 \nQ 2709 -91 1959 -91 \nQ 1206 -91 779 398 \nQ 353 888 353 1747 \nQ 353 2609 779 3096 \nQ 1206 3584 1959 3584 \nz\n\" transform=\"scale(0.015625)\"/>\n       <path id=\"DejaVuSans-66\" d=\"M 2375 4863 \nL 2375 4384 \nL 1825 4384 \nQ 1516 4384 1395 4259 \nQ 1275 4134 1275 3809 \nL 1275 3500 \nL 2222 3500 \nL 2222 3053 \nL 1275 3053 \nL 1275 0 \nL 697 0 \nL 697 3053 \nL 147 3053 \nL 147 3500 \nL 697 3500 \nL 697 3744 \nQ 697 4328 969 4595 \nQ 1241 4863 1831 4863 \nL 2375 4863 \nz\n\" transform=\"scale(0.015625)\"/>\n       <path id=\"DejaVuSans-64\" d=\"M 2906 2969 \nL 2906 4863 \nL 3481 4863 \nL 3481 0 \nL 2906 0 \nL 2906 525 \nQ 2725 213 2448 61 \nQ 2172 -91 1784 -91 \nQ 1150 -91 751 415 \nQ 353 922 353 1747 \nQ 353 2572 751 3078 \nQ 1150 3584 1784 3584 \nQ 2172 3584 2448 3432 \nQ 2725 3281 2906 2969 \nz\nM 947 1747 \nQ 947 1113 1208 752 \nQ 1469 391 1925 391 \nQ 2381 391 2643 752 \nQ 2906 1113 2906 1747 \nQ 2906 2381 2643 2742 \nQ 2381 3103 1925 3103 \nQ 1469 3103 1208 2742 \nQ 947 2381 947 1747 \nz\n\" transform=\"scale(0.015625)\"/>\n       <path id=\"DejaVuSans-28\" d=\"M 1984 4856 \nQ 1566 4138 1362 3434 \nQ 1159 2731 1159 2009 \nQ 1159 1288 1364 580 \nQ 1569 -128 1984 -844 \nL 1484 -844 \nQ 1016 -109 783 600 \nQ 550 1309 550 2009 \nQ 550 2706 781 3412 \nQ 1013 4119 1484 4856 \nL 1984 4856 \nz\n\" transform=\"scale(0.015625)\"/>\n       <path id=\"DejaVuSans-54\" d=\"M -19 4666 \nL 3928 4666 \nL 3928 4134 \nL 2272 4134 \nL 2272 0 \nL 1638 0 \nL 1638 4134 \nL -19 4134 \nL -19 4666 \nz\n\" transform=\"scale(0.015625)\"/>\n       <path id=\"DejaVuSans-6c\" d=\"M 603 4863 \nL 1178 4863 \nL 1178 0 \nL 603 0 \nL 603 4863 \nz\n\" transform=\"scale(0.015625)\"/>\n       <path id=\"DejaVuSans-73\" d=\"M 2834 3397 \nL 2834 2853 \nQ 2591 2978 2328 3040 \nQ 2066 3103 1784 3103 \nQ 1356 3103 1142 2972 \nQ 928 2841 928 2578 \nQ 928 2378 1081 2264 \nQ 1234 2150 1697 2047 \nL 1894 2003 \nQ 2506 1872 2764 1633 \nQ 3022 1394 3022 966 \nQ 3022 478 2636 193 \nQ 2250 -91 1575 -91 \nQ 1294 -91 989 -36 \nQ 684 19 347 128 \nL 347 722 \nQ 666 556 975 473 \nQ 1284 391 1588 391 \nQ 1994 391 2212 530 \nQ 2431 669 2431 922 \nQ 2431 1156 2273 1281 \nQ 2116 1406 1581 1522 \nL 1381 1569 \nQ 847 1681 609 1914 \nQ 372 2147 372 2553 \nQ 372 3047 722 3315 \nQ 1072 3584 1716 3584 \nQ 2034 3584 2315 3537 \nQ 2597 3491 2834 3397 \nz\n\" transform=\"scale(0.015625)\"/>\n       <path id=\"DejaVuSans-69\" d=\"M 603 3500 \nL 1178 3500 \nL 1178 0 \nL 603 0 \nL 603 3500 \nz\nM 603 4863 \nL 1178 4863 \nL 1178 4134 \nL 603 4134 \nL 603 4863 \nz\n\" transform=\"scale(0.015625)\"/>\n       <path id=\"DejaVuSans-7a\" d=\"M 353 3500 \nL 3084 3500 \nL 3084 2975 \nL 922 459 \nL 3084 459 \nL 3084 0 \nL 275 0 \nL 275 525 \nL 2438 3041 \nL 353 3041 \nL 353 3500 \nz\n\" transform=\"scale(0.015625)\"/>\n       <path id=\"DejaVuSans-3d\" d=\"M 678 2906 \nL 4684 2906 \nL 4684 2381 \nL 678 2381 \nL 678 2906 \nz\nM 678 1631 \nL 4684 1631 \nL 4684 1100 \nL 678 1100 \nL 678 1631 \nz\n\" transform=\"scale(0.015625)\"/>\n       <path id=\"DejaVuSans-29\" d=\"M 513 4856 \nL 1013 4856 \nQ 1481 4119 1714 3412 \nQ 1947 2706 1947 2009 \nQ 1947 1309 1714 600 \nQ 1481 -109 1013 -844 \nL 513 -844 \nQ 928 -128 1133 580 \nQ 1338 1288 1338 2009 \nQ 1338 2731 1133 3434 \nQ 928 4138 513 4856 \nz\n\" transform=\"scale(0.015625)\"/>\n      </defs>\n      <use xlink:href=\"#DejaVuSans-50\"/>\n      <use xlink:href=\"#DejaVuSans-65\" x=\"56.677734\"/>\n      <use xlink:href=\"#DejaVuSans-72\" x=\"118.201172\"/>\n      <use xlink:href=\"#DejaVuSans-63\" x=\"157.064453\"/>\n      <use xlink:href=\"#DejaVuSans-65\" x=\"212.044922\"/>\n      <use xlink:href=\"#DejaVuSans-6e\" x=\"273.568359\"/>\n      <use xlink:href=\"#DejaVuSans-74\" x=\"336.947266\"/>\n      <use xlink:href=\"#DejaVuSans-61\" x=\"376.15625\"/>\n      <use xlink:href=\"#DejaVuSans-67\" x=\"437.435547\"/>\n      <use xlink:href=\"#DejaVuSans-65\" x=\"500.912109\"/>\n      <use xlink:href=\"#DejaVuSans-20\" x=\"562.435547\"/>\n      <use xlink:href=\"#DejaVuSans-6f\" x=\"594.222656\"/>\n      <use xlink:href=\"#DejaVuSans-66\" x=\"655.404297\"/>\n      <use xlink:href=\"#DejaVuSans-20\" x=\"690.609375\"/>\n      <use xlink:href=\"#DejaVuSans-64\" x=\"722.396484\"/>\n      <use xlink:href=\"#DejaVuSans-61\" x=\"785.873047\"/>\n      <use xlink:href=\"#DejaVuSans-74\" x=\"847.152344\"/>\n      <use xlink:href=\"#DejaVuSans-61\" x=\"886.361328\"/>\n      <use xlink:href=\"#DejaVuSans-20\" x=\"947.640625\"/>\n      <use xlink:href=\"#DejaVuSans-28\" x=\"979.427734\"/>\n      <use xlink:href=\"#DejaVuSans-54\" x=\"1018.441406\"/>\n      <use xlink:href=\"#DejaVuSans-6f\" x=\"1062.525391\"/>\n      <use xlink:href=\"#DejaVuSans-74\" x=\"1123.707031\"/>\n      <use xlink:href=\"#DejaVuSans-61\" x=\"1162.916016\"/>\n      <use xlink:href=\"#DejaVuSans-6c\" x=\"1224.195312\"/>\n      <use xlink:href=\"#DejaVuSans-20\" x=\"1251.978516\"/>\n      <use xlink:href=\"#DejaVuSans-73\" x=\"1283.765625\"/>\n      <use xlink:href=\"#DejaVuSans-69\" x=\"1335.865234\"/>\n      <use xlink:href=\"#DejaVuSans-7a\" x=\"1363.648438\"/>\n      <use xlink:href=\"#DejaVuSans-65\" x=\"1416.138672\"/>\n      <use xlink:href=\"#DejaVuSans-20\" x=\"1477.662109\"/>\n      <use xlink:href=\"#DejaVuSans-3d\" x=\"1509.449219\"/>\n      <use xlink:href=\"#DejaVuSans-20\" x=\"1593.238281\"/>\n      <use xlink:href=\"#DejaVuSans-32\" x=\"1625.025391\"/>\n      <use xlink:href=\"#DejaVuSans-30\" x=\"1688.648438\"/>\n      <use xlink:href=\"#DejaVuSans-30\" x=\"1752.271484\"/>\n      <use xlink:href=\"#DejaVuSans-30\" x=\"1815.894531\"/>\n      <use xlink:href=\"#DejaVuSans-30\" x=\"1879.517578\"/>\n      <use xlink:href=\"#DejaVuSans-29\" x=\"1943.140625\"/>\n     </g>\n    </g>\n   </g>\n   <g id=\"matplotlib.axis_2\">\n    <g id=\"ytick_1\">\n     <g id=\"line2d_11\">\n      <path d=\"M 40.603125 210.890637 \nL 375.403125 210.890637 \n\" clip-path=\"url(#p9c02abbf33)\" style=\"fill: none; stroke: #b0b0b0; stroke-width: 0.8; stroke-linecap: square\"/>\n     </g>\n     <g id=\"line2d_12\">\n      <defs>\n       <path id=\"md59344eef3\" d=\"M 0 0 \nL -3.5 0 \n\" style=\"stroke: #000000; stroke-width: 0.8\"/>\n      </defs>\n      <g>\n       <use xlink:href=\"#md59344eef3\" x=\"40.603125\" y=\"210.890637\" style=\"stroke: #000000; stroke-width: 0.8\"/>\n      </g>\n     </g>\n     <g id=\"text_7\">\n      <!-- 5 -->\n      <g transform=\"translate(27.240625 214.689855)scale(0.1 -0.1)\">\n       <defs>\n        <path id=\"DejaVuSans-35\" d=\"M 691 4666 \nL 3169 4666 \nL 3169 4134 \nL 1269 4134 \nL 1269 2991 \nQ 1406 3038 1543 3061 \nQ 1681 3084 1819 3084 \nQ 2600 3084 3056 2656 \nQ 3513 2228 3513 1497 \nQ 3513 744 3044 326 \nQ 2575 -91 1722 -91 \nQ 1428 -91 1123 -41 \nQ 819 9 494 109 \nL 494 744 \nQ 775 591 1075 516 \nQ 1375 441 1709 441 \nQ 2250 441 2565 725 \nQ 2881 1009 2881 1497 \nQ 2881 1984 2565 2268 \nQ 2250 2553 1709 2553 \nQ 1456 2553 1204 2497 \nQ 953 2441 691 2322 \nL 691 4666 \nz\n\" transform=\"scale(0.015625)\"/>\n       </defs>\n       <use xlink:href=\"#DejaVuSans-35\"/>\n      </g>\n     </g>\n    </g>\n    <g id=\"ytick_2\">\n     <g id=\"line2d_13\">\n      <path d=\"M 40.603125 185.2114 \nL 375.403125 185.2114 \n\" clip-path=\"url(#p9c02abbf33)\" style=\"fill: none; stroke: #b0b0b0; stroke-width: 0.8; stroke-linecap: square\"/>\n     </g>\n     <g id=\"line2d_14\">\n      <g>\n       <use xlink:href=\"#md59344eef3\" x=\"40.603125\" y=\"185.2114\" style=\"stroke: #000000; stroke-width: 0.8\"/>\n      </g>\n     </g>\n     <g id=\"text_8\">\n      <!-- 10 -->\n      <g transform=\"translate(20.878125 189.010618)scale(0.1 -0.1)\">\n       <use xlink:href=\"#DejaVuSans-31\"/>\n       <use xlink:href=\"#DejaVuSans-30\" x=\"63.623047\"/>\n      </g>\n     </g>\n    </g>\n    <g id=\"ytick_3\">\n     <g id=\"line2d_15\">\n      <path d=\"M 40.603125 159.532163 \nL 375.403125 159.532163 \n\" clip-path=\"url(#p9c02abbf33)\" style=\"fill: none; stroke: #b0b0b0; stroke-width: 0.8; stroke-linecap: square\"/>\n     </g>\n     <g id=\"line2d_16\">\n      <g>\n       <use xlink:href=\"#md59344eef3\" x=\"40.603125\" y=\"159.532163\" style=\"stroke: #000000; stroke-width: 0.8\"/>\n      </g>\n     </g>\n     <g id=\"text_9\">\n      <!-- 15 -->\n      <g transform=\"translate(20.878125 163.331381)scale(0.1 -0.1)\">\n       <use xlink:href=\"#DejaVuSans-31\"/>\n       <use xlink:href=\"#DejaVuSans-35\" x=\"63.623047\"/>\n      </g>\n     </g>\n    </g>\n    <g id=\"ytick_4\">\n     <g id=\"line2d_17\">\n      <path d=\"M 40.603125 133.852926 \nL 375.403125 133.852926 \n\" clip-path=\"url(#p9c02abbf33)\" style=\"fill: none; stroke: #b0b0b0; stroke-width: 0.8; stroke-linecap: square\"/>\n     </g>\n     <g id=\"line2d_18\">\n      <g>\n       <use xlink:href=\"#md59344eef3\" x=\"40.603125\" y=\"133.852926\" style=\"stroke: #000000; stroke-width: 0.8\"/>\n      </g>\n     </g>\n     <g id=\"text_10\">\n      <!-- 20 -->\n      <g transform=\"translate(20.878125 137.652144)scale(0.1 -0.1)\">\n       <use xlink:href=\"#DejaVuSans-32\"/>\n       <use xlink:href=\"#DejaVuSans-30\" x=\"63.623047\"/>\n      </g>\n     </g>\n    </g>\n    <g id=\"ytick_5\">\n     <g id=\"line2d_19\">\n      <path d=\"M 40.603125 108.173689 \nL 375.403125 108.173689 \n\" clip-path=\"url(#p9c02abbf33)\" style=\"fill: none; stroke: #b0b0b0; stroke-width: 0.8; stroke-linecap: square\"/>\n     </g>\n     <g id=\"line2d_20\">\n      <g>\n       <use xlink:href=\"#md59344eef3\" x=\"40.603125\" y=\"108.173689\" style=\"stroke: #000000; stroke-width: 0.8\"/>\n      </g>\n     </g>\n     <g id=\"text_11\">\n      <!-- 25 -->\n      <g transform=\"translate(20.878125 111.972907)scale(0.1 -0.1)\">\n       <use xlink:href=\"#DejaVuSans-32\"/>\n       <use xlink:href=\"#DejaVuSans-35\" x=\"63.623047\"/>\n      </g>\n     </g>\n    </g>\n    <g id=\"ytick_6\">\n     <g id=\"line2d_21\">\n      <path d=\"M 40.603125 82.494452 \nL 375.403125 82.494452 \n\" clip-path=\"url(#p9c02abbf33)\" style=\"fill: none; stroke: #b0b0b0; stroke-width: 0.8; stroke-linecap: square\"/>\n     </g>\n     <g id=\"line2d_22\">\n      <g>\n       <use xlink:href=\"#md59344eef3\" x=\"40.603125\" y=\"82.494452\" style=\"stroke: #000000; stroke-width: 0.8\"/>\n      </g>\n     </g>\n     <g id=\"text_12\">\n      <!-- 30 -->\n      <g transform=\"translate(20.878125 86.29367)scale(0.1 -0.1)\">\n       <defs>\n        <path id=\"DejaVuSans-33\" d=\"M 2597 2516 \nQ 3050 2419 3304 2112 \nQ 3559 1806 3559 1356 \nQ 3559 666 3084 287 \nQ 2609 -91 1734 -91 \nQ 1441 -91 1130 -33 \nQ 819 25 488 141 \nL 488 750 \nQ 750 597 1062 519 \nQ 1375 441 1716 441 \nQ 2309 441 2620 675 \nQ 2931 909 2931 1356 \nQ 2931 1769 2642 2001 \nQ 2353 2234 1838 2234 \nL 1294 2234 \nL 1294 2753 \nL 1863 2753 \nQ 2328 2753 2575 2939 \nQ 2822 3125 2822 3475 \nQ 2822 3834 2567 4026 \nQ 2313 4219 1838 4219 \nQ 1578 4219 1281 4162 \nQ 984 4106 628 3988 \nL 628 4550 \nQ 988 4650 1302 4700 \nQ 1616 4750 1894 4750 \nQ 2613 4750 3031 4423 \nQ 3450 4097 3450 3541 \nQ 3450 3153 3228 2886 \nQ 3006 2619 2597 2516 \nz\n\" transform=\"scale(0.015625)\"/>\n       </defs>\n       <use xlink:href=\"#DejaVuSans-33\"/>\n       <use xlink:href=\"#DejaVuSans-30\" x=\"63.623047\"/>\n      </g>\n     </g>\n    </g>\n    <g id=\"ytick_7\">\n     <g id=\"line2d_23\">\n      <path d=\"M 40.603125 56.815215 \nL 375.403125 56.815215 \n\" clip-path=\"url(#p9c02abbf33)\" style=\"fill: none; stroke: #b0b0b0; stroke-width: 0.8; stroke-linecap: square\"/>\n     </g>\n     <g id=\"line2d_24\">\n      <g>\n       <use xlink:href=\"#md59344eef3\" x=\"40.603125\" y=\"56.815215\" style=\"stroke: #000000; stroke-width: 0.8\"/>\n      </g>\n     </g>\n     <g id=\"text_13\">\n      <!-- 35 -->\n      <g transform=\"translate(20.878125 60.614433)scale(0.1 -0.1)\">\n       <use xlink:href=\"#DejaVuSans-33\"/>\n       <use xlink:href=\"#DejaVuSans-35\" x=\"63.623047\"/>\n      </g>\n     </g>\n    </g>\n    <g id=\"ytick_8\">\n     <g id=\"line2d_25\">\n      <path d=\"M 40.603125 31.135978 \nL 375.403125 31.135978 \n\" clip-path=\"url(#p9c02abbf33)\" style=\"fill: none; stroke: #b0b0b0; stroke-width: 0.8; stroke-linecap: square\"/>\n     </g>\n     <g id=\"line2d_26\">\n      <g>\n       <use xlink:href=\"#md59344eef3\" x=\"40.603125\" y=\"31.135978\" style=\"stroke: #000000; stroke-width: 0.8\"/>\n      </g>\n     </g>\n     <g id=\"text_14\">\n      <!-- 40 -->\n      <g transform=\"translate(20.878125 34.935196)scale(0.1 -0.1)\">\n       <use xlink:href=\"#DejaVuSans-34\"/>\n       <use xlink:href=\"#DejaVuSans-30\" x=\"63.623047\"/>\n      </g>\n     </g>\n    </g>\n    <g id=\"text_15\">\n     <!-- Training time (s) -->\n     <g transform=\"translate(14.798438 156.62625)rotate(-90)scale(0.1 -0.1)\">\n      <defs>\n       <path id=\"DejaVuSans-6d\" d=\"M 3328 2828 \nQ 3544 3216 3844 3400 \nQ 4144 3584 4550 3584 \nQ 5097 3584 5394 3201 \nQ 5691 2819 5691 2113 \nL 5691 0 \nL 5113 0 \nL 5113 2094 \nQ 5113 2597 4934 2840 \nQ 4756 3084 4391 3084 \nQ 3944 3084 3684 2787 \nQ 3425 2491 3425 1978 \nL 3425 0 \nL 2847 0 \nL 2847 2094 \nQ 2847 2600 2669 2842 \nQ 2491 3084 2119 3084 \nQ 1678 3084 1418 2786 \nQ 1159 2488 1159 1978 \nL 1159 0 \nL 581 0 \nL 581 3500 \nL 1159 3500 \nL 1159 2956 \nQ 1356 3278 1631 3431 \nQ 1906 3584 2284 3584 \nQ 2666 3584 2933 3390 \nQ 3200 3197 3328 2828 \nz\n\" transform=\"scale(0.015625)\"/>\n      </defs>\n      <use xlink:href=\"#DejaVuSans-54\"/>\n      <use xlink:href=\"#DejaVuSans-72\" x=\"46.333984\"/>\n      <use xlink:href=\"#DejaVuSans-61\" x=\"87.447266\"/>\n      <use xlink:href=\"#DejaVuSans-69\" x=\"148.726562\"/>\n      <use xlink:href=\"#DejaVuSans-6e\" x=\"176.509766\"/>\n      <use xlink:href=\"#DejaVuSans-69\" x=\"239.888672\"/>\n      <use xlink:href=\"#DejaVuSans-6e\" x=\"267.671875\"/>\n      <use xlink:href=\"#DejaVuSans-67\" x=\"331.050781\"/>\n      <use xlink:href=\"#DejaVuSans-20\" x=\"394.527344\"/>\n      <use xlink:href=\"#DejaVuSans-74\" x=\"426.314453\"/>\n      <use xlink:href=\"#DejaVuSans-69\" x=\"465.523438\"/>\n      <use xlink:href=\"#DejaVuSans-6d\" x=\"493.306641\"/>\n      <use xlink:href=\"#DejaVuSans-65\" x=\"590.71875\"/>\n      <use xlink:href=\"#DejaVuSans-20\" x=\"652.242188\"/>\n      <use xlink:href=\"#DejaVuSans-28\" x=\"684.029297\"/>\n      <use xlink:href=\"#DejaVuSans-73\" x=\"723.042969\"/>\n      <use xlink:href=\"#DejaVuSans-29\" x=\"775.142578\"/>\n     </g>\n    </g>\n   </g>\n   <g id=\"line2d_27\">\n    <path d=\"M 55.821307 214.756364 \nL 89.639489 194.041078 \nL 123.45767 173.615025 \nL 157.275852 152.681036 \nL 191.094034 129.00657 \nL 224.912216 112.263015 \nL 258.730398 90.925038 \nL 292.54858 68.445347 \nL 326.366761 42.800305 \nL 360.184943 17.083636 \n\" clip-path=\"url(#p9c02abbf33)\" style=\"fill: none; stroke: #1f77b4; stroke-width: 1.5; stroke-linecap: square\"/>\n   </g>\n   <g id=\"line2d_28\">\n    <path d=\"M 55.821307 212.444385 \nL 89.639489 206.945464 \nL 123.45767 196.291127 \nL 157.275852 175.362867 \nL 191.094034 167.698425 \nL 224.912216 157.043721 \nL 258.730398 138.806326 \nL 292.54858 130.911944 \nL 326.366761 108.392465 \nL 360.184943 92.512575 \n\" clip-path=\"url(#p9c02abbf33)\" style=\"fill: none; stroke: #ff7f0e; stroke-width: 1.5; stroke-linecap: square\"/>\n   </g>\n   <g id=\"patch_3\">\n    <path d=\"M 40.603125 224.64 \nL 40.603125 7.2 \n\" style=\"fill: none; stroke: #000000; stroke-width: 0.8; stroke-linejoin: miter; stroke-linecap: square\"/>\n   </g>\n   <g id=\"patch_4\">\n    <path d=\"M 375.403125 224.64 \nL 375.403125 7.2 \n\" style=\"fill: none; stroke: #000000; stroke-width: 0.8; stroke-linejoin: miter; stroke-linecap: square\"/>\n   </g>\n   <g id=\"patch_5\">\n    <path d=\"M 40.603125 224.64 \nL 375.403125 224.64 \n\" style=\"fill: none; stroke: #000000; stroke-width: 0.8; stroke-linejoin: miter; stroke-linecap: square\"/>\n   </g>\n   <g id=\"patch_6\">\n    <path d=\"M 40.603125 7.2 \nL 375.403125 7.2 \n\" style=\"fill: none; stroke: #000000; stroke-width: 0.8; stroke-linejoin: miter; stroke-linecap: square\"/>\n   </g>\n   <g id=\"legend_1\">\n    <g id=\"patch_7\">\n     <path d=\"M 47.603125 44.55625 \nL 116.0375 44.55625 \nQ 118.0375 44.55625 118.0375 42.55625 \nL 118.0375 14.2 \nQ 118.0375 12.2 116.0375 12.2 \nL 47.603125 12.2 \nQ 45.603125 12.2 45.603125 14.2 \nL 45.603125 42.55625 \nQ 45.603125 44.55625 47.603125 44.55625 \nz\n\" style=\"fill: #ffffff; opacity: 0.8; stroke: #cccccc; stroke-linejoin: miter\"/>\n    </g>\n    <g id=\"line2d_29\">\n     <path d=\"M 49.603125 20.298437 \nL 59.603125 20.298437 \nL 69.603125 20.298437 \n\" style=\"fill: none; stroke: #1f77b4; stroke-width: 1.5; stroke-linecap: square\"/>\n    </g>\n    <g id=\"text_16\">\n     <!-- Serial -->\n     <g transform=\"translate(77.603125 23.798437)scale(0.1 -0.1)\">\n      <defs>\n       <path id=\"DejaVuSans-53\" d=\"M 3425 4513 \nL 3425 3897 \nQ 3066 4069 2747 4153 \nQ 2428 4238 2131 4238 \nQ 1616 4238 1336 4038 \nQ 1056 3838 1056 3469 \nQ 1056 3159 1242 3001 \nQ 1428 2844 1947 2747 \nL 2328 2669 \nQ 3034 2534 3370 2195 \nQ 3706 1856 3706 1288 \nQ 3706 609 3251 259 \nQ 2797 -91 1919 -91 \nQ 1588 -91 1214 -16 \nQ 841 59 441 206 \nL 441 856 \nQ 825 641 1194 531 \nQ 1563 422 1919 422 \nQ 2459 422 2753 634 \nQ 3047 847 3047 1241 \nQ 3047 1584 2836 1778 \nQ 2625 1972 2144 2069 \nL 1759 2144 \nQ 1053 2284 737 2584 \nQ 422 2884 422 3419 \nQ 422 4038 858 4394 \nQ 1294 4750 2059 4750 \nQ 2388 4750 2728 4690 \nQ 3069 4631 3425 4513 \nz\n\" transform=\"scale(0.015625)\"/>\n      </defs>\n      <use xlink:href=\"#DejaVuSans-53\"/>\n      <use xlink:href=\"#DejaVuSans-65\" x=\"63.476562\"/>\n      <use xlink:href=\"#DejaVuSans-72\" x=\"125\"/>\n      <use xlink:href=\"#DejaVuSans-69\" x=\"166.113281\"/>\n      <use xlink:href=\"#DejaVuSans-61\" x=\"193.896484\"/>\n      <use xlink:href=\"#DejaVuSans-6c\" x=\"255.175781\"/>\n     </g>\n    </g>\n    <g id=\"line2d_30\">\n     <path d=\"M 49.603125 34.976562 \nL 59.603125 34.976562 \nL 69.603125 34.976562 \n\" style=\"fill: none; stroke: #ff7f0e; stroke-width: 1.5; stroke-linecap: square\"/>\n    </g>\n    <g id=\"text_17\">\n     <!-- Parallel -->\n     <g transform=\"translate(77.603125 38.476562)scale(0.1 -0.1)\">\n      <use xlink:href=\"#DejaVuSans-50\"/>\n      <use xlink:href=\"#DejaVuSans-61\" x=\"55.802734\"/>\n      <use xlink:href=\"#DejaVuSans-72\" x=\"117.082031\"/>\n      <use xlink:href=\"#DejaVuSans-61\" x=\"158.195312\"/>\n      <use xlink:href=\"#DejaVuSans-6c\" x=\"219.474609\"/>\n      <use xlink:href=\"#DejaVuSans-6c\" x=\"247.257812\"/>\n      <use xlink:href=\"#DejaVuSans-65\" x=\"275.041016\"/>\n      <use xlink:href=\"#DejaVuSans-6c\" x=\"336.564453\"/>\n     </g>\n    </g>\n   </g>\n  </g>\n </g>\n <defs>\n  <clipPath id=\"p9c02abbf33\">\n   <rect x=\"40.603125\" y=\"7.2\" width=\"334.8\" height=\"217.44\"/>\n  </clipPath>\n </defs>\n</svg>\n",
      "text/plain": [
       "<Figure size 432x288 with 1 Axes>"
      ]
     },
     "metadata": {
      "needs_background": "light"
     },
     "output_type": "display_data"
    }
   ],
   "source": [
    "plt.figure(figsize=(6, 4))\n",
    "plt.plot(range(10, 100+10, 10), serial_times, label=\"Serial\")\n",
    "plt.plot(range(10, 100+10, 10), parallel_times, label=\"Parallel\")\n",
    "\n",
    "plt.xlabel(f\"Percentage of data (Total size = {len(train)})\")\n",
    "plt.ylabel(f\"Training time (s)\")\n",
    "plt.legend()\n",
    "plt.grid()"
   ]
  },
  {
   "cell_type": "markdown",
   "id": "bd243bf3",
   "metadata": {
    "papermill": {
     "duration": null,
     "end_time": null,
     "exception": null,
     "start_time": null,
     "status": "completed"
    },
    "tags": []
   },
   "source": [
    "Training times seem to be linear in dataset size. We observe an improvement in training time with parallel processing by a fixed factor. Note that there is negligible overhead with parallelization and significant speedup of more than 1.5x!"
   ]
  },
  {
   "cell_type": "markdown",
   "id": "bec3a3a5",
   "metadata": {},
   "source": [
    "### Results with four levels"
   ]
  },
  {
   "cell_type": "code",
   "execution_count": 40,
   "id": "23086415",
   "metadata": {},
   "outputs": [
    {
     "data": {
      "text/html": [
       "<div>\n",
       "<style scoped>\n",
       "    .dataframe tbody tr th:only-of-type {\n",
       "        vertical-align: middle;\n",
       "    }\n",
       "\n",
       "    .dataframe tbody tr th {\n",
       "        vertical-align: top;\n",
       "    }\n",
       "\n",
       "    .dataframe thead th {\n",
       "        text-align: right;\n",
       "    }\n",
       "</style>\n",
       "<table border=\"1\" class=\"dataframe\">\n",
       "  <thead>\n",
       "    <tr style=\"text-align: right;\">\n",
       "      <th></th>\n",
       "      <th>lr_0</th>\n",
       "      <th>lr_cnt_0</th>\n",
       "      <th>rf_svd_0</th>\n",
       "      <th>xgb_1</th>\n",
       "      <th>blender_1</th>\n",
       "      <th>blender_rk_1</th>\n",
       "      <th>blender_3</th>\n",
       "    </tr>\n",
       "  </thead>\n",
       "  <tbody>\n",
       "    <tr>\n",
       "      <th>cv_roc</th>\n",
       "      <td>0.9322 ± 0.0038</td>\n",
       "      <td>0.9439 ± 0.0038</td>\n",
       "      <td>0.8782 ± 0.0034</td>\n",
       "      <td>0.9439 ± 0.0038</td>\n",
       "      <td>0.9485 ± 0.0038</td>\n",
       "      <td>0.9493 ± 0.0038</td>\n",
       "      <td>0.9488 ± 0.0038</td>\n",
       "    </tr>\n",
       "    <tr>\n",
       "      <th>cv_acc</th>\n",
       "      <td>0.8565 ± 0.0036</td>\n",
       "      <td>0.8786 ± 0.0047</td>\n",
       "      <td>0.7978 ± 0.0011</td>\n",
       "      <td>0.8778 ± 0.0035</td>\n",
       "      <td>0.8687 ± 0.0101</td>\n",
       "      <td>NaN</td>\n",
       "      <td>NaN</td>\n",
       "    </tr>\n",
       "    <tr>\n",
       "      <th>test_roc</th>\n",
       "      <td>0.9404</td>\n",
       "      <td>0.9473</td>\n",
       "      <td>0.8794</td>\n",
       "      <td>0.9498</td>\n",
       "      <td>0.9538</td>\n",
       "      <td>0.9537</td>\n",
       "      <td>0.9543</td>\n",
       "    </tr>\n",
       "    <tr>\n",
       "      <th>test_acc</th>\n",
       "      <td>0.871</td>\n",
       "      <td>0.8838</td>\n",
       "      <td>0.7976</td>\n",
       "      <td>0.886</td>\n",
       "      <td>0.8794</td>\n",
       "      <td>NaN</td>\n",
       "      <td>NaN</td>\n",
       "    </tr>\n",
       "  </tbody>\n",
       "</table>\n",
       "</div>"
      ],
      "text/plain": [
       "                     lr_0         lr_cnt_0         rf_svd_0            xgb_1  \\\n",
       "cv_roc    0.9322 ± 0.0038  0.9439 ± 0.0038  0.8782 ± 0.0034  0.9439 ± 0.0038   \n",
       "cv_acc    0.8565 ± 0.0036  0.8786 ± 0.0047  0.7978 ± 0.0011  0.8778 ± 0.0035   \n",
       "test_roc           0.9404           0.9473           0.8794           0.9498   \n",
       "test_acc            0.871           0.8838           0.7976            0.886   \n",
       "\n",
       "                blender_1     blender_rk_1        blender_3  \n",
       "cv_roc    0.9485 ± 0.0038  0.9493 ± 0.0038  0.9488 ± 0.0038  \n",
       "cv_acc    0.8687 ± 0.0101              NaN              NaN  \n",
       "test_roc           0.9538           0.9537           0.9543  \n",
       "test_acc           0.8794              NaN              NaN  "
      ]
     },
     "execution_count": 40,
     "metadata": {},
     "output_type": "execute_result"
    }
   ],
   "source": [
    "update_results(results, parallel).T.drop(['xgb_pll_1', 'blender_rk_pll_1'], axis=1)"
   ]
  },
  {
   "cell_type": "markdown",
   "id": "0cd3197b",
   "metadata": {},
   "source": [
    "This deep stack still looks good with good CV score and best test AUC score. Note that this improves upon the previous blending solution."
   ]
  },
  {
   "cell_type": "code",
   "execution_count": null,
   "id": "a9c247c5",
   "metadata": {},
   "outputs": [],
   "source": []
  }
 ],
 "metadata": {
  "interpreter": {
   "hash": "a55a0d1272a360f93e747858d443ec26da69f69eac36db3e567a961ca624a861"
  },
  "kernelspec": {
   "display_name": "Python 3.9.12 ('ml')",
   "language": "python",
   "name": "python3"
  },
  "language_info": {
   "codemirror_mode": {
    "name": "ipython",
    "version": 3
   },
   "file_extension": ".py",
   "mimetype": "text/x-python",
   "name": "python",
   "nbconvert_exporter": "python",
   "pygments_lexer": "ipython3",
   "version": "3.9.12"
  },
  "papermill": {
   "default_parameters": {},
   "duration": 829.870818,
   "end_time": "2022-01-07T14:24:22.128666",
   "environment_variables": {},
   "exception": null,
   "input_path": "blending-stacking.ipynb",
   "output_path": "blending-stacking.ipynb",
   "parameters": {},
   "start_time": "2022-01-07T14:10:32.257848",
   "version": "2.3.3"
  }
 },
 "nbformat": 4,
 "nbformat_minor": 5
}
