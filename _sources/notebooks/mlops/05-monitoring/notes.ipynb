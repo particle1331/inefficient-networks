{
 "cells": [
  {
   "cell_type": "markdown",
   "metadata": {},
   "source": [
    "# Model Monitoring"
   ]
  },
  {
   "cell_type": "markdown",
   "metadata": {},
   "source": [
    "![Status](https://img.shields.io/static/v1.svg?label=Status&message=Finished&color=brightgreen)\n",
    "[![Source](https://img.shields.io/static/v1.svg?label=GitHub&message=Source&color=181717&logo=GitHub)](https://github.com/particle1331/inefficient-networks/blob/master/docs/notebooks/mlops/04-deployment)\n",
    "[![Stars](https://img.shields.io/github/stars/particle1331/inefficient-networks?style=social)](https://github.com/particle1331/inefficient-networks)\n",
    "\n",
    "```text\n",
    "𝗔𝘁𝘁𝗿𝗶𝗯𝘂𝘁𝗶𝗼𝗻: Notes for Module 5 of the MLOps Zoomcamp (2022) by DataTalks.Club.\n",
    "```\n",
    "\n",
    "---"
   ]
  },
  {
   "cell_type": "markdown",
   "metadata": {},
   "source": [
    "## Introduction\n",
    "\n",
    "Monitoring is a critical but often overlooked phase of the model life cycle[^ref]. During training, a model studies past examples. But a production model works with new data which sooner or later deviates from training data. The effects can range from [silly product recommendations](https://twitter.com/GirlFromBlupo/status/982156453396996096) to [multimillion dollar losses](https://www.fiddler.ai/blog/zillow-offers-a-case-for-model-risk-management). \n",
    "Note that the latter case demonstrates that impact on downstream business KPIs can only be noticed once damage has already been done. Hence, to operate ML models in production successfully, we need near real-time view of model performance. \n",
    "\n",
    "Monitoring can include: tests on model correctness, feature and target drift, prediction probability drift, data outage, schema change, underperforming segments, and so on. Adding visibility to all aspects of the data and model\n",
    "prediction pipeline give us better chances of finding out what causes change in model performance.\n",
    "\n",
    "\n",
    "[^ref]: This introduction is based on the [series of blog posts](https://evidentlyai.com/blog#!/tfeeds/393523502011/c/machine%20learning%20monitoring%20series) on ML monitoring by [Evidently AI](https://evidentlyai.com/).\n"
   ]
  },
  {
   "cell_type": "markdown",
   "metadata": {},
   "source": [
    "```{margin}\n",
    "[`evidentlyai.com/blog`](https://evidentlyai.com/blog/machine-learning-monitoring-data-and-concept-drift)\n",
    "```\n",
    "```{figure} ../../../img/data_drift.webp\n",
    "---\n",
    "width: 40em\n",
    "---\n",
    "Gradual model decay due to data drift in source channel distribution.\n",
    "```\n",
    "\n",
    "```{margin}\n",
    "[`evidentlyai.com/blog`](https://evidentlyai.com/blog/machine-learning-monitoring-data-and-concept-drift)\n",
    "```\n",
    "```{figure} ../../../img/concept_drift.png\n",
    "---\n",
    "width: 40em\n",
    "---\n",
    "Concept drift can be observed here as a change in target distribution for a certain feature value. \n",
    "```"
   ]
  },
  {
   "cell_type": "markdown",
   "metadata": {},
   "source": [
    "Deviation of data in production from some reference data distribution, e.g. training data, is known as **data drift**. There is also the related notion of **concept drift** where the feature-target relationship changes over time. In practice, this semantic distinction makes little difference. More often than not, the drift will be combined and subtle in causing model degradation. Another possibility is that the models themselves can affect data distribution, e.g. recommender systems.\n",
    "\n",
    "\n",
    "```{margin}\n",
    "[`evidentlyai.com/blog`](https://evidentlyai.com/blog/machine-learning-monitoring-data-and-concept-drift)\n",
    "```\n",
    "```{figure} ../../../img/sudden_concept_drift.png\n",
    "---\n",
    "width: 40em\n",
    "---\n",
    "This scenario makes it difficult to separate concept drift and data drift. Data drift occurs\n",
    "as users become confined in their homes, resulting in different user behaviors. There \n",
    "is also concept drift in that the concept of loungewear as distinct from work clothes \n",
    "also begins to change.\n",
    "```"
   ]
  },
  {
   "cell_type": "markdown",
   "metadata": {},
   "source": [
    "Another issue for production models is that **data pipelines just break**: we can have malformed data, we can lose access or database outages can occur, and values which are never missing during training are now missing. Or we can have code that does not handle corner cases that are only introduced in production. If a model receives wrong or unusual input, it will generally make an unreliable prediction."
   ]
  },
  {
   "cell_type": "markdown",
   "metadata": {},
   "source": [
    "```{margin}\n",
    "[`evidentlyai.com/blog`](https://evidentlyai.com/blog/machine-learning-monitoring-what-can-go-wrong-with-your-data)\n",
    "```\n",
    "```{figure} ../../../img/data_schema_change.webp\n",
    "---\n",
    "width: 40em\n",
    "---\n",
    "Schema change can cause data processing pipelines to fail.\n",
    "```"
   ]
  },
  {
   "cell_type": "markdown",
   "metadata": {},
   "source": [
    "Note that this can be implemented along with more traditional monitoring of software services such as **health checks** for broken components, CPU and memory utilization, latency, and so on. Monitoring data-based services just adds an extra layer of complexity."
   ]
  },
  {
   "cell_type": "markdown",
   "metadata": {},
   "source": [
    "```{margin}\n",
    "[`evidentlyai.com/blog`](https://evidentlyai.com/machine-learning-monitoring-how-to-track-data-quality-and-integrity)\n",
    "```\n",
    "```{figure} ../../../img/sensor_statistic.png\n",
    "---\n",
    "width: 40em\n",
    "---\n",
    "Temperature feature statistics indicate that the sensor has started to failed.\n",
    "```\n",
    "\n",
    "```{margin}\n",
    "[`evidentlyai.com/blog`](https://evidentlyai.com/machine-learning-monitoring-how-to-track-data-quality-and-integrity)\n",
    "```\n",
    "```{figure} ../../../img/model_calls.png\n",
    "---\n",
    "width: 40em\n",
    "---\n",
    "Zero model calls can indicate that the service has crashed.\n",
    "```"
   ]
  },
  {
   "cell_type": "markdown",
   "metadata": {},
   "source": [
    "In mature systems, monitoring becomes a critical component that connects production with modeling. If we detect a quality drop, we can trigger retraining or step back into the research phase to issue a model remake. Here quality drop can be measured in terms of usual technical metrics such as accuracy or F1 score[^ref2]. \n",
    "\n",
    "[^ref2]: As usual, metrics values are only useful when interpreted in the context of business goals."
   ]
  },
  {
   "cell_type": "markdown",
   "metadata": {},
   "source": [
    "```{margin}\n",
    "[`evidentlyai.com/blog`](https://evidentlyai.com/blog/machine-learning-monitoring-what-it-is-and-how-it-differs)\n",
    "```\n",
    "```{figure} ../../../img/model_lifecycle_2.png\n",
    "---\n",
    "width: 40em\n",
    "---\n",
    "Monitoring as part of model lifecycle that connects production to the research phase of a project.\n",
    "```"
   ]
  },
  {
   "cell_type": "markdown",
   "metadata": {},
   "source": [
    "```{margin}\n",
    "[`evidentlyai.com/blog`](https://evidentlyai.com/blog/machine-learning-monitoring-data-and-concept-drift)\n",
    "```\n",
    "```{figure} ../../../img/model_decay_retraining.webp\n",
    "---\n",
    "width: 40em\n",
    "---\n",
    "Retraining models periodically to maintain performance. This should be effective for tasks with data drift and not much concept drift. Period size generally depends on the model and the task. Large vision and language models can last years without needing an update. But models that perform forecasting typically need to be retrained at shorter intervals.\n",
    "```"
   ]
  },
  {
   "cell_type": "markdown",
   "metadata": {},
   "source": []
  }
 ],
 "metadata": {
  "kernelspec": {
   "display_name": "Python 3.9.12 ('ml')",
   "language": "python",
   "name": "python3"
  },
  "language_info": {
   "codemirror_mode": {
    "name": "ipython",
    "version": 3
   },
   "file_extension": ".py",
   "mimetype": "text/x-python",
   "name": "python",
   "nbconvert_exporter": "python",
   "pygments_lexer": "ipython3",
   "version": "3.9.12"
  },
  "orig_nbformat": 4,
  "vscode": {
   "interpreter": {
    "hash": "a55a0d1272a360f93e747858d443ec26da69f69eac36db3e567a961ca624a861"
   }
  }
 },
 "nbformat": 4,
 "nbformat_minor": 2
}
